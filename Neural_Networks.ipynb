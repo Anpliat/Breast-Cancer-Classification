{
 "cells": [
  {
   "cell_type": "markdown",
   "metadata": {
    "id": "hFGGsz1NJdNB"
   },
   "source": [
    "---\n",
    "# <center>Note: Due to issues with TensorFlow module installation in Jupyter notebook, we used <font color='red'>Google Colaboratory</font> for creating a neural network model<center>\n",
    "---"
   ]
  },
  {
   "cell_type": "code",
   "execution_count": 1,
   "metadata": {
    "id": "mpXayHHDHjUR"
   },
   "outputs": [],
   "source": [
    "####### Import Packages\n",
    "import matplotlib.pyplot as plt\n",
    "import numpy as np\n",
    "import pandas as pd\n",
    "import seaborn as sns\n",
    "import sklearn\n",
    "from collections import Counter\n",
    "from sklearn import datasets\n",
    "from sklearn import metrics\n",
    "from sklearn import model_selection\n",
    "from sklearn.datasets import load_breast_cancer\n",
    "from sklearn.dummy import DummyClassifier\n",
    "from sklearn.ensemble import GradientBoostingClassifier\n",
    "from sklearn.ensemble import RandomForestClassifier\n",
    "from sklearn.linear_model import LogisticRegression\n",
    "from sklearn.metrics import accuracy_score\n",
    "from sklearn.metrics import classification_report\n",
    "from sklearn.metrics import confusion_matrix\n",
    "from sklearn.model_selection import cross_val_score\n",
    "from sklearn.model_selection import RepeatedStratifiedKFold\n",
    "from sklearn.model_selection import StratifiedShuffleSplit\n",
    "from sklearn.naive_bayes import GaussianNB\n",
    "from sklearn.neighbors import KNeighborsClassifier\n",
    "from sklearn.pipeline import Pipeline\n",
    "from sklearn.preprocessing import StandardScaler\n",
    "from sklearn.svm import SVC\n",
    "from sklearn.tree import DecisionTreeClassifier\n",
    "from matplotlib.ticker import FuncFormatter"
   ]
  },
  {
   "cell_type": "code",
   "execution_count": 2,
   "metadata": {
    "id": "XHQ625C2HjUT"
   },
   "outputs": [],
   "source": [
    "####### Import Packages for Neural Networks\n",
    "import keras\n",
    "from keras.models import Sequential          # sequential module\n",
    "from keras.layers import Dense               # dense module for hidden layers\n",
    "from keras.layers import LeakyReLU,PReLU,ELU # activation functions\n",
    "from keras.layers import Dropout             # dropout Layer\n",
    "from tensorflow.keras.utils import plot_model"
   ]
  },
  {
   "cell_type": "code",
   "execution_count": 3,
   "metadata": {
    "colab": {
     "base_uri": "https://localhost:8080/"
    },
    "id": "gs_5V8_cJdNH",
    "outputId": "500936b4-5bba-4833-bf44-7271ab196261"
   },
   "outputs": [
    {
     "name": "stdout",
     "output_type": "stream",
     "text": [
      "dict_keys(['data', 'target', 'frame', 'target_names', 'DESCR', 'feature_names', 'filename', 'data_module'])\n"
     ]
    }
   ],
   "source": [
    "# Import data (imported as a dictionary)\n",
    "data = load_breast_cancer()\n",
    "print(data.keys())"
   ]
  },
  {
   "cell_type": "code",
   "execution_count": 4,
   "metadata": {
    "colab": {
     "base_uri": "https://localhost:8080/",
     "height": 314
    },
    "id": "Cy_RAAGoJdNI",
    "outputId": "38cd4e1e-400f-4b29-b0d4-e77f69d361fb"
   },
   "outputs": [
    {
     "data": {
      "text/html": [
       "\n",
       "  <div id=\"df-9e75b88c-df63-40b3-9b22-3eff4acb5bf4\">\n",
       "    <div class=\"colab-df-container\">\n",
       "      <div>\n",
       "<style scoped>\n",
       "    .dataframe tbody tr th:only-of-type {\n",
       "        vertical-align: middle;\n",
       "    }\n",
       "\n",
       "    .dataframe tbody tr th {\n",
       "        vertical-align: top;\n",
       "    }\n",
       "\n",
       "    .dataframe thead th {\n",
       "        text-align: right;\n",
       "    }\n",
       "</style>\n",
       "<table border=\"1\" class=\"dataframe\">\n",
       "  <thead>\n",
       "    <tr style=\"text-align: right;\">\n",
       "      <th></th>\n",
       "      <th>mean radius</th>\n",
       "      <th>mean texture</th>\n",
       "      <th>mean perimeter</th>\n",
       "      <th>mean area</th>\n",
       "      <th>mean smoothness</th>\n",
       "      <th>mean compactness</th>\n",
       "      <th>mean concavity</th>\n",
       "      <th>mean concave points</th>\n",
       "      <th>mean symmetry</th>\n",
       "      <th>mean fractal dimension</th>\n",
       "      <th>...</th>\n",
       "      <th>worst texture</th>\n",
       "      <th>worst perimeter</th>\n",
       "      <th>worst area</th>\n",
       "      <th>worst smoothness</th>\n",
       "      <th>worst compactness</th>\n",
       "      <th>worst concavity</th>\n",
       "      <th>worst concave points</th>\n",
       "      <th>worst symmetry</th>\n",
       "      <th>worst fractal dimension</th>\n",
       "      <th>target</th>\n",
       "    </tr>\n",
       "  </thead>\n",
       "  <tbody>\n",
       "    <tr>\n",
       "      <th>0</th>\n",
       "      <td>17.99</td>\n",
       "      <td>10.38</td>\n",
       "      <td>122.80</td>\n",
       "      <td>1001.0</td>\n",
       "      <td>0.11840</td>\n",
       "      <td>0.27760</td>\n",
       "      <td>0.3001</td>\n",
       "      <td>0.14710</td>\n",
       "      <td>0.2419</td>\n",
       "      <td>0.07871</td>\n",
       "      <td>...</td>\n",
       "      <td>17.33</td>\n",
       "      <td>184.60</td>\n",
       "      <td>2019.0</td>\n",
       "      <td>0.1622</td>\n",
       "      <td>0.6656</td>\n",
       "      <td>0.7119</td>\n",
       "      <td>0.2654</td>\n",
       "      <td>0.4601</td>\n",
       "      <td>0.11890</td>\n",
       "      <td>0</td>\n",
       "    </tr>\n",
       "    <tr>\n",
       "      <th>1</th>\n",
       "      <td>20.57</td>\n",
       "      <td>17.77</td>\n",
       "      <td>132.90</td>\n",
       "      <td>1326.0</td>\n",
       "      <td>0.08474</td>\n",
       "      <td>0.07864</td>\n",
       "      <td>0.0869</td>\n",
       "      <td>0.07017</td>\n",
       "      <td>0.1812</td>\n",
       "      <td>0.05667</td>\n",
       "      <td>...</td>\n",
       "      <td>23.41</td>\n",
       "      <td>158.80</td>\n",
       "      <td>1956.0</td>\n",
       "      <td>0.1238</td>\n",
       "      <td>0.1866</td>\n",
       "      <td>0.2416</td>\n",
       "      <td>0.1860</td>\n",
       "      <td>0.2750</td>\n",
       "      <td>0.08902</td>\n",
       "      <td>0</td>\n",
       "    </tr>\n",
       "    <tr>\n",
       "      <th>2</th>\n",
       "      <td>19.69</td>\n",
       "      <td>21.25</td>\n",
       "      <td>130.00</td>\n",
       "      <td>1203.0</td>\n",
       "      <td>0.10960</td>\n",
       "      <td>0.15990</td>\n",
       "      <td>0.1974</td>\n",
       "      <td>0.12790</td>\n",
       "      <td>0.2069</td>\n",
       "      <td>0.05999</td>\n",
       "      <td>...</td>\n",
       "      <td>25.53</td>\n",
       "      <td>152.50</td>\n",
       "      <td>1709.0</td>\n",
       "      <td>0.1444</td>\n",
       "      <td>0.4245</td>\n",
       "      <td>0.4504</td>\n",
       "      <td>0.2430</td>\n",
       "      <td>0.3613</td>\n",
       "      <td>0.08758</td>\n",
       "      <td>0</td>\n",
       "    </tr>\n",
       "    <tr>\n",
       "      <th>3</th>\n",
       "      <td>11.42</td>\n",
       "      <td>20.38</td>\n",
       "      <td>77.58</td>\n",
       "      <td>386.1</td>\n",
       "      <td>0.14250</td>\n",
       "      <td>0.28390</td>\n",
       "      <td>0.2414</td>\n",
       "      <td>0.10520</td>\n",
       "      <td>0.2597</td>\n",
       "      <td>0.09744</td>\n",
       "      <td>...</td>\n",
       "      <td>26.50</td>\n",
       "      <td>98.87</td>\n",
       "      <td>567.7</td>\n",
       "      <td>0.2098</td>\n",
       "      <td>0.8663</td>\n",
       "      <td>0.6869</td>\n",
       "      <td>0.2575</td>\n",
       "      <td>0.6638</td>\n",
       "      <td>0.17300</td>\n",
       "      <td>0</td>\n",
       "    </tr>\n",
       "    <tr>\n",
       "      <th>4</th>\n",
       "      <td>20.29</td>\n",
       "      <td>14.34</td>\n",
       "      <td>135.10</td>\n",
       "      <td>1297.0</td>\n",
       "      <td>0.10030</td>\n",
       "      <td>0.13280</td>\n",
       "      <td>0.1980</td>\n",
       "      <td>0.10430</td>\n",
       "      <td>0.1809</td>\n",
       "      <td>0.05883</td>\n",
       "      <td>...</td>\n",
       "      <td>16.67</td>\n",
       "      <td>152.20</td>\n",
       "      <td>1575.0</td>\n",
       "      <td>0.1374</td>\n",
       "      <td>0.2050</td>\n",
       "      <td>0.4000</td>\n",
       "      <td>0.1625</td>\n",
       "      <td>0.2364</td>\n",
       "      <td>0.07678</td>\n",
       "      <td>0</td>\n",
       "    </tr>\n",
       "  </tbody>\n",
       "</table>\n",
       "<p>5 rows × 31 columns</p>\n",
       "</div>\n",
       "      <button class=\"colab-df-convert\" onclick=\"convertToInteractive('df-9e75b88c-df63-40b3-9b22-3eff4acb5bf4')\"\n",
       "              title=\"Convert this dataframe to an interactive table.\"\n",
       "              style=\"display:none;\">\n",
       "        \n",
       "  <svg xmlns=\"http://www.w3.org/2000/svg\" height=\"24px\"viewBox=\"0 0 24 24\"\n",
       "       width=\"24px\">\n",
       "    <path d=\"M0 0h24v24H0V0z\" fill=\"none\"/>\n",
       "    <path d=\"M18.56 5.44l.94 2.06.94-2.06 2.06-.94-2.06-.94-.94-2.06-.94 2.06-2.06.94zm-11 1L8.5 8.5l.94-2.06 2.06-.94-2.06-.94L8.5 2.5l-.94 2.06-2.06.94zm10 10l.94 2.06.94-2.06 2.06-.94-2.06-.94-.94-2.06-.94 2.06-2.06.94z\"/><path d=\"M17.41 7.96l-1.37-1.37c-.4-.4-.92-.59-1.43-.59-.52 0-1.04.2-1.43.59L10.3 9.45l-7.72 7.72c-.78.78-.78 2.05 0 2.83L4 21.41c.39.39.9.59 1.41.59.51 0 1.02-.2 1.41-.59l7.78-7.78 2.81-2.81c.8-.78.8-2.07 0-2.86zM5.41 20L4 18.59l7.72-7.72 1.47 1.35L5.41 20z\"/>\n",
       "  </svg>\n",
       "      </button>\n",
       "      \n",
       "  <style>\n",
       "    .colab-df-container {\n",
       "      display:flex;\n",
       "      flex-wrap:wrap;\n",
       "      gap: 12px;\n",
       "    }\n",
       "\n",
       "    .colab-df-convert {\n",
       "      background-color: #E8F0FE;\n",
       "      border: none;\n",
       "      border-radius: 50%;\n",
       "      cursor: pointer;\n",
       "      display: none;\n",
       "      fill: #1967D2;\n",
       "      height: 32px;\n",
       "      padding: 0 0 0 0;\n",
       "      width: 32px;\n",
       "    }\n",
       "\n",
       "    .colab-df-convert:hover {\n",
       "      background-color: #E2EBFA;\n",
       "      box-shadow: 0px 1px 2px rgba(60, 64, 67, 0.3), 0px 1px 3px 1px rgba(60, 64, 67, 0.15);\n",
       "      fill: #174EA6;\n",
       "    }\n",
       "\n",
       "    [theme=dark] .colab-df-convert {\n",
       "      background-color: #3B4455;\n",
       "      fill: #D2E3FC;\n",
       "    }\n",
       "\n",
       "    [theme=dark] .colab-df-convert:hover {\n",
       "      background-color: #434B5C;\n",
       "      box-shadow: 0px 1px 3px 1px rgba(0, 0, 0, 0.15);\n",
       "      filter: drop-shadow(0px 1px 2px rgba(0, 0, 0, 0.3));\n",
       "      fill: #FFFFFF;\n",
       "    }\n",
       "  </style>\n",
       "\n",
       "      <script>\n",
       "        const buttonEl =\n",
       "          document.querySelector('#df-9e75b88c-df63-40b3-9b22-3eff4acb5bf4 button.colab-df-convert');\n",
       "        buttonEl.style.display =\n",
       "          google.colab.kernel.accessAllowed ? 'block' : 'none';\n",
       "\n",
       "        async function convertToInteractive(key) {\n",
       "          const element = document.querySelector('#df-9e75b88c-df63-40b3-9b22-3eff4acb5bf4');\n",
       "          const dataTable =\n",
       "            await google.colab.kernel.invokeFunction('convertToInteractive',\n",
       "                                                     [key], {});\n",
       "          if (!dataTable) return;\n",
       "\n",
       "          const docLinkHtml = 'Like what you see? Visit the ' +\n",
       "            '<a target=\"_blank\" href=https://colab.research.google.com/notebooks/data_table.ipynb>data table notebook</a>'\n",
       "            + ' to learn more about interactive tables.';\n",
       "          element.innerHTML = '';\n",
       "          dataTable['output_type'] = 'display_data';\n",
       "          await google.colab.output.renderOutput(dataTable, element);\n",
       "          const docLink = document.createElement('div');\n",
       "          docLink.innerHTML = docLinkHtml;\n",
       "          element.appendChild(docLink);\n",
       "        }\n",
       "      </script>\n",
       "    </div>\n",
       "  </div>\n",
       "  "
      ],
      "text/plain": [
       "   mean radius  mean texture  mean perimeter  mean area  mean smoothness  \\\n",
       "0        17.99         10.38          122.80     1001.0          0.11840   \n",
       "1        20.57         17.77          132.90     1326.0          0.08474   \n",
       "2        19.69         21.25          130.00     1203.0          0.10960   \n",
       "3        11.42         20.38           77.58      386.1          0.14250   \n",
       "4        20.29         14.34          135.10     1297.0          0.10030   \n",
       "\n",
       "   mean compactness  mean concavity  mean concave points  mean symmetry  \\\n",
       "0           0.27760          0.3001              0.14710         0.2419   \n",
       "1           0.07864          0.0869              0.07017         0.1812   \n",
       "2           0.15990          0.1974              0.12790         0.2069   \n",
       "3           0.28390          0.2414              0.10520         0.2597   \n",
       "4           0.13280          0.1980              0.10430         0.1809   \n",
       "\n",
       "   mean fractal dimension  ...  worst texture  worst perimeter  worst area  \\\n",
       "0                 0.07871  ...          17.33           184.60      2019.0   \n",
       "1                 0.05667  ...          23.41           158.80      1956.0   \n",
       "2                 0.05999  ...          25.53           152.50      1709.0   \n",
       "3                 0.09744  ...          26.50            98.87       567.7   \n",
       "4                 0.05883  ...          16.67           152.20      1575.0   \n",
       "\n",
       "   worst smoothness  worst compactness  worst concavity  worst concave points  \\\n",
       "0            0.1622             0.6656           0.7119                0.2654   \n",
       "1            0.1238             0.1866           0.2416                0.1860   \n",
       "2            0.1444             0.4245           0.4504                0.2430   \n",
       "3            0.2098             0.8663           0.6869                0.2575   \n",
       "4            0.1374             0.2050           0.4000                0.1625   \n",
       "\n",
       "   worst symmetry  worst fractal dimension  target  \n",
       "0          0.4601                  0.11890       0  \n",
       "1          0.2750                  0.08902       0  \n",
       "2          0.3613                  0.08758       0  \n",
       "3          0.6638                  0.17300       0  \n",
       "4          0.2364                  0.07678       0  \n",
       "\n",
       "[5 rows x 31 columns]"
      ]
     },
     "execution_count": 4,
     "metadata": {},
     "output_type": "execute_result"
    }
   ],
   "source": [
    "###### Load the dataset into a dataframe\n",
    "# Read the dataframe, first using the feature data\n",
    "df = pd.DataFrame(data.data, columns=data.feature_names)\n",
    "# Add a target column, and fill it with the target data\n",
    "df['target'] = data.target\n",
    "df.head()"
   ]
  },
  {
   "cell_type": "markdown",
   "metadata": {
    "id": "DyVvFjy8JdNW"
   },
   "source": [
    "### Removal of highly correlated features"
   ]
  },
  {
   "cell_type": "code",
   "execution_count": 5,
   "metadata": {
    "colab": {
     "base_uri": "https://localhost:8080/",
     "height": 277
    },
    "id": "_TocobG5JdNW",
    "outputId": "2fcfbff6-bfbc-405e-da46-48fcaf614cfe"
   },
   "outputs": [
    {
     "data": {
      "text/plain": [
       "mean radius             1.00\n",
       "mean perimeter          1.00\n",
       "worst radius            0.99\n",
       "mean area               0.99\n",
       "worst perimeter         0.99\n",
       "worst area              0.98\n",
       "perimeter error         0.97\n",
       "radius error            0.97\n",
       "area error              0.95\n",
       "mean concave points     0.92\n",
       "mean concavity          0.92\n",
       "worst concave points    0.91\n",
       "mean texture            0.91\n",
       "worst texture           0.91\n",
       "dtype: float64"
      ]
     },
     "metadata": {},
     "output_type": "display_data"
    }
   ],
   "source": [
    "corr = df.corr().abs().round(2)  # map features to their absolute Pearson's correlation values\n",
    "np.fill_diagonal(corr.values, 0) # set self correlation values as zero\n",
    "corr_cols = corr.max().sort_values(ascending=False) # find max correlation per feature and sort the resulting array in ascending order\n",
    "display(corr_cols[corr_cols >= 0.9]) # display the highly correlated features"
   ]
  },
  {
   "cell_type": "code",
   "execution_count": 6,
   "metadata": {
    "id": "mtjloc48JdNW"
   },
   "outputs": [],
   "source": [
    "columns = np.full((corr.shape[0],), True, dtype=bool)\n",
    "for i in range(corr.shape[0]):\n",
    "    for j in range(i+1, corr.shape[0]):\n",
    "        if corr.iloc[i,j] >= 0.9:\n",
    "            if columns[j]:\n",
    "                columns[j] = False"
   ]
  },
  {
   "cell_type": "code",
   "execution_count": 7,
   "metadata": {
    "colab": {
     "base_uri": "https://localhost:8080/"
    },
    "id": "w5bS0AdQHjUZ",
    "outputId": "56e0beb1-b89f-41e5-dea9-e997d748f2b4"
   },
   "outputs": [
    {
     "data": {
      "text/plain": [
       "(21,)"
      ]
     },
     "execution_count": 7,
     "metadata": {},
     "output_type": "execute_result"
    }
   ],
   "source": [
    "selected_columns = df.columns[columns]\n",
    "selected_columns.shape\n",
    "# 20 features were selected (plus the target variable)"
   ]
  },
  {
   "cell_type": "code",
   "execution_count": 8,
   "metadata": {
    "colab": {
     "base_uri": "https://localhost:8080/",
     "height": 271
    },
    "id": "MZMU0g7wJdNW",
    "outputId": "af6f6fcc-a6bc-4073-e9e8-6c44510620ef"
   },
   "outputs": [
    {
     "name": "stdout",
     "output_type": "stream",
     "text": [
      "(569, 21)\n"
     ]
    },
    {
     "data": {
      "text/html": [
       "\n",
       "  <div id=\"df-c70ba2d5-bc28-478c-bf56-21174bb2e7fe\">\n",
       "    <div class=\"colab-df-container\">\n",
       "      <div>\n",
       "<style scoped>\n",
       "    .dataframe tbody tr th:only-of-type {\n",
       "        vertical-align: middle;\n",
       "    }\n",
       "\n",
       "    .dataframe tbody tr th {\n",
       "        vertical-align: top;\n",
       "    }\n",
       "\n",
       "    .dataframe thead th {\n",
       "        text-align: right;\n",
       "    }\n",
       "</style>\n",
       "<table border=\"1\" class=\"dataframe\">\n",
       "  <thead>\n",
       "    <tr style=\"text-align: right;\">\n",
       "      <th></th>\n",
       "      <th>mean radius</th>\n",
       "      <th>mean texture</th>\n",
       "      <th>mean smoothness</th>\n",
       "      <th>mean compactness</th>\n",
       "      <th>mean concavity</th>\n",
       "      <th>mean symmetry</th>\n",
       "      <th>mean fractal dimension</th>\n",
       "      <th>radius error</th>\n",
       "      <th>texture error</th>\n",
       "      <th>smoothness error</th>\n",
       "      <th>compactness error</th>\n",
       "      <th>concavity error</th>\n",
       "      <th>concave points error</th>\n",
       "      <th>symmetry error</th>\n",
       "      <th>fractal dimension error</th>\n",
       "      <th>worst smoothness</th>\n",
       "      <th>worst compactness</th>\n",
       "      <th>worst concavity</th>\n",
       "      <th>worst symmetry</th>\n",
       "      <th>worst fractal dimension</th>\n",
       "      <th>target</th>\n",
       "    </tr>\n",
       "  </thead>\n",
       "  <tbody>\n",
       "    <tr>\n",
       "      <th>0</th>\n",
       "      <td>17.99</td>\n",
       "      <td>10.38</td>\n",
       "      <td>0.11840</td>\n",
       "      <td>0.27760</td>\n",
       "      <td>0.3001</td>\n",
       "      <td>0.2419</td>\n",
       "      <td>0.07871</td>\n",
       "      <td>1.0950</td>\n",
       "      <td>0.9053</td>\n",
       "      <td>0.006399</td>\n",
       "      <td>0.04904</td>\n",
       "      <td>0.05373</td>\n",
       "      <td>0.01587</td>\n",
       "      <td>0.03003</td>\n",
       "      <td>0.006193</td>\n",
       "      <td>0.1622</td>\n",
       "      <td>0.6656</td>\n",
       "      <td>0.7119</td>\n",
       "      <td>0.4601</td>\n",
       "      <td>0.11890</td>\n",
       "      <td>0</td>\n",
       "    </tr>\n",
       "    <tr>\n",
       "      <th>1</th>\n",
       "      <td>20.57</td>\n",
       "      <td>17.77</td>\n",
       "      <td>0.08474</td>\n",
       "      <td>0.07864</td>\n",
       "      <td>0.0869</td>\n",
       "      <td>0.1812</td>\n",
       "      <td>0.05667</td>\n",
       "      <td>0.5435</td>\n",
       "      <td>0.7339</td>\n",
       "      <td>0.005225</td>\n",
       "      <td>0.01308</td>\n",
       "      <td>0.01860</td>\n",
       "      <td>0.01340</td>\n",
       "      <td>0.01389</td>\n",
       "      <td>0.003532</td>\n",
       "      <td>0.1238</td>\n",
       "      <td>0.1866</td>\n",
       "      <td>0.2416</td>\n",
       "      <td>0.2750</td>\n",
       "      <td>0.08902</td>\n",
       "      <td>0</td>\n",
       "    </tr>\n",
       "    <tr>\n",
       "      <th>2</th>\n",
       "      <td>19.69</td>\n",
       "      <td>21.25</td>\n",
       "      <td>0.10960</td>\n",
       "      <td>0.15990</td>\n",
       "      <td>0.1974</td>\n",
       "      <td>0.2069</td>\n",
       "      <td>0.05999</td>\n",
       "      <td>0.7456</td>\n",
       "      <td>0.7869</td>\n",
       "      <td>0.006150</td>\n",
       "      <td>0.04006</td>\n",
       "      <td>0.03832</td>\n",
       "      <td>0.02058</td>\n",
       "      <td>0.02250</td>\n",
       "      <td>0.004571</td>\n",
       "      <td>0.1444</td>\n",
       "      <td>0.4245</td>\n",
       "      <td>0.4504</td>\n",
       "      <td>0.3613</td>\n",
       "      <td>0.08758</td>\n",
       "      <td>0</td>\n",
       "    </tr>\n",
       "    <tr>\n",
       "      <th>3</th>\n",
       "      <td>11.42</td>\n",
       "      <td>20.38</td>\n",
       "      <td>0.14250</td>\n",
       "      <td>0.28390</td>\n",
       "      <td>0.2414</td>\n",
       "      <td>0.2597</td>\n",
       "      <td>0.09744</td>\n",
       "      <td>0.4956</td>\n",
       "      <td>1.1560</td>\n",
       "      <td>0.009110</td>\n",
       "      <td>0.07458</td>\n",
       "      <td>0.05661</td>\n",
       "      <td>0.01867</td>\n",
       "      <td>0.05963</td>\n",
       "      <td>0.009208</td>\n",
       "      <td>0.2098</td>\n",
       "      <td>0.8663</td>\n",
       "      <td>0.6869</td>\n",
       "      <td>0.6638</td>\n",
       "      <td>0.17300</td>\n",
       "      <td>0</td>\n",
       "    </tr>\n",
       "  </tbody>\n",
       "</table>\n",
       "</div>\n",
       "      <button class=\"colab-df-convert\" onclick=\"convertToInteractive('df-c70ba2d5-bc28-478c-bf56-21174bb2e7fe')\"\n",
       "              title=\"Convert this dataframe to an interactive table.\"\n",
       "              style=\"display:none;\">\n",
       "        \n",
       "  <svg xmlns=\"http://www.w3.org/2000/svg\" height=\"24px\"viewBox=\"0 0 24 24\"\n",
       "       width=\"24px\">\n",
       "    <path d=\"M0 0h24v24H0V0z\" fill=\"none\"/>\n",
       "    <path d=\"M18.56 5.44l.94 2.06.94-2.06 2.06-.94-2.06-.94-.94-2.06-.94 2.06-2.06.94zm-11 1L8.5 8.5l.94-2.06 2.06-.94-2.06-.94L8.5 2.5l-.94 2.06-2.06.94zm10 10l.94 2.06.94-2.06 2.06-.94-2.06-.94-.94-2.06-.94 2.06-2.06.94z\"/><path d=\"M17.41 7.96l-1.37-1.37c-.4-.4-.92-.59-1.43-.59-.52 0-1.04.2-1.43.59L10.3 9.45l-7.72 7.72c-.78.78-.78 2.05 0 2.83L4 21.41c.39.39.9.59 1.41.59.51 0 1.02-.2 1.41-.59l7.78-7.78 2.81-2.81c.8-.78.8-2.07 0-2.86zM5.41 20L4 18.59l7.72-7.72 1.47 1.35L5.41 20z\"/>\n",
       "  </svg>\n",
       "      </button>\n",
       "      \n",
       "  <style>\n",
       "    .colab-df-container {\n",
       "      display:flex;\n",
       "      flex-wrap:wrap;\n",
       "      gap: 12px;\n",
       "    }\n",
       "\n",
       "    .colab-df-convert {\n",
       "      background-color: #E8F0FE;\n",
       "      border: none;\n",
       "      border-radius: 50%;\n",
       "      cursor: pointer;\n",
       "      display: none;\n",
       "      fill: #1967D2;\n",
       "      height: 32px;\n",
       "      padding: 0 0 0 0;\n",
       "      width: 32px;\n",
       "    }\n",
       "\n",
       "    .colab-df-convert:hover {\n",
       "      background-color: #E2EBFA;\n",
       "      box-shadow: 0px 1px 2px rgba(60, 64, 67, 0.3), 0px 1px 3px 1px rgba(60, 64, 67, 0.15);\n",
       "      fill: #174EA6;\n",
       "    }\n",
       "\n",
       "    [theme=dark] .colab-df-convert {\n",
       "      background-color: #3B4455;\n",
       "      fill: #D2E3FC;\n",
       "    }\n",
       "\n",
       "    [theme=dark] .colab-df-convert:hover {\n",
       "      background-color: #434B5C;\n",
       "      box-shadow: 0px 1px 3px 1px rgba(0, 0, 0, 0.15);\n",
       "      filter: drop-shadow(0px 1px 2px rgba(0, 0, 0, 0.3));\n",
       "      fill: #FFFFFF;\n",
       "    }\n",
       "  </style>\n",
       "\n",
       "      <script>\n",
       "        const buttonEl =\n",
       "          document.querySelector('#df-c70ba2d5-bc28-478c-bf56-21174bb2e7fe button.colab-df-convert');\n",
       "        buttonEl.style.display =\n",
       "          google.colab.kernel.accessAllowed ? 'block' : 'none';\n",
       "\n",
       "        async function convertToInteractive(key) {\n",
       "          const element = document.querySelector('#df-c70ba2d5-bc28-478c-bf56-21174bb2e7fe');\n",
       "          const dataTable =\n",
       "            await google.colab.kernel.invokeFunction('convertToInteractive',\n",
       "                                                     [key], {});\n",
       "          if (!dataTable) return;\n",
       "\n",
       "          const docLinkHtml = 'Like what you see? Visit the ' +\n",
       "            '<a target=\"_blank\" href=https://colab.research.google.com/notebooks/data_table.ipynb>data table notebook</a>'\n",
       "            + ' to learn more about interactive tables.';\n",
       "          element.innerHTML = '';\n",
       "          dataTable['output_type'] = 'display_data';\n",
       "          await google.colab.output.renderOutput(dataTable, element);\n",
       "          const docLink = document.createElement('div');\n",
       "          docLink.innerHTML = docLinkHtml;\n",
       "          element.appendChild(docLink);\n",
       "        }\n",
       "      </script>\n",
       "    </div>\n",
       "  </div>\n",
       "  "
      ],
      "text/plain": [
       "   mean radius  mean texture  mean smoothness  mean compactness  \\\n",
       "0        17.99         10.38          0.11840           0.27760   \n",
       "1        20.57         17.77          0.08474           0.07864   \n",
       "2        19.69         21.25          0.10960           0.15990   \n",
       "3        11.42         20.38          0.14250           0.28390   \n",
       "\n",
       "   mean concavity  mean symmetry  mean fractal dimension  radius error  \\\n",
       "0          0.3001         0.2419                 0.07871        1.0950   \n",
       "1          0.0869         0.1812                 0.05667        0.5435   \n",
       "2          0.1974         0.2069                 0.05999        0.7456   \n",
       "3          0.2414         0.2597                 0.09744        0.4956   \n",
       "\n",
       "   texture error  smoothness error  compactness error  concavity error  \\\n",
       "0         0.9053          0.006399            0.04904          0.05373   \n",
       "1         0.7339          0.005225            0.01308          0.01860   \n",
       "2         0.7869          0.006150            0.04006          0.03832   \n",
       "3         1.1560          0.009110            0.07458          0.05661   \n",
       "\n",
       "   concave points error  symmetry error  fractal dimension error  \\\n",
       "0               0.01587         0.03003                 0.006193   \n",
       "1               0.01340         0.01389                 0.003532   \n",
       "2               0.02058         0.02250                 0.004571   \n",
       "3               0.01867         0.05963                 0.009208   \n",
       "\n",
       "   worst smoothness  worst compactness  worst concavity  worst symmetry  \\\n",
       "0            0.1622             0.6656           0.7119          0.4601   \n",
       "1            0.1238             0.1866           0.2416          0.2750   \n",
       "2            0.1444             0.4245           0.4504          0.3613   \n",
       "3            0.2098             0.8663           0.6869          0.6638   \n",
       "\n",
       "   worst fractal dimension  target  \n",
       "0                  0.11890       0  \n",
       "1                  0.08902       0  \n",
       "2                  0.08758       0  \n",
       "3                  0.17300       0  "
      ]
     },
     "execution_count": 8,
     "metadata": {},
     "output_type": "execute_result"
    }
   ],
   "source": [
    "data_kept = df[selected_columns] ## the dataset has only those columns with correlation less than 0.9\n",
    "pd.set_option('display.max_columns', None)\n",
    "print(data_kept.shape)\n",
    "data_kept.head(4)"
   ]
  },
  {
   "cell_type": "markdown",
   "metadata": {
    "id": "cr_wLsvyJdNa"
   },
   "source": [
    "### Data Splitting"
   ]
  },
  {
   "cell_type": "code",
   "execution_count": 9,
   "metadata": {
    "colab": {
     "base_uri": "https://localhost:8080/"
    },
    "id": "fxyN254aJdNa",
    "outputId": "ae1a7100-5c52-4509-e408-e70eeef5de4f"
   },
   "outputs": [
    {
     "data": {
      "text/plain": [
       "StratifiedShuffleSplit(n_splits=10, random_state=13, test_size=0.15,\n",
       "            train_size=None)"
      ]
     },
     "execution_count": 9,
     "metadata": {},
     "output_type": "execute_result"
    }
   ],
   "source": [
    "# split data in subsets in a stratified manner (sss: stratified shuffle split)\n",
    "test_sss = StratifiedShuffleSplit(n_splits=10, test_size=0.15, random_state=13)\n",
    "test_sss\n",
    "# Set a seed (random_state = 0) to get the same \"random\" shuffle every time"
   ]
  },
  {
   "cell_type": "code",
   "execution_count": 10,
   "metadata": {
    "colab": {
     "base_uri": "https://localhost:8080/",
     "height": 222
    },
    "id": "Ook9xDsoJdNa",
    "outputId": "07220ac8-cc24-4bb5-b59b-9cef8cb14635"
   },
   "outputs": [
    {
     "data": {
      "text/html": [
       "\n",
       "  <div id=\"df-b6383733-8f37-415f-9fab-6bbcc273a38c\">\n",
       "    <div class=\"colab-df-container\">\n",
       "      <div>\n",
       "<style scoped>\n",
       "    .dataframe tbody tr th:only-of-type {\n",
       "        vertical-align: middle;\n",
       "    }\n",
       "\n",
       "    .dataframe tbody tr th {\n",
       "        vertical-align: top;\n",
       "    }\n",
       "\n",
       "    .dataframe thead th {\n",
       "        text-align: right;\n",
       "    }\n",
       "</style>\n",
       "<table border=\"1\" class=\"dataframe\">\n",
       "  <thead>\n",
       "    <tr style=\"text-align: right;\">\n",
       "      <th></th>\n",
       "      <th>mean radius</th>\n",
       "      <th>mean texture</th>\n",
       "      <th>mean smoothness</th>\n",
       "      <th>mean compactness</th>\n",
       "      <th>mean concavity</th>\n",
       "      <th>mean symmetry</th>\n",
       "      <th>mean fractal dimension</th>\n",
       "      <th>radius error</th>\n",
       "      <th>texture error</th>\n",
       "      <th>smoothness error</th>\n",
       "      <th>compactness error</th>\n",
       "      <th>concavity error</th>\n",
       "      <th>concave points error</th>\n",
       "      <th>symmetry error</th>\n",
       "      <th>fractal dimension error</th>\n",
       "      <th>worst smoothness</th>\n",
       "      <th>worst compactness</th>\n",
       "      <th>worst concavity</th>\n",
       "      <th>worst symmetry</th>\n",
       "      <th>worst fractal dimension</th>\n",
       "    </tr>\n",
       "  </thead>\n",
       "  <tbody>\n",
       "    <tr>\n",
       "      <th>0</th>\n",
       "      <td>17.99</td>\n",
       "      <td>10.38</td>\n",
       "      <td>0.11840</td>\n",
       "      <td>0.27760</td>\n",
       "      <td>0.3001</td>\n",
       "      <td>0.2419</td>\n",
       "      <td>0.07871</td>\n",
       "      <td>1.0950</td>\n",
       "      <td>0.9053</td>\n",
       "      <td>0.006399</td>\n",
       "      <td>0.04904</td>\n",
       "      <td>0.05373</td>\n",
       "      <td>0.01587</td>\n",
       "      <td>0.03003</td>\n",
       "      <td>0.006193</td>\n",
       "      <td>0.1622</td>\n",
       "      <td>0.6656</td>\n",
       "      <td>0.7119</td>\n",
       "      <td>0.4601</td>\n",
       "      <td>0.11890</td>\n",
       "    </tr>\n",
       "    <tr>\n",
       "      <th>1</th>\n",
       "      <td>20.57</td>\n",
       "      <td>17.77</td>\n",
       "      <td>0.08474</td>\n",
       "      <td>0.07864</td>\n",
       "      <td>0.0869</td>\n",
       "      <td>0.1812</td>\n",
       "      <td>0.05667</td>\n",
       "      <td>0.5435</td>\n",
       "      <td>0.7339</td>\n",
       "      <td>0.005225</td>\n",
       "      <td>0.01308</td>\n",
       "      <td>0.01860</td>\n",
       "      <td>0.01340</td>\n",
       "      <td>0.01389</td>\n",
       "      <td>0.003532</td>\n",
       "      <td>0.1238</td>\n",
       "      <td>0.1866</td>\n",
       "      <td>0.2416</td>\n",
       "      <td>0.2750</td>\n",
       "      <td>0.08902</td>\n",
       "    </tr>\n",
       "    <tr>\n",
       "      <th>2</th>\n",
       "      <td>19.69</td>\n",
       "      <td>21.25</td>\n",
       "      <td>0.10960</td>\n",
       "      <td>0.15990</td>\n",
       "      <td>0.1974</td>\n",
       "      <td>0.2069</td>\n",
       "      <td>0.05999</td>\n",
       "      <td>0.7456</td>\n",
       "      <td>0.7869</td>\n",
       "      <td>0.006150</td>\n",
       "      <td>0.04006</td>\n",
       "      <td>0.03832</td>\n",
       "      <td>0.02058</td>\n",
       "      <td>0.02250</td>\n",
       "      <td>0.004571</td>\n",
       "      <td>0.1444</td>\n",
       "      <td>0.4245</td>\n",
       "      <td>0.4504</td>\n",
       "      <td>0.3613</td>\n",
       "      <td>0.08758</td>\n",
       "    </tr>\n",
       "  </tbody>\n",
       "</table>\n",
       "</div>\n",
       "      <button class=\"colab-df-convert\" onclick=\"convertToInteractive('df-b6383733-8f37-415f-9fab-6bbcc273a38c')\"\n",
       "              title=\"Convert this dataframe to an interactive table.\"\n",
       "              style=\"display:none;\">\n",
       "        \n",
       "  <svg xmlns=\"http://www.w3.org/2000/svg\" height=\"24px\"viewBox=\"0 0 24 24\"\n",
       "       width=\"24px\">\n",
       "    <path d=\"M0 0h24v24H0V0z\" fill=\"none\"/>\n",
       "    <path d=\"M18.56 5.44l.94 2.06.94-2.06 2.06-.94-2.06-.94-.94-2.06-.94 2.06-2.06.94zm-11 1L8.5 8.5l.94-2.06 2.06-.94-2.06-.94L8.5 2.5l-.94 2.06-2.06.94zm10 10l.94 2.06.94-2.06 2.06-.94-2.06-.94-.94-2.06-.94 2.06-2.06.94z\"/><path d=\"M17.41 7.96l-1.37-1.37c-.4-.4-.92-.59-1.43-.59-.52 0-1.04.2-1.43.59L10.3 9.45l-7.72 7.72c-.78.78-.78 2.05 0 2.83L4 21.41c.39.39.9.59 1.41.59.51 0 1.02-.2 1.41-.59l7.78-7.78 2.81-2.81c.8-.78.8-2.07 0-2.86zM5.41 20L4 18.59l7.72-7.72 1.47 1.35L5.41 20z\"/>\n",
       "  </svg>\n",
       "      </button>\n",
       "      \n",
       "  <style>\n",
       "    .colab-df-container {\n",
       "      display:flex;\n",
       "      flex-wrap:wrap;\n",
       "      gap: 12px;\n",
       "    }\n",
       "\n",
       "    .colab-df-convert {\n",
       "      background-color: #E8F0FE;\n",
       "      border: none;\n",
       "      border-radius: 50%;\n",
       "      cursor: pointer;\n",
       "      display: none;\n",
       "      fill: #1967D2;\n",
       "      height: 32px;\n",
       "      padding: 0 0 0 0;\n",
       "      width: 32px;\n",
       "    }\n",
       "\n",
       "    .colab-df-convert:hover {\n",
       "      background-color: #E2EBFA;\n",
       "      box-shadow: 0px 1px 2px rgba(60, 64, 67, 0.3), 0px 1px 3px 1px rgba(60, 64, 67, 0.15);\n",
       "      fill: #174EA6;\n",
       "    }\n",
       "\n",
       "    [theme=dark] .colab-df-convert {\n",
       "      background-color: #3B4455;\n",
       "      fill: #D2E3FC;\n",
       "    }\n",
       "\n",
       "    [theme=dark] .colab-df-convert:hover {\n",
       "      background-color: #434B5C;\n",
       "      box-shadow: 0px 1px 3px 1px rgba(0, 0, 0, 0.15);\n",
       "      filter: drop-shadow(0px 1px 2px rgba(0, 0, 0, 0.3));\n",
       "      fill: #FFFFFF;\n",
       "    }\n",
       "  </style>\n",
       "\n",
       "      <script>\n",
       "        const buttonEl =\n",
       "          document.querySelector('#df-b6383733-8f37-415f-9fab-6bbcc273a38c button.colab-df-convert');\n",
       "        buttonEl.style.display =\n",
       "          google.colab.kernel.accessAllowed ? 'block' : 'none';\n",
       "\n",
       "        async function convertToInteractive(key) {\n",
       "          const element = document.querySelector('#df-b6383733-8f37-415f-9fab-6bbcc273a38c');\n",
       "          const dataTable =\n",
       "            await google.colab.kernel.invokeFunction('convertToInteractive',\n",
       "                                                     [key], {});\n",
       "          if (!dataTable) return;\n",
       "\n",
       "          const docLinkHtml = 'Like what you see? Visit the ' +\n",
       "            '<a target=\"_blank\" href=https://colab.research.google.com/notebooks/data_table.ipynb>data table notebook</a>'\n",
       "            + ' to learn more about interactive tables.';\n",
       "          element.innerHTML = '';\n",
       "          dataTable['output_type'] = 'display_data';\n",
       "          await google.colab.output.renderOutput(dataTable, element);\n",
       "          const docLink = document.createElement('div');\n",
       "          docLink.innerHTML = docLinkHtml;\n",
       "          element.appendChild(docLink);\n",
       "        }\n",
       "      </script>\n",
       "    </div>\n",
       "  </div>\n",
       "  "
      ],
      "text/plain": [
       "   mean radius  mean texture  mean smoothness  mean compactness  \\\n",
       "0        17.99         10.38          0.11840           0.27760   \n",
       "1        20.57         17.77          0.08474           0.07864   \n",
       "2        19.69         21.25          0.10960           0.15990   \n",
       "\n",
       "   mean concavity  mean symmetry  mean fractal dimension  radius error  \\\n",
       "0          0.3001         0.2419                 0.07871        1.0950   \n",
       "1          0.0869         0.1812                 0.05667        0.5435   \n",
       "2          0.1974         0.2069                 0.05999        0.7456   \n",
       "\n",
       "   texture error  smoothness error  compactness error  concavity error  \\\n",
       "0         0.9053          0.006399            0.04904          0.05373   \n",
       "1         0.7339          0.005225            0.01308          0.01860   \n",
       "2         0.7869          0.006150            0.04006          0.03832   \n",
       "\n",
       "   concave points error  symmetry error  fractal dimension error  \\\n",
       "0               0.01587         0.03003                 0.006193   \n",
       "1               0.01340         0.01389                 0.003532   \n",
       "2               0.02058         0.02250                 0.004571   \n",
       "\n",
       "   worst smoothness  worst compactness  worst concavity  worst symmetry  \\\n",
       "0            0.1622             0.6656           0.7119          0.4601   \n",
       "1            0.1238             0.1866           0.2416          0.2750   \n",
       "2            0.1444             0.4245           0.4504          0.3613   \n",
       "\n",
       "   worst fractal dimension  \n",
       "0                  0.11890  \n",
       "1                  0.08902  \n",
       "2                  0.08758  "
      ]
     },
     "execution_count": 10,
     "metadata": {},
     "output_type": "execute_result"
    }
   ],
   "source": [
    "# Separate response from predictors\n",
    "x = data_kept.iloc[:,:-1] # store the feature data (x)\n",
    "y = data_kept.iloc[:,-1:] # store the target data (y)\n",
    "x.head(3)"
   ]
  },
  {
   "cell_type": "code",
   "execution_count": 11,
   "metadata": {
    "id": "xFGLo-1rJdNb"
   },
   "outputs": [],
   "source": [
    "# splitting in training and test sets\n",
    "x_train, x_test, y_train, y_test = None, None, None, None\n",
    "\n",
    "# getting the indexes for each dataset\n",
    "for train_index, test_index in test_sss.split(x, y): \n",
    "    x_train, x_test = x.iloc[train_index], x.iloc[test_index]\n",
    "    y_train, y_test = y.iloc[train_index], y.iloc[test_index]"
   ]
  },
  {
   "cell_type": "code",
   "execution_count": 12,
   "metadata": {
    "colab": {
     "base_uri": "https://localhost:8080/"
    },
    "id": "crBRtCTLJdNb",
    "outputId": "b7d2c009-f2be-4e46-d377-c130947b65b6"
   },
   "outputs": [
    {
     "name": "stdout",
     "output_type": "stream",
     "text": [
      "x_train shape: (483, 20)\n",
      "y_train shape: (483, 1)\n",
      "\n",
      "x_test shape: (86, 20)\n",
      "y_test shape: (86, 1)\n"
     ]
    }
   ],
   "source": [
    "print('x_train shape: {}'.format(x_train.shape))\n",
    "print('y_train shape: {}'.format(y_train.shape))\n",
    "print()\n",
    "print('x_test shape: {}'.format(x_test.shape))\n",
    "print('y_test shape: {}'.format(y_test.shape))"
   ]
  },
  {
   "cell_type": "markdown",
   "metadata": {
    "id": "D9yXd3MTJdNg"
   },
   "source": [
    "---\n",
    "## <center><ins>**Artificial Neural Network (ANN)**</ins></center>\n",
    "---"
   ]
  },
  {
   "cell_type": "markdown",
   "metadata": {
    "id": "nEtd1ZXXJdNd"
   },
   "source": [
    "Regarding the neural networks classification model, we used the standardized data as they were sensitive to the variance in the data. We decided to use an ANN model which is a sequential model meaning that each layer that we add per line will use as input the output of the former layer added to the model"
   ]
  },
  {
   "cell_type": "markdown",
   "metadata": {
    "id": "k3g2KohbJdNg"
   },
   "source": [
    "### Creating Layers\n",
    "We started by creating the three types of layers:\n",
    "* Input layer\n",
    "* Hidden layer\n",
    "* Output layer"
   ]
  },
  {
   "cell_type": "markdown",
   "metadata": {
    "id": "Li0YvBf8HjUf"
   },
   "source": [
    "<b><ins>Dropout Layer</ins></b>\n",
    "\n",
    "We also decided to check the effect from the addition of the dropout layer to our model.\n",
    "\n",
    "* [Dropout](https://en.wikipedia.org/wiki/Dropout_(neural_networks)) is regularization technique to avoid overfitting (increase the validation accuracy) thus increasing the generalizing power.\n",
    "\n",
    "* The [idea behind dropout](https://en.wikipedia.org/wiki/Convolutional_neural_network#Dropout) is that at each training stage, individual nodes are either \"dropped out\" of the network with probability $p$ or kept with probability $1 - p$, so that a reduced network is left.\n",
    "\n",
    "* Incoming and outgoing edges to a dropped-out node are also removed and only the reduced network is trained.\n",
    "\n",
    "* After training for the epoch the removed nodes are then reinserted into the network with their original weights.\n",
    "\n",
    "* At test time, no dropout is performed. Instead, the layer's output values are scaled out by $p$ to compensate for the fact that there are more neurons active than in training."
   ]
  },
  {
   "cell_type": "markdown",
   "metadata": {
    "id": "WgdBnfeNeq0R"
   },
   "source": [
    "![image.png](data:image/png;base64,iVBORw0KGgoAAAANSUhEUgAAA8UAAAE/CAYAAABvpGE6AAAgAElEQVR4Aey9+1NU15r/7x+QX/Lj+WGqpip1KKqcKitlUZafSp0cy/rG5Bw9YzLHmZg5Y+lMwAs6KpOjTCLqBDXgBTSKd414xKAEQzDBePCCilEUYsSIgQgKIndREATtpt/fWvu6dvfu7o3QdDe8rbLo3r332s96redZ63nWdRz4jwRIgARIgARIgARIgARIgARIgATGKIFxYzTfzDYJkAAJkAAJkAAJkAAJkAAJkAAJgEExlYAESIAESIAESIAESIAESIAESGDMEmBQPGaLnhknARIgARIgARIgARIgARIgARJgUEwdIAESIAESIAESIAESIAESIAESGLMEGBSP2aJnxkmABEiABEiABEiABEiABEiABBgUUwdIgARIgARIgARIgARIgARIgATGLAEGxWO26JlxEiABEiABEiABEiABEiABEiABBsXUARIgARIgARIgARIgARIgARIggTFLgEHxmC16ZpwESIAESIAESIAESIAESIAESIBBMXWABEiABEiABEiABEiABEiABEhgzBJgUDxmi54ZJwESIAESIAESIAESIAESIAESYFBMHSABEiABEiABEiABEiABEiABEhizBBgUj9miZ8ZJgARIgARIgARIgARIgARIgAQYFFMHSIAESIAESIAESIAESIAESIAExiwBBsVjtuiZcRIgARIgARIgARIgARIgARIgAQbF1AESIAESIAESIAESIAESIAESIIExS4BB8ZgtemacBEiABEiABEiABEiABEiABEiAQTF1gARIgARIgARIgARIgARIgARIYMwSYFA8ZoueGScBEiABEiABEiABEiABEiABEmBQTB0gARIgARIgARIgARIgARIgARIYswQYFI/ZomfGSYAESIAESIAESIAESIAESIAEGBRTB0iABEiABEiABEiABEiABEiABMYsAQbFY7bomXESIAESIAESIAESIAESIAESIAEGxdQBEiABEiABEiABEiABEiABEiCBMUuAQfGYLXpmnARIgARIgARIgARIgARIgARIgEFxUB1oQP6c1zBu3LgA/1/DnPyGoCnpN7jKN+E1Jb3fY1P5U/2yz1+n9/k86PCCp+sHrJ/8qpavweVBvMLz9Cfs/rffKs+/tqkcLofvfenb+ttQVZKH3ZvXICkhHglJa7B5dx5KqtrQLyXqrspBYnw84uOTkVPVK/0S/o9hlc1di1Ob05CWtg2FNc9MGO4q5CQKXvFIzKmC2/xlRD4NhclgnnXXnsLmNJH/QtQEy+QIMHEuTy+qcpKV8olPzEFVMNlHpNTC8JKw6W8fak9lIS3tM6QV1kj2MZrLxXneBmODI681T3H/Ui4ykxer9pN2Hu0jL4T2Rj96NAJ1jf8sRxIf/1KO6l9euvyd2+io5sfMkcAwEmBQHBTmKA2KPY9wfdM/4xUj2B9EUOzpRVP5Maz+U6zRURDyoLi3BifTl6uOjRLwqkGcCOTi45cj/WQN9PA3kp20sMrWcx27F9p0Frx0oxzUeBzdMBQmzp8dQM/1vVgo9MVJYBlyJoORh86Pokhh09/HuL47yabTaDSXi/O8ObdBR9XBMN7kQV/lYSyV24uwBsV+9CjkdY0/pJHGx5+co/z6S5e/cxsd5QSZPRIYNgIMioOi7EL12QLk5+cjPz8Hm+b8kxYI/hPmbMrRrhfgbHVX0JT0G5yOADu9T0/X+V8P+n7egz+98iomz/l3vK0Exk6C4h7Unf0CqXP+nxRMqyPoIQ2KPW24suMjLSBehOTt3+BK5S3cuPgl0hYnqNcTNqDwfp+CIHKdNGCg8QqO5eQgJ+cErjQ+d15kAe98jKqvtyE5MSHwSG/7eaQpDqLXCPpLN8oBhXL84+CYWPP63PGsADfaz2eouhIRQfFg5KHzoyiTP/0daMSVY8KmcnDsSiMGHGue0xtbcD4t0SYofo7GKyeU9+Ycu4LG4X+xUwFDcJ9znYvc+rYPtSfWqjY/fzNO3W1F++NeaaQ/BNgCJulHj0Kuv/6EijQ+/uQc5ddfuv11bqOjnCCzRwLDRoBB8aBQPkX5pt9rQbGfqc+eLtSdy8a6pbPx+9dewbhxv8Xv/20p1h2+giaXR3mbHOxuPFOGk5sWYsprr+K1KYn4/Ow99Km3Qb7PnGbtgavzFgo3LcWfJv5GTX/Oahw4dxdPteeCZqnvJnb96R8xLnYVzt46hjmOg2Jz1PyVuA+xKXUe/kEbaQ5lUOyq/Rof6739Hx1BZY/ufbrx5MoudfQvfj7+erwaLwBYnLRrN3Fm/3okJSQgMXkrjl9pMEaUFU7uJ6i99BV2pyYhIV7ck4bdJ8rQ2Ku/Q6Pp5D7XI1Qb07tFWuuxPft7VLabwa9FNmVqt9SwpZ3B/dqz2K/IshBJqfvxfc0TqThd6KotRd7uzUhJWoj4+MVITtuLE3//EmkLV2H336/hp9pHNkGB6YypI+v6KLsWHFsa5auoOXMQqSL9xE+QefyqFwshw0Uc3b5WmcIen5iMtP0ncb2xR5LT7qMcBB7Bj7VnsCM5CWnnW6zlZUx3d5bXF3JQ7K+sjWBKz7f2N1BwbGEiTynvQeP1ImRvX690QihlsG47sk9Vot1YP/ACndUXzHJKTMa67YdxqrJNXWIwaHkkHbHIHESWF9U4/tf5SlCQsL4YzXr9oF9fdhRVwmDEP6HfF49h+xrdDtKxv7BcKnv/5aelYPNnAL2NFSjK3o51yvRVe5sAxH1lOLF7napTCUlYs/0YLtY+0QKYwehvFdwvqpCzTO0sS0iXpst6GlG8PhHxCZk4rxRWMPmkPOv1j/ZXXWbgr1x03dXyI2xk99e4KtuIoV+JSDtXg1rd5hKSkLr/76jpDjZHPpjsojgk+YLVLa5W/Ji3A2uSFiExOR37T/6A84dWOupE8q3TVFVwd93Fpbzdal2i11VXrfWvq7MaJXl7sTlF6N1iJPvYEgAH9aqv8g3geXcjruz/q5aH/bjS2o6O7sc2SxHkcs7A+XbBfhDsFNQNuHpCz+tCJK3ZjqMX76JLKUY5fWsdpOiRoQvey1eC65HJPgPn7ldrbZ1YWrQe+7+vRrcvGO2KPz5aW+WkvTPqsWTk/HgLxTtWIdHPSPyLmjz8VbGdRKwvboRRFSnXE7Asp0ppu4HgeYYtL6mOMGQwryXmXEdt8S4kJwrbt7MtqYwSc1DZXIG8zE+QKHyClL04U9sNV3slThq+RCaOXrr3Ur6Eq70CeUr7KdrvAzh54xwO2S1fClonSzpqaRf8Fjp/IAESCEKAQXEQQNafgwXFT/HLgTl4VQkUf4OJf/wAf/njRG1U9R/w/22rUCpRM9j9R/zu95Px29+/h1m/V9fmjntlJrb9pI46m/eZAbin8xLWT/kHNTB/7feY9Zc/YuIrYrT2n/BvB25BHSu1Sm391ou7h+fh1XETsfBkAzxN+YMLiufPxooDl9DQNyAF7eMQuqD4OeoLU1XHRqx5za6EGWICaCnGOtHYJiYj9cAVZb2Y6SgsQlLSEuNZJSBM+AynjBHax6g8nIIE8XxCElI+26AFm/FI+PgYqozg28l9Pag+vlZJKyFpHXZlH8IuJbgVaeWhWuvpMGXTR2ulhm3VRmR8vMgq75KDuKHI4UF/bQHWJAinahGSdxfgXHEetidr93/8NWqNoMxa4oDpHAQLiucnJWGZ5vir9yZi7al6LdB2o6syB8mKDCLA+RSfKc6s4J+Owlp9Arv3+8V32enYgIz0pYiPT/QTFDvPq8kzQFkbzpvVIQ04jdrW8erF/cI0zFf4LERSygYz//GL8PHxO+iDB33VefhYMBIBzq5DyN6lB3trcby6Bxi0PJKOGM6PE1l6UXM8RdWnhE0oblYj4IH6QnwSn4Cl2ZVafSHptwhMUtdrdpCAxHUnUdsvXFj/5WdX2oAH/fe/xbr5KvOEpBR89lmKGvTGyzYxgJ6qr7A2UZvxIetewlocrRJ1oXP9VYPVblRma2uw5+/ElS6tg+vRJWTOj4faQeBEPpc5u0CWy1h7b1cuso146YiRH6XnTlvHvwirNm9U9cV4RwKW7P8R/ruZnMguykySL2DdYtZdwuYTkj7BKqXTTbMXQ+fsS9q0Qb1OA9D1Ew5rdZO17Bfh46O31Lz13cFxpb4THYBZyM7O0gJo3ZbE+0zZAtWrvpJJeTe4iqDzOip91udLuh1vExQHZCdEvI28tV7tjPJOPa9y+tY6yH9Q7EyPTPafYHPGJ2pbZuR3BfbfkDtVZUr++IgOQKk+CNQuGvVYEjZnpKr1ohGQyu8CoHfECf0yOuj0tj0Z2ZUifHeW55cKijdnIF2pi/Ty9ZJPrt8WJiPlE3VmiNFeLvkUaf+nrUs3+K7FiVrd43LIzNB5oQcLkbTqE6NOFO9S6y8hm5Se3zpZKsMgNuqdW34nARKwJ8Cg2J6Ln6tBguKus1jxGxGgxmLukV/UEV/XXeTO1dbevrELt92QgslXELvsJB66PPA8LcfnYvR23Di8uvR7PBId5D4bcnXhp20z1SD71fnIrRcVshuPzq5CrAjEX12Kk61+IyOxNRZe3D2C2a+Ow6uzj+DuCw8wqKC4H0+f6kNLsnyhDIq7cGO/PnVaDaL8FI5x2XQUErAk8xSqm1tw99RmLZhZgoxLbcq9Zu/1EqQXP1BG8VzNZ7TGMxFrC+uUa47ue3YD+xeJhm4Fsiv1zdOeoPJoBjIOfIPrzepWYKZsugMpNWzxi7Eu70c0tt3HlQMfa8Gx3vCa69HipQDYHEXXHQsDg/TBhd7HHWi9sl/bgOyv2H/lAdrbH6H7+YAYWjc22opfsg2nqpvQfveUxiEeCRmX0ClSkxr0+eln0Kyo2iNc362OxszPvKTorfRi6aO3YyhGU3bgRNUTm5Fi53k1eQYoa3cvHrc/8Bk1au/otnawSNLKTAxHxVjTugTp399XN3dzPUBxuuYQrziB2gFTX80OnAH0VB7DhoyD+Pp6E1yDlkfSEd35cSQLYOruUmQqeq87oh9h/w0RcEpBfLxpB+i6ht1LRKCqP+e//GRs5mezDOenn8aDfhGYPkdzcYZmh5peu+pQuFZzQJfsQPHdZrS3VKN4u2rzqgPtXH/VspLXSiZh9/XHEKPR6ppyfaTKmXzu3sdob72C/fpIzv4raG0XI46ia86mXCTn37ARSUcS1p7EfWE3ss3N34C8mw1oe3AZBz5SR/bjFV0yaVo/OZPdIl+guqXrCrZrnReGzD03cViXRdc5qxDGN9MGzTrN6IyZn4HiZsFKKntlqcszPLtxEItEgJF4GJV6T2dPJY5uyMSBr6+r9YvDetUQxvgglY0RxLxkUByIHfpwv3CDFox+hO3F1Whpb8bd4h1YIt6rdUYF1CNJF4y6xqEemezjMX/dV7jZ2IIHVw7iIyXP87HixF2bmUMCkj8+VegzRnXN+sCuXfTu3EtIWottJ372MzotddDN345Lj9zAwD0UfrIQ8YsO4sYzjyVwNvQwiO0YvOSOMyMw9+pMEzNQtn2Dqm6vWWCKzsj1m1a/e3pQ+/V6rWwTsGR7Me62tOL++Z1q2WqduuJxs54NxGwAXVd2Gn6I6nOItuGIVl56UOy0TpbKMIiNGmbBDyRAAgEJMCgOiMf7xyBBsesp2pvqcLv8J9Q91oNT6ZnXNqHcJQeTE7HirL4XZh+qD8xSR4D/cT2u9Ht8g+L+69g0QUzJNgNnRcKei0j5BxGMy+l5yy6i7DrkL5gIeTR6cEGxNU0zaA9lUCw3bIMNinXHH9LonJ6GtJ4qfgNONWrBvt5QC6dCcUwd3tepO5ZiutUOHD91Dpeu30LtwyeWwMt0YkwH0thZeOFeXNdGp33vkzgYjb40Ui410NZSMr/5pqn9Jjlli/bfgLovte/7XlQd1UaRl2H7lQ7tYY/p3Erym2/VP8lOx3wk7b+GTm0Wm69cvu9WUtFnBUh5NZ8NVNbi6UE6EBITw/FSgtlG1N6pQaMxvdU73Q5c2b5M7dBIXIMdx4tw7tJ13KptQpfogDD+eT9n/GDzweZeR7JYR2jmb7+CLn0KsVFWPajK0Tpg5FFVmMH9wt3X0SOPpMRby89GYFHZoPdxGxprf8Gdxm5juqRZXqr+D9SewArNgdeXP4j0XtScxOa0dGTsOYNav7MstDfblVVfJbKXiqBeHxHX86PbujP5lDfYpa/84FsuZn4WYe2pBi3fekeE6DTTOgOkNFW+IkHf9LQcev1xKruUnlHeXstLqnqlTinZrp+iMnuFpseBdzz3LlMM3MWJFVpwv/YUGrW5suoMBcFABGs16JQChJQdx3DqXCmu36rFwy49QhYjzs7qVS9A2lcp/0bQYHdNrpv0kUTpvgDsLHn9ax5q9D7jFzUoFDv9ZxxEca025i+VuVGnCEltrjvVI5O93vljn55zPg7bO1GVGSPF8YhPOojrnXrm7d9mBo6qnnmai7E+IR66/jvNsx0vy2wSo32U2pH4ZOy/3h5gPbmsAxtR3KL6byZfqbPbyPdgfQlJp+S69nklsvVON+X0B6d1spSeod/27HmVBEjAGQEGxc44aXdJAe44c0qzJQmx/uni1ziwdTWWzv2LOS1ajOT6BMVyGi405c9Xg+Jx85Hf5PIJij0Nufg3bQ3vq39civRNm7BJ/E9fij++KoLiV/D6tp/8VPwv0HRyOX477lXErS5Bp76oZ1AjxZacSvKFMijWnVnhTOmNkFUO729mQ6YHnnIDrqfRhksZ+pQ33RESKUkNqdJwtTi778lDXMpUd6g1plwpzv5CJGV+j1ptjbKvbPYNm+99krMyfxNO3u8B3I9RfeIzref5/3CiVjpmyRuK4iv5OarKximzcFCcDBdaijdqo9eJSNmerW4wlJODI9tTNBlW4bh81JNFBtnp+Bg5Vebk0KHk1fdZu7IWgthztogof7FlIiB2of5GCQqPHcD29M+Qqh/1IspacUxcaL+0A4uVshc6a/5PSNqGU7X6LAJ7ecz8aM8padrfG1wWkSEpIFu4F9fqLyhTiHVHFHiI4nXaSO38FGw/om5YlZOTje0p2vXlx1Hj9l9+MjbrZxe662/gfOEx7N++CWmpydpMBZE3YZtP0XlpmzYSo9ulNQX5m8lGsmtxg21ZmaOp8SJY6b2trjP+pBD1Rt9EMPm05QC26YsXe5eL209+ZHZa4Gmbpnd6cu69PzuR3T49K8duaYq4zNX+WW8pxHdrer1A5yVkKEss4hFvBCiyXcZDdNA8ab+ITH2jRMlO4hNWIPPUr+p6TU+Lo3rVTi7f8hF32eVLLh+9LbC7bxB5tRPItszt9Ne5HvmwVwvEmPljCb59ZLLLo9N2cUAKiuU1wT4vMS9IHc4Ld19B/aXtmB+vB/PO82xv71K7beicdE3eP8GUSPpkpwM25S2e8AmKnTJ7aGzYZ1m646MXTutku/KTssSPJEACgybAoHhQyIIExa4HOLP6HXV68yv/D3NS9+LY998je+lENdgdYlAsj8z6OzfZ/9pec5Msf8+q19WA3AkWWR7/73WSUqB7XqDx1AYtuLBpfJUe+Uzszs5BzslKiImSto7CyzRkCdtwqbM5eFCs3OcGeu8aG53IwZA6MqJOY/OVzb5h871P+HN3UbzjY691Y2KKnuREBkBpm6a436dRFhclh0JxMiQ5ZQfW8ll2qr0FsXc61NfbBOsO82qbJ5+yFm+R5HfSq27HxNWKawdWqfwT/oq0Q9/gzJUrKNqudYYY6T41N06y8NFnH/iXx8xPkKDYsSyAOUK3BP+XugrzjSnR1rK36qwZzKsOnP/y8y5p9ftztF87pK0/X4iktEMoPPMDyou2q1NmlaBYDsiGOyjWp0uLfKSioDgHK+IX4pPCe9p0UifyhSIo1pZv2OmXYx11Kru9zps6JuxVLgPZfu2ftStra3rOgmJ1ScYAeo2NBSV9U2xGXzai1nvqZone9wSaHuzPxuzyZafbdvfZtC1GXePVAWAPyj5Y9dEFJwGiqkc+7MV7fdKzE8YfHwcBnt7eGXkPbruqBHIH3Sqkrl2MeH0qNZzn2T5/3u2VeKPdNX8s7HTAprzF4z75dsrMYVAslV/gOtleR/3lkNdJgASCE2BQHJyRdEegoNiD/vJNmKCM5MZibu5ddadZPMGVdW/4CYonI+WiWD0s/gWfPi2PFFuDUBeetjejqf2p9k4tScufaA2KZac+HvGW3afl9Tj6NEmnDZk08hqfisJ6bcqepwGn1mqbV/lMnw50nwrb/fw5XM+70Fpfg8rrZ5CTpp2trPVe+zox9g2b733P0V5ZgIykRCTt/h7XrlzA+fMXcOVGNeofq+uVLcVt88U3Te0mqRE2Rxa8HQp5pFh2noUTJtbsduBxr75kwObllum3+miMep+vXM7z6vusndMi3mPP2U5S5ZoNE3P6uLluDPAzzdT9HM9d/ehurUdN5TWcy0nXRo/1vA9GHt97ByWLNEKjOFmGIypyKo1KGEG9SkVZB9n+GL0+O+jqefBLD5B2gDbWB4px68rD2mixqkNmPuQAR9j1V9iYloa0zG9R8zLTp4Voxrrr+UhMFDYt2a9D+ZQc2uiCmnPfcjGngMoBuNyx5zt92rQ53/RsCTuW3T49q830mMsf4kMwfVoamfc0nsJaJeCVy9qN589f4Hl3K+prKnH9XI52zJ410ApWr9pysrV5OyZy+ei6bXefTdsilYVlHXhPJY5vTENaWhYKa4YyfTqwHlnLMlgnjjcluzw6bRf91bPe77B+Nzvo1A4OeR+KIdmO3G7bjRQb16zymN+GEhQ7ZSbNegs4fdppnWxXfmaO+IkESGDwBBgUD4pZoKBYnv4ch5Vn25T1ZJ6uH7B+8qt+guJXELvie7Q63WhroAaHZ6qbcY2L+xjf1veIrbPw+JdjWBor1hrHYl5+vbF+z5o1LXBuakKT9P/B9yn4RyWQ/0fMOlCOpqYOPBVHR7lv43D8HMyZMwdz4g8rG4Shrwm3y8tRrv2/enipcSTTPyw9jKvGb3fQpJ8rZRXiJb+ZmzmJNYKL1x1C0bnzOFd0COv06XfBzin26d2VN8cwN9Vy3T+JtcrUP/OauRbKvGa9rxZPq05grdixdclOlDTr05h7UJOnnpOpr9X1dWLsGzaf+yQHP2n331FV34z29nZzsywHZM00lyD9VDXa9UDW1un3DorFGcunNDbzkbS7FM1i8yR3F+7rm8rMz8T5Nn+Bsb3TIcQ25dKC7UHk1edZkaBNWVuCYv3MUiPgs4Hnw0SWX0z5U7YeA7w3JOqpwom14niZj7Cj5IG6GRcG0FfzlXqsmL6pjOywB5XHW0ccymKcPCKN0Fh2fxX5fo7GU59psw+Ssbu0UZHZ3V1rbHY1f+N5tHnkd+qBgw03/ZJRBvFYtPs61EnjT1B5+BNt1odW1n23kaNv6LRkK07ebkBz7RXkpKo7vZo71cp64kR/hSDSFGoRjMmbVzmVTyQj6cL89FO4K+xOOe/Wu1ysa7iNTbWkzcSMa1Kagw6KHctuI5+dvbWfR7o23VndFM2N/uZS7E7S1gV7dZboRaz/9bVBaVMlo16WNqRSrrWh6sRnylF5S3aUqHWJSLDvF+R9LI6bE3sEPEGfw3pVl8X61y7/z1BzfJWqgwmpOF7ZiPb7pTig7+Jvt/u0lH/fvD5FVY6WXnwSMk9WorH5Lspy1qtLSqRd3/3qkZ0uSBttGTpjo0e+8lj11dQtKxn1mx0f5+2ifT1r9x7pmqWDTt/0TvvdYZ7hrsbx5dqRa2vyUNncivs/6LNS5BF73zZMksTro339ZsvXsD+z4ya4jyA27RS72Wdqda2+mdczNJfuRZI2o0gtL6d1sn35eWWMX0mABAZBgEHxIGCJUaFA5xQP1B7GTOV4JLF++E9YmpqMOZPfxpy//M4mKH4VcR9+iH959RW89vt/xh+VM4fHWTbBMqcn62uPxa6ERzD3t+pmW9Zp0L9B3LJvUK+dhew0W+Y7XsOc/AbzMVc5Nr0m1imba6HNTbm069r6Zqsc4jfnU7DNFwb51FuDk+naqKvWgJhTi5Yj/WSNcWag04bM99iD/9POnk3A4vTvjHXAju5z1aN4oy6fONZmg7neNGEdTmjHFfnKZt+w+dwnOQxmvvXphOJ4pAwcPl9rMLClaWxaoz+nNep2Tpnt1LNe3D+VYbteNj5hJXZcfBhgpoK90yHkHEpefZ4VCdo4LWL3YXPnTz3/AYI7GyZmp4BYP7wG2w/tQdpHq5D2mXyeax8aizM1RuqxVeZa2kSsOVFjBMrO5fHVEWeymFqgb2oj1uXL54Qqd/TX4ZQf20pI2o2Lyu7B/svPfIv0aaAep/RdpeOXIGX7AexPS8bHaeuxUrFffbaBC50/HtamWevlov1NSEVetXTS6qD0V8jixiNl3aJIzzzHXJHSsXzibmnzNL3u8V5SYARO8rEyovz/z6wHFm/GSX1NuY1+WTpujPQkpvpHx7L76o1IwtdmOnHjgHaElZ6/hE+QsVnrwAgki2161iOZlOPyjPXkZl3taizGRr1TUxypl/apVv/GI2FNgXoUmMN6VUdj/WuX/wH03Dio7R6s61siPklJ1s671+sEu2ft2AGeznIcNIJqPU3xNxFr8u5IdbIfPbLVBWd65FuWSoHYT9O2wgkwe8b7OCA/7aJtPevzEq8LL9BcvElbgmIeE6fe5CzPwBPc2K9tAmfo60qkrNKOTDJGhUcuKHbkI4hMdlXggN7ZpMme8PFGbF6lzk4zOjEc1cn2OuoFnF9JgAQGQYBB8SBgBQuKgX40XdyHFbPi8Mq43+L3c1bjwJV61OsbaP3mf3G2Sz/fdxYOVD9B05VspMyZgtfG/RZT5n+G3PIWI7AwA1Y9KBbCeuBqu4H8TUvxJyWQ/g0m/mkx1ueWo22QAbFIzXxHhAfFQtjeB7hedBjb1oiROBGYJCNtdx5Kqh8ZzMRtto6Cvwbc/UpFuKoAACAASURBVAS1l77CbuVMYeHEpmN/YTkatY2xRHrKPyf3ecmXkLQGm3d/hUu1T4zNz3xls2/YfO+T1xHKjpf8OdCxTCIXz9D4wzFsN/itwv7rHQKYjRPlz6F4gc7qEhzdvlY9X1E55uIIiqs6LGWgUZP++A+qhpJX32f9BcUA+h/gh6PbsUY5g1WU9SFcf2wMp0qy+nMsn6P9xjearixGctoBnKxsRvP5DHXkydiltgeN14uQvc1klLJ5L/Iu3UWX/DrH8tjpiFNZtGwZ0wv13Zet2YXYIPB8rqEbyvEqh8+gythR1n/5eaVkfHW138DXu8UZzZpdnaxEe/M5pCnOoL7Bjrhd6NQF5O3erJyPrNjN/pO43mhuxqYmOhj91cTQziaOj0/B8RrrOdrO5fOgv/EHU+fFuaH7r+GxPNpvCRxd6KotRZ6Sd62e8s6Prc3ZlbOB0/LBmez26dnaTO89lBzehOTE+UhM3orjV+6h/pym15a8WcRQvtimJ0yo6y4u5e3Wzh5W7aXw+gMpSBxAb2MFirK3aTYpznXejN15pajtkmacOKhXfaUSV+zzD1crfszbqgbgiZ8gM68CzZX6vgaDD4rFm1yd1SjJ24vN4tx2cbbv5oOw5lXc5UePbHVBSTWoHtmy95ueSFP+54ePuMVJe+evTZVfYfPZmEYv7Uxu3ubAdgTv9grkZX6CxHhRt2xF3o/3zPOnwxIUO2SGAfTev4DD6WLTwcVIzszDlca7OJembmpoBMUCSNA6OUD5mUD5iQRIYBAEGBQPAhZvJYHwEBhAb+Xf1ClW0hnFYvTzefcjtN8rRuZCERzLawLDI+nQ3zqW8jp0WoFT0PSjvR0t1SeRNj8eCcIRNXZfDvw0fyUBEiCB4SHwHN0dYrlPE6oLN2F+fCLWnqr3c4by8LyRqZAACZDAYAkwKB4sMd5PAiNOwIO+ysNYqoywiRGXXcjO0Y/OOYRd2ij34vXfoFo753jERRy2F46lvA4bND8JSSMJiu58hB1X1L0O/DzAyyRAAiQw/ASk0Wtl+c+S3bjySJoNMPxvZIokQAIkMGgCDIoHjYwPkEA4CDxDy43TyNmdYa5R1KaQp2bsxfEzlWgRG1+Nin9jKa+hLDAzKE5IWo/9Z+5KU1dD+V6mTQIkQAISASMoXoik1IM4o6+tl27hRxIgARIINwEGxeEuAb6fBEiABEiABEiABEiABEiABEggbAQYFIcNPV9MAiRAAiRAAiRAAiRAAiRAAiQQbgIMisNdAnw/CZAACZAACZAACZAACZAACZBA2AgwKA4ber6YBEiABEiABEiABEiABEiABEgg3AQYFIe7BPh+EiABEiABEiABEiABEiABEiCBsBFgUBw29HwxCZAACZAACZAACZAACZAACZBAuAkwKA53CfD9JEACJEACJEACJEACJEACJEACYSPAoDhs6PliEiABEiABEiABEiABEiABEiCBcBNgUBzuEuD7SYAESIAESIAESIAESIAESIAEwkaAQXHY0PPFJEACJEACJEACJEACJEACJEAC4SbAoDjcJcD3kwAJkAAJkAAJkAAJkAAJkAAJhI0Ag+KwoeeLSYAESIAESIAESIAESIAESIAEwk2AQXG4S4DvJwESIAESIAESIAESIAESIAESCBsBBsVhQ88XkwAJkAAJkAAJkAAJkAAJkAAJhJsAg+JwlwDfTwIkQAIkQAIkQAIkQAIkQAIkEDYCDIrDhp4vJgESIAESIAESIAESIAESIAESCDcBBsXhLgG+nwRIgATGEIFx49jsjKHiZlZHkABtawRh81UkQAKjjgC9kyBFKhoZ/icD6gB1gDpAHaAOUAeoA9QB6gB1gDowdB0IEn6F5WcGxUGwT0tcD/4nA+oAdYA6MDw6IJwJshweluRIjrIO0LaoD7I+8DP1IZJ1IEj4FZafGRQHwR7JCkXZWOFRB6gD0aYDdNyps9Gms9EiL22LthUtuko5qatBwq+w/MygOAh2Gi4NlzpAHaAODJ8O0HEfPpbUS7KUdYC2RX2Q9YGfqQ+RrANBwq+w/MygOAj2SFYoysYKjzpAHYg2HaDjTp2NNp2NFnlpW7StaNFVykldDRJ+heVnBsVBsNNwabjUAeoAdWD4dICO+/CxpF6SpawDtC3qg6wP/Ex9iGQdCBJ+heVnBsVBsEeyQlE2VnjUAepAtOkAHXfqbLTpbLTIS9uibUWLrlJO6mqQ8CssPzMoDoKdhkvDpQ5QB6gDw6cDdNyHjyX1kixlHaBtUR9kfeBn6kMk60CQ8CssPzMoDoI9khWKsrHCow5QB6JNB+i4U2ejTWejRV7aFm0rWnSVclJXg4RfYfmZQXEQ7DRcGi51gDpAHRg+HaDjPnwsqZdkKesAbYv6IOsDP1MfIlkHgoRfYfmZQXEQ7JGsUJSNFR51gDoQbTpAx506G206Gy3y0rZoW9Giq5STuhok/ArLzwyKg2Cn4dJwqQPUAerA8OkAHffhY0m9JEtZB2hb1AdZH/iZ+hDJOhAk/ArLzwyKg2CPZIWibKzwqAPUgWjTATru1Nlo09lokZe2RduKFl2lnNTVIOFXWH5mUBwEOw2XhksdoA5QB4ZPB+i4Dx9L6iVZyjpA26I+yPrAz9SHSNaBIOFXWH5mUBwEeyQrFGVjhUcdoA5Emw7QcafORpvORou8tC3aVrToKuWkrgYJv8LyM4PiINhpuKPEcLdcQ6ttWbvR0/EQ5We+wn8uHqa8Lv8ON93qy1x3vsPMRD/pOr3P3/PDfn0rMsqa0drxGK3l3/iXe9jf64cP34PRWP+ExnH/HHvu9GkW3oebuZ+PADvn9jIztxYuRbqRki0ybeqfv/gJTR2daO24hR3LTRlDzmfZCZS0ive24vKRbaZuRFwdbDJ5GdsPjW0NTaaXyUe0PGPqLRCwrY+QtuztlK9QeKcNPYp/4kbrhb+ZtjDSMvqxSZPp2K4ro8UGhiKnrUse5osMioMUwFAKnM9GUGPqNyjWFWAAT+98jw+HIzB26mg5vW/EGqu9yG14oQCJhgae9hVB9jUIHQ2N4x6OoNi5vdDRE7qahvjvGjEgahh3LfaMZFC85jxqlRd7OdoRVwcPzaZDY1tDk2k019OmXUdDULwTB3/VOw4VIwxvUOzHJk2mXrY6iDZmNOvcaMqb7n1H0l8GxUFKYzQp4JjOixwUd9ciP/c77MktwsG/V6NVHcIB8Bglu7YMvefUqaPl9L4Rawz+hlMd6hA3g2I6gqGqL0LjuIcjKHZuL3T0hD2lY+WFdrXF9QqK/7TzEn68U4ubd6qQvzNj6HWwd51p1P9ejvbSo8i/Ld5bix9PH8WfvJ+Lsu+hsS3Whf7qQtOuoyAoXvo1yvo8iv152n/C1i0HsXTVxuG3Nac248cmQ14XOJWP94VcN4KEX2H5mUFxEOz+KkNej7KG0qiAAXRcw0qjwtuGjJ+6NS14gfrTBzAtUXZ2zyPzchN63O04tSUd0xI3YGbq1yi89RCPnouhBzH9uhFl3x/DPH2UWQ52f7mIzLO/orHXDbh70XjrPFYnp6mVjXyfPM16+R5knqtBffcLiCbM9awT1eXnkLpKe87Lufzi87Mob+lVpme6uhtR/MVO/MuW0yi99wT94vneNtw8G2h6uOSsetmD604R/uNINZ4p191ov3wUf1DYbcAs7frzO0X4VyMvbrRe/AYZF2rR0P1ckb32xjkzz8qzm7Do0BXcfNityAf3M7TW3ULuzh142yiXKNMvyu24AQ2N4+40KE7DvJ3ncOHXFnQ80zqAnj1B/a83cHCL1CGWdABZJdWobX2q2pDlnkD2Yr9cwnSerUHZ26tykVt2D/Wdfer0ancfOh7eQ8lXh/Beomljop7xa3uaPYp66eSdFjwx6qUGXP4216yXvOqNI4fKUd/7PPBo0eIdSP32Jm4/fGJMuezpbMHtstNYmbTBLPPFO7Du+yrUPn6u1Fme592ov3MFmamb1Hvk+leuY7Tg2MpnO/419y6ea3VOy4W/GfXCHz6vgAirPe3XsFKpb4OVp1mXy68FtHIw6i2voEbUwWd/MfIj6uDany5gnVEHr4cpczu+338SxXVqfet5/gQ1V09igd4ejGDdEBrbYl3sz98zdcBLf3zKXLR5P6C8QdURpc2rr0L+LrnN24D30k6i6FYjmpS23w1fW3Nyj015Lc7AgsxLqNaWdbnrLuGTLQewYOUOc9mJ0VEl12+a32PYida+lzZo/s9zPLr3I3Z8Knwj/b1pmLfrAsr0vOIFnjyswclDe7QlWYFt0mRqrSunBbVJqQ3oKMfGL66jWqmPBtD/uAHnj+wx6hFTVl1m/g0HE2udHBnfGBQHKYdwKArfGYIKSnbKLEHxJqRcfqRpgRsPzx6yBMXutna0KJ2rauPwdmoxbvcq8/Dged6Dto4eNbCDNP3aaEAAz7M+9Lr68Oix5vSK+37+Fn8RDYh0nzEyu3gvvqjpURxLJeB+/ARdipMLuDpvISNZOKJSozXwDF09qjyGKru60fpEa/2Mi09R9sVWqeGSGUvpGferHxS5PjqJCr2HubMCq5eIZzOQXt4F4Vze/mqnlJcB9Hb34oW7D11a0AEMoKemGIsUJzEdi/Jr0aO9x/WsG21a8A93Jy5/sd2PjLK8/BzNdURoHHfJIdIDHsNJ0/VlAz7YX4kOdbDEy34BT081sv5X2NcOZP3crQV3T1D3633U6cGecs8mc8TTzl583isHUJKjl3wClzt1O32Brg7T1oFuVOTswDQntpe4HnK9BHcfHhn1kgsd5V/jA0Umyc7dT/CwXUyRCbSu8HNsLO/U6qIB9Hc/MW1VrscW78aeW0+0NdNWIJ6eGuxdk4Zpcv0r32IbFH+OaR+fxm11JQc8Dy8hUZM/6WwLPEYHgZPyPGLMfpFfGzAottTB1nIx8pMol2kvmlp6NU76W/pR/c2eEa/LQmNbuv3wr3e9awZwgYJiuc3ztqOnuHlstxqs/e+3qFDachHENeP2r81a4Cn5DE7usal/ZF9D11DVBg4OMigeQHfrIzw1E1E+vag7iw+V96bhw9xf8Fiv1iz36Xl9iaDYkU1KbcDTR3jo4xfV44ioi+z48FpYuFjUI0K+MCgOUhA0oFHSEMpOmREUp2F22t9R0a0HlV24vE9M3fOutF/gSdPP2PtpFnb8rIVznnac2S7uzcCay+2aQ/QEl/dvlQJEMUzbhMKMLZi2eCeybnWp93makb8uzXKfGhRvwF9yqrUGx42Wy7l4Tzi860pQq0zxdqHx7CG8LQfFcKPlah4+WLIDmTeeGI7Zi4cV2Pr5YWy80AzVtwzk/G7AzFV7sXKrd0/yF/jrpxl4O/FzKd8tKExPx7T//gqXRaMz0IAjn2yw5AX9D5AvRt2SjqCwUYxVi3+iU2EjphmNuhjtKccaMdq0+ABy69X7PC0/ICkMIyy085Gz89A47pJD5DcoNtcAe9p/xHplxoZsv1rH0SdnUK1UCf24/VWW6iws3oODd9rxsO5n5H6eGcRefFmazrMeFEvraz0dOL97G95O3ID3tpdrnXAe9P70Nf7kxPakIB5GvZSOxO8eqLbv0WzWUm8ImxQOegvKjvkJ3ow1f1odI+wyKRdn2jWPt68KGUs34F/238Jj1cih1juHkJJdgXqlztJGuJd/jqVbcpFfp9UH7gbkb/0CKzftxOzFcoCp85HWPw40IldxZvXye4Qzn2/GtET9u6hL/JXnDsz77CA+Od0AVep+VJ/OxUpllMy+DtZnwIgOA7UOlstlAI/L8/EvlqAY8HT+gkO7/ob1p+u1WTV6+fnqQijrmtDY1sjmIZR8hjtt064DBMVyx5be5kl25Om6hY3/8xnmfKPpqPseDq5QZ2G8veY0bj5qR/WN81jt6B5p9oYc6Ekd8JqpKh3aN3MHGxSLaRqPUX7iGJJ3l6Ja6yyHUhesx7T/ycflLs2fcrXgTPYRrPz8JM481Np3pVN9Y0CbNJnqdYF1xox/m5TbADc6bp3Fuow85Nep89yAQAMD1PHhtg0n6Zm6GDmfGBQHKQsnBct7oqBCkYNiP2UupuQlK6OgclD8DNXffaFO+5HW5KDrJ6Qq967H9H23oE7A1hwhqQEaaDiPeK1xMu/TnG3pPjUoFlOZtApcD5yVZ3fjiOZMqulJIz4QDqI6RdFsTCRn3sh3oKBYKz8fefRylRsldYq5Po3RyJ/0rPvX03hfkVty/KGOnJjTIvWp6uIdG0yHwHCA9Xfz72irX0LjuMsOke5MeeuOcMYOIfWLk9i9c6e2DMAmIFt3CfXaaLKruwUVZddR+N33yMjaowRwRnlIOm/M9JAdUemzaZu6bFpH1M4T2PPlUSzQ6hJ5REfvKDODND+299ci3PQZVV2PaUZw/wK13+21zjCBB311JVi+3I8TLWRXAtmjyMgtRKoxPVLirIzybkXGT/q4UQ8qjui7fm/HjvIWtHa04+7lE+rMmETvZ83ysePzH1/d06ZQa7NR9PwYda/D8rQEsDp/7d0+ZSjn5zFKdmpT6vVOQNF2aAGAKbPO18/sH0kPDN0J0bXQ2JZZTqGWP9rSN3XAf1D8py+q0Kv4HAN4XHZMq3f0mVbiBxGsbUfi6WatU9uNrsYalFz8AblfncD/pYqOaVEGaQ7uCVBWProu7rWzSdm/8J4+LfrBdZ/G91kzrx48+/kkZilyb8C/HrmF5o5OPKwvR4YyG8em3tVswmSq26pTm5TkkfwI3/QCMAqRXUabXo+UvH5c8bBeZlAcBP9IKQffE+KKyggO7Qp8AH3t1ThirCmUguIXd7Hnr5rjmPYDHuqPG6PN6y1TA5WpfraNj3yfFqB637c4B2c6tV5WTw/qf1E3gLl55z7qu7XRmefV2LHMptHy5/gZ+R5KULzeHBkW40sNl5CmTGMM7gyaDZJ4f65lqnrXw/vKBjdik5vKh/qU8V5UyEemsJEKy7SmUNZHoXHcJYfI70ixqGM2YcG+MzhVXoPqh4/QaixrEIatOWFL/obCZi3K1O1d+TuAvpYbyEwJtCeALIf6sAhuZ9seybQBMz89jiMXbuHHuha0dHRr63bN55Tj3KSAzM723v68Ah2anJ7uFlQqG1bV4uYvLejSgvv+nwvxz5aR4me4mbsjuG4t3430b8pw+ecG1Lc/xiNjSYS+g/QhFLbocyU1B9qvzUpsjPWLar1v1hO6I7we04yRatXB/k9lnfEAusu/wnTjHQ7K01/dKNLwroMT/eVHahO0DktbmX3SC3G7ZnBQ3xMa2xrZPISy7hnutE0d8BcUp2P52VYj2DWPQJLbcK2za8sVNBqbfmoGrfzpR2NZgXJk5B8c3OM3j7a6aWeTsmy+QbHZAej9rL+82uuPyU6yeVtbdWqTWTZTwf0H3345edkU77Mvv+HgImt5pHxmUBykJIaj4JlG6IzKMVsjOARg7D4tdqA+gdQt6hQ+My3JAZKDXydBccsPWG7b+DgIiqXn/Kql4kzaNFq2jYnNOwNV+NL7zYZPLzupZ3ugB4+63IAxLdPOuVSfMxs+ERSfMBstvxm0NpBmmehy8G+0MwmN4y45aHpw66PrW7Dyu/vaevYB9HXcx+XSUnxZ1qJNrTV17+2Ur42Nk6yqKk2LtbUXWQ71SfugeAPe23IB1fr+BP2dqKooR/63lajXZx8am+8Ftj3TxqySyt9Ue7avN/zqU9JhHKvTO6v60frrbRSfvoQLD7UOA6UukupKZYmEvOGOt61KbJwExdL0aPTU4EylGJHWl7iItJ2Xp8nILGMl3z5l6MABRysK09KljbakNH3S82YQ2u+hsa3QyuxX/3zsN/LkMPVqKEGxvpdJGv7T2BxKtl7xWZ/66+QeP5xsddPOJm3qCUfPys8F74Q32Un2Y+vHOLXJnaZ/IdUv/t4TzXo3WmT31vJI+M6gOEgpjBblG/P5kINiOdC1bXglR0++V54+3XML6f+tNj5/2PmTtqbOd/q0u+4M5mjvCDp9Wh4plip1ZcdrseZ3y17MU6Y7yo2POTpjW/kb+Q7eSPmOmlgbV1N+1Wgs639tG015upeY0r1XGim2NoTqVM0wHxFhqwtWBmPejoaBUWgcd8m58xcUy9OM9bV9iRvw/lf3fIJixeZWbsF7K3fhk32FOPhdOW52aMGgXifY6ry9vvjaprxUQt+fYD2mrTiN29rAq9wxFcj25JFi+ZlpieravZWffa7t+mpfb9jr9AbrDtDa/gbTErNw8Fd9XbA4a1jKh+G4CwZ7cPDnNrR2dKKxvPAlpk+LNOTlFwNwCS5SvTttEOXpy18rJ58ylKdqSgH4kmMo0ddK+kyfluoyn/Ts9cGe+dDvDY1tDV2uUOU33OmaeuUvKF4Pc0qxPMthC1LL9JX4esArOKdj9srNmP1pNtKPnEbuxVrtyEi5/XZyj02Z2eqmVG8aPocs22BGiuU6Q+o8TEzDh1/9gpaOTrQ2V2LHkKZPB7JJu7xwpDjcNhLo/UHCr7D8zKA4CPZABcrfbCreYXCaQ8LVCA69j2Syy4OfoFje9AbaplqJW7GxXN/gym6jrUbkp292uNHWFqwre6xNtepD7Zmj+GCxmGJ5wtyoQln3bO/cmg205KQZ+ZYbVbs8W0d71XMMv4DpUFunUFuPiLE+i757OLJuE6Yl5eBUi77YUd1cbPouswOhr/4H9aim5bux8XKLtilQG05laMe4RKouUa7g024DMAqN4y45RHCh9c6POHXhmvT/MvYcu4FWrb53159Hgtg4SmygVaOu+FOnT2/Hf+TewWOx47urGUXbxQZY4r4d2HFL3TnA6OiSnExbe5EY+NqmVMeI9W9rxZRs4TzWahs1eTnZ0hRqH9v77+NmwNbfiG8+FzJvwoL95cZmVy0XjuAPlunTZmeafX0r1zHPUfvdPoXD22v+jtv65jqKE70Bf8m9a8j8oqUS+3blIKPoLh4pU7flo6SkMvJ0oCT7sNHR58tHq6OMKdSi4GRHW54FA/gvT3WNs5m+Gy1lJ7FSP6NVKkO1Q0HeP0HfVEveTEy/5sfZ9knPT10r6YY9/5d7LjS29XKyDGe+IjUtU6+AgY5anLbUOdfwXe4XmC5vtKVsqrXBsiGVutHWTuy5+Vg5yeJF41Ws0Y5tfPt/T6Jc2UVZ7MnxpYN7dvuvm211cxt2/KzXf12oyD+KlfsvGzNY1A0y022WGQidkOxZD6j/twg39frB1YbSY8ew+otLuKltR+0xTq+Q7cdqkyZT3Y9xapM28tiOPFOfI8WegoRfYfmZQXEQ7JGiPJRjiBWZERwOJSi2OfrEWJP4Ai3l3yjrfowR1/7HeCiORnL3oVM/dkg+ysSukUrOR0m73XpGwNP/ECc/Fzteyw6r6dz6Niay4+ggKE48gHx9aqRuF/qomOLEbcbqy4+0oF3fAVYrFykvHrcbbq8jmZ789I12LMzn2FjWbnt8iwhK6s/lKDtuU9+HqO8hcrqHo1xC47hLDpGuu5a/fbiZ950ZPMKNrocNqOl4hqcdT7SNcDQn7H+O44xhg270PJbX0j5B2SH92LBg9mKWoa9tyh1ggKu7FVX3OvGs5wnanqnzp62jvgFsL1EcTXQDLbbrEQfQ13gFq5Uzhe3rDX9lanZgifXDT1H/60O09vWitaNPJas7wksO4kitPs3aAh2e7jvI0tdgWzYK0u9T6y9fPhq7xWLqpJ4xeSMv0UkndQYEKk9hC9LmaZrw6vnMUr1l8LYc/yLK31zr7WqvNNaU28psl94I2mJobMvUY3+6Mlavmzqg67P1r6pT8pFMgDiG0Fib7+pA6aGdys7z/7KrwrRh5Vg1U+883beRmfwZgt8TaOO873DTZxZKGj78pl47oUKXfQDd3c+g1kKDGSkWerIRy7+5Zxy5qKeo/u1CeY7Iq6ZPfmzSZKoHxaJT0vuoSpONaZNSG6DXTQyK/XeS6OUQxr9W/YiMbwyKg5TDWK3sR12+hykoVqZVpn6NwlsPtTME3ejpaMDlb3MxTz9KSHGM1KlS/7rlNErrOtHj9sDV247bl7/DcsVBtY6uGg6ZqKCSDiDrwq+o1wJpz/NuNNSUY0+athNqyILiDfhgVyluPuzWzl52o6euBEulStOYKm7sAKs1cLIz+Ot1HClvQOszt5rnstNYqedZSWsLlueUSe8RR17V4kzuAQbEEutRZ4Na3kLjuEsOkW2dLhys7XhvyxlcbXii6LfrWSeqy09j5efXtBFkc+O4t1flIrfsHhoMG3yKpvpfUHhojzYVWeh9cHvRy9DW0UvKxpEbWj3ifobWups4uOW4ca6uucuramN+bU/hugHvpZ3EqTsteKKcay6OW2qz1jd+6g1dRt+/W7Dym59Rq5zRrNZzpV8dweoL7SphaYdXpc4qqUZt61P0K0c9daC6/BxSV3mdC5qci68NGUWAcB+5n/lZn6vkKx3q2cRiH7Rq7PhIdvrFumxn5TktcRvW/b3GqFPh7kH1dwf9jICJunkPMs/+ouVdyCl0xZof2zKV60FjTbhWR46AbYfGtkZOfl8djOx3mzpgW+nAbNc3YdGhH1Cu1T1Q7P0WcnfuMIPExDTM23kOF35tk2y4A7W3fkBmqj57ysk9fpj5001RD91qUzf5c/ei8dZZrM6v1TquBxsUi3eL9v0qyus70PV8AJ7nT9FU551XcZ+9TZpMpaBY2E5Qm5TaAAbFER0M63ZubzXhvcqgOAh/vfD4109FOwINPdmHmf3iDCzY9AVWbjmCrHIxUiyOljgu7QAbIMCnfkRF4zSSNkbHfRD27MT2aGO0MU0HaFuDsC3aDe2GOhBWHQgSfoXlZwbFQbCPpLPId7FBi0gdkHqYFXNxPUR++kZrZSrdY/aOszwjsjzD7AjQcR+EXUh25df2wlye1PFBlGeIy4q2FTllQbtgWVAHAutAkPArLD8zKA6CnUodWKnJZwzwMRzzAfQ/i/HXGAAAIABJREFUbkDxF9K6IN3JM+7x2iBI/51/rZ0IY5gHHfdB1BmGXQWwvTGsS2x/rLpE27LyoH6QB3UgcnUgSPgVlp8ZFAfBToOKXINi2bBsqAPRpwN03KOvzGhn0VFmtK3oKCfaE8uJOrA+SPQVnp8ZFAfhTsVl5UUdoA5QB4ZPB+i4Dx9L6iVZyjpA26I+yPrAz9SHSNaBIOFXWH5mUBwEeyQrFGVjhUcdoA5Emw7QcafORpvORou8tC3aVrToKuWkrgYJv8LyM4PiINhpuDRc6gB1gDowfDpAx334WFIvyVLWAdoW9UHWB36mPkSyDgQJv8LyM4PiINgjWaEoGys86gB1INp0gI47dTbadDZa5KVt0baiRVcpJ3U1SPgVlp8ZFAfBTsOl4VIHqAPUgeHTATruw8eSekmWsg7QtqgPsj7wM/UhknUgSPgVlp8ZFAfBHskKRdlY4VEHqAPRpgN03Kmz0aaz0SIvbYu2FS26Sjmpq0HCr7D8zKA4CHYaLg2XOkAdoA4Mnw7QcR8+ltRLspR1gLZFfZD1gZ+pD5GsA0HCr7D8zKA4CPZIVijKxgqPOkAdiDYdoONOnY02nY0WeWlbtK1o0VXKSV0NEn6F5WcGxUGw03BpuNQB6gB1YPh0gI778LGkXpKlrAO0LeqDrA/8TH2IZB0IEn6F5WcGxUGwR7JCUTZWeNQB6kC06QAdd+pstOlstMhL26JtRYuuUk7qapDwKyw/MygOgp2GS8OlDlAHqAPDpwN03IePJfWSLGUdoG1RH2R94GfqQyTrQJDwKyw/MygOgj2SFYqyscKjDlAHok0H6LhTZ6NNZ6NFXtoWbStadJVyUleDhF9h+ZlBcRDsNFwaLnWAOkAdGD4doOM+fCypl2Qp6wBti/og6wM/Ux8iWQeChF9h+ZlBcRDskaxQlI0VHnWAOhBtOkDHnTobbTobLfLStmhb0aKrlJO6GiT8CsvPDIqDYKfh0nCpA9QB6sDw6QAd9+FjSb0kS1kHaFvUB1kf+Jn6EMk6ECT8CsvPDIqDYI9khaJsrPCoA9SBaNMBOu7U2WjT2WiRl7ZF24oWXaWc1NUg4VdYfmZQHAS7aGT4nwyoA9QB6gB1gDpAHaAOUAeoA9QB6sDQdSBI+BWWnxkUhwU7X0oCJEACY5OAcCb4jwRIYPgJ0LaGnylTJAESGDsE6J2MnbJmTkmABEgg7ATouIe9CCjAKCVA2xqlBctskQAJjAgBBsUjgpkvIQESIAESEATouFMPSCA0BGhboeHKVEmABMYGAQbFY6OcmUsSIAESiAgCdNwjohgoxCgkQNsahYXKLJEACYwYAQbFI4aaLyIBEiABEqDjTh0ggdAQoG2FhitTJQESGBsEGBSPjXJmLkmABEggIgjQcY+IYqAQo5AAbWsUFiqzRAIkMGIEGBSPGGq+iARIgARIgI47dYAEQkOAthUarkyVBEhgbBBgUDw2ypm5JAESIIGIIEDHPSKKgUKMQgK0rVFYqMwSCZDAiBFgUDxiqPkiEiABEiABOu7UARIIDQHaVmi4MlUSIIGxQYBB8dgoZ+aSBEiABCKCAB33iCgGCjEKCdC2RmGhMkskQAIjRoBBcShRuyqQGReDmBib/3GzsfrLCrS5PJoEPajInI6YmKUoaHaFUqoRSjsy8uOqyERcTBwSCh5I+e5HU0kG3o+L1cpmKfIK0m3ukx4Zyse+eygtzMOx0gcYkNKxl026gR9JYBQSoOM+CguVWYoIArStiCgGCkECJBClBBgUh7Lg9KB4egqyCwpQoP/PO4DUOb9DTMwk/FdenRYo9aEmbzUSFuxAaac7lFKNUNqRERS7a/LwPwnLkFnaZua7uxSpk8dj8rJDuFhRgYqKm7h77Uvf+8wnhvapuQAJMTGIy6yA3N1hK9vQ3sSnSSDiCYy84x4ZdZHzghmkvAN1KEiaiTij89W7E9D5m3lndBN4OdvqRWXWe1oH8eB1h5270a0zlJ4ESMAkwKDYZDH8n/SgOKEAzV6pe7pKse6NWMS8m40aefjQ677o/TpIx24EM+quzMKbPqPHIRTAT1AcwjcyaRKIWAIv57gPJTuRWxfZ52qw8vajo+YXPOgRnakPUJAwxWtmjP1beHX0ERiabb2c7jAoHn16FOocKToTl4kKeZQg1C9l+iTggACDYgeQXvqWAEGx6rzEIcaoGLwdIe17XCauNlxE1oJpiFVGAiZj1up8VD2VRpM93agr3ollMyaZU7Vjp2JO6gnpPheaC5aq07NrbiJv5UwtvRiMX1aENn0Wt8is5x7y5k3GtKybeO438248rTmJ9LlTtXQmYOqCXSht6tee8M6PuOxGT90ZZC17VxrVmIApc9Yjv+oJTBH60VS6x5Kf2KmJyCp9aBlpheshSncmYYYxDdpbBsDSYOvlYYyoqNPaxQhun800a8/TX1CY/iGmxKr3+coQLD/CyYgzy0R7rz5ibJFN5+xqQln2aszS8xQ7FXPTT6JGKm/1uenIvPoLSrMSMVWRLxZxs9Z6cdQT5V8SiBwCQ3PcXyYfbvQ8uI2KH39Fh7Fc5WXSGalnhiLvywU2I5Uzvie0BIZmWy+nO56eB6isuImaDr3tD20emXr0E2BQHP1lOFpzwKA4lCWrB2EBRorHryhGpyKDdxCpfR//Fqa/Mw0JWwtRWnEdpcfXYEZsLCanlqJbee4FmoqSMSnmd5ibfgzny8R04KsoPpSM6Zb79KD4HcyZ8xZipy5A2qEvkD5nEmLGr0BRm9llN1B3FB/EzkJWZY9fOp6m77B80nhMmrsJBaXXUVGah3XvxyF25g5UdIuA3Ts/gPlMOo6fv4qKigqUFR/EiumvI2byBpR2iyFzD57d3IWZsa9jRsoRNT9lp3FoxUzExs7CxqsdWvDchZtZHyA29j2k5JxBmZRW7IxMXNWmoFsCT89TPKj8EdeOrsDrMa9jVuYpVFT8iMoHT63Bs8i15wGKlk9BzKT/wsaCi6iouIiv132A8bGzsbWiU5EheH6eoaPmJiqKMzErJgavrziKa9r7RAeARTblnR24unEWYmNnYsWh0yiruIrzR1Pxftx4TFqYh7oXareB+txE/GH6W5icsA3fKfxzsXqGzNFv0fEHEggrgaE57mEVPQpe/nKBTRRkjCI6IDA026LuOEDMW4aBAIPiYYDIJEJCgEFxSLBqiepB8axMFCtrV0XAWoGy88eRKUZ+Jy3F0Ro98PQOIvXv4/HWxqvoNoZRO1CSMgUxEzeirF9cbENp6gyMn5eHBuMeEdQ9RNGyN6T79KA4BjFT07R1yx48r9yJaTFvYFnRQy3Y7ENN9hzETNuJyudygjKoJyhLn46Y8ctR0PRC+8GDF1X7MTPmd1hR3GoTFLvRWZqGqeMXIa9BHn92oa1oBcbHvIP0si4Az1C1b7bvhmMv7qJwUxq2FdWoo9fu29j3znjEWDocPHhR9y02rduJoppeRS6fwNMuGPW55kFv2Sa8ETMZCwsazBHsFz9j38wJUDsynOYHgJ/p01bZ9LKYgBlZP6HPwP0CTQXLMV4qI/W5GMS8lYEypQNC3DyArpI1mGBwNBLgBxKIKAJDc9zdeFp1Aqlz9BkqMYiJex8rt3+K+Ml6nahnVzj58kyNAJsYKrNtdmDB1AnqzA4xQyPze9SUbNJmtcRhTsIc7fNk/MfiD5UZGrFTV+D47Tso2fgfym+xUz/CUcusFw9cbRX4MnWeMeMkRpnFcwwVbd4ja4OQF/1oLjuClFmTtZkoEzBl7kYU1tzi9Gm9+Mfg36HZlhYUH7+Gii/XYc4UzRZiJmHGii9wtVnWV8mfUGZA2a9FNtoqsVzJO93YaViw8wevWWpdqDmTjfSl1tlk1lloomC93q/MuOtH280T5uy1uHnYWdGgbWCqbXZq8Re80oiZjswK3R8bhPK4WlGRtxEJet0RE4u4GcuRmZmEqXPz8EBxo7ze5VdetcNdebtI11IOYlbdOnxZ0WqdMSfcvae3kS/XMTGTMWvlRqTGv6/5VWZ+BnMvfPIWg9gp8/Bp9lU0a7NuBlfGul9rs/ms0CNL+VjrQ2WGnasVN/PTMVfRzVjEzd6jDcKI/Dmoa3WfXHlXLm7K+qKUWxJ26jMS5Xt9lttZZTNnfJqc+Sk6CTAoDmW5WYzKuxKYhLn7b+KpEXfqlYXuuOnf5yC7xgyR7EZg7bOgP6+np1fKcZiXd88M9J7fRNa08eYU6oFqZL87MfDUafdNZL0ZqwWH0tsHGlByJBenKtvgsRkplu60fLQGh8/RkLcIsTFvIiHrNKr8TclSpnjHIWbSQmQVV/mdFmlNW31t8GvaxiPjP0axZdOzfjwoOY6jpyrRYZSbJSvKF5/0HQXFemfAbOyremZNtLMYK8bHGLzV9Cfg3exq7mZtJcVvUUBgKI67p+00Vk7+M1YfL0ODsobWjZ6GayjY+F+YZHQU2kBQbFCvC71/70dT0SpMluoSV0cVirMWYUrcRMQaS1yU3jNkxo3HlGW5qHrai4cFH2FCzOuYkVqEuqcdqNj6PmKlDkpP2wWsnzkTS/cWa3WZB0rae5fjrZkbUSrN0LFIFVBeF9pKN2LGZKnuc7Wh6sxBrJjxBuImTuKaYgvMsfNlKLalLumahIlxb2DGioM4U9UGlwg0FFtYiMkz/OmrFkxbTniQmYvfRbqT8dbSPShW0u1HW/kezB3vPSOtExXZ27C/6AdjOranpw7nM+dhwgdHUWez/4rSHk5ciX1HV2HGW4uQWXATba4+NJXmYHtBFURr6uk8j9VvfIhsrbPclK4PDXlL8fqCfDS8zNIKTwtK1/8Z46cn49AZ3Q/pR0fVaWQlvOkV5KlvdSIvlHRnS7xE3dOGquI9WPrWbKwvbTF9OE8Tilf+ATNWH0NZw1PluqenHmUFmzB30h+sQfFg7nU14vy6uXg/5ZCmC0J+kbczOLTiXUxeViAxG0wZa7Pk5HrVLBCbT6ovO3HVHhxd+We8tSATBTdb4RLL57L3oaBKnTPpvK7VfOGJcZg0Qyo3hW8WEiZNQ3Jxk8bXjc6ST/HG7GzUaDP1DAFddchb8A4W5NX5dFIY9/BD1BFgUBzKItODYkvvF6BUWMo06Ncxc+s1bRTYO4j1/q4LanNdjHKc2Y8UefREW79qHvGkB8XevaE9qMyahZhYdQR3oCYb78Z4N1T6u7W/foI86102cipris9iX8pcc9TEkNPsafZ0l2PnbH0ERHQmTML0hNXYWSgaOz0adaO7Yg9m62tvRTpxM5CwehcKRYWpCeMToPqMCqs3Wu/TegGDVtpiTXHw/DgbKW5C0VKRZxvHXdejN7NQ6baZdh0gr9Yy4TcSCD+BoTju7qp9eOf1tSjpkvZUEFl6UYfig9+jpk+vH7zyGSjI7L2K9Dfew8ayR6ajKR73tKJk9TRp3wc9KJbqUCXdhch7oM6YUeoRo94Qdetsr5k+mlyeRyjb+Gf/nY+B5FU6Mv/sK68IYBrysWC8WZd6UeDXUU5gKLal73My3i5A1PT1rcxyJci0YnQSFL+BGVuvS4MAwr7uI2/um846cALYg9p2T8DUZdk2sy90SXtRk/0h3lh9Hp1SFaEGy/Owr+qpfuMg/mqzuyavQpGxl4r5uKchD/OmqG22eVVvvwPJq6VrmQmmp+BGd1kG3pJn8imz5qZhdYkYjJD/PcO94lwUGbMRxbYuYoadk3sH0F26AW8uL0KrNVH1BcqsuRlILX2kvVDogPMyttaTssx2nzVfMvYdLMu+LvmA8r2DqWs1X3j8UuQ1yANOIj2N7xubUNarZfzFHWTPnonVJa0SXy1Yfv8Aqvy1ObJ4/Bw1BBgUh7Ko9GDGKyhWX6lNQY5dhoImEcJ5B5He33VBva8/Q13eckyKmYCpCWk4VHBeWV9bUVGKoyumSEGWv6BYn7YrRpBv4fa+fw8yddr/dGBdQvWvt5xianMeFk6K1dYzF6BEWf9coa3x9XLkXK2oLD6Gves+wtzp+gZiE/H+vkpparGYLlOJ4i/3YN2KeZiuB8ixc41GTm0wrWkHv+YkKB5EfpQG3fdIJqscDIqt+sNvo5XAkBx3fWRmylysSs/E1n1HUVBQiKISfZTGD7UATrUSaNuOMnvQW7oerxtBrr+g2OzIsjh7yqybGdaRGkM8D/rLNmKiv9MHAsirdFzayisSb0XxinecBRqGLPwwWggMybaUncvf0ZY/eRMJpK9OgmK7HdHtnvNeFqDOsIuNi8NEuw5jvZPbrz2Y+fAdLe5CReafMdkrUDafCPZJXWr2emop1MVawe5Xf1fqiIDyqulOTC+DPGHdSL2/DOkT5RmE2syR8VMxZ1UaMrfuw1Fx/GfRRZuZdk7vlY/p8p7lqH+X/Sq7shQS21+31JNGxvx9UH1JvzzEY4Oqa1Vf2NzPx+u9Cl95xp7NaPGzcmS+9QevQNkrHX6NSgIMikNZbAGDYu8g1TuI9P6uC+p1XRnliMX4hQVosvToaWuPjYbE+316egC0KdSx/56IxW9NxMx9P0NfKSzdZX7U8uVTqYjRmgN/Q6Ht9Gm7dcgiSX0trFzBmq9SP4ng9wdsfX8iYiasQUmXzRwq5cZ+tF3dgfdjYzAhpQRihbI18FRTC35NY+wzfVr0vB5BduFNdHgGkR9HQbHeCMmVscbBdvq0Ly+7fGkp8A8JRAyBoTnuIhtiCt9FFBUcxb6tmcjMTMOqOVMxXtpgzyezwYLM19ejVB8ZMB7WAoEIC4r9B/GDHH0z8skPo4XA0GxLBDBvYm7efWlETCczEkGxG51XMzFjstjc8rIxfRquDtScEZtVmp1PulTir/MASx4tFp3aX2Le6/K+KHKqTj4HCV79JBFc3iDp+gTF4kXqNPeSoq9xdN92ZGZmIn3VXEwZL29Oqgvk5N7BBvz2we9wBsX6qR16Lix/XyIojjHWe1tSAuz4WkaLn6Hu6EK87uNze6XDr1FJgEFxKIstUFCsT83Tpi2/9EhxWxGWxsbA2oumT6MTPXp6QxIgKIY2hVqZyiz3QPqDowWEE1aiqFWfqOzBs4pteMvvRlvaSKh3D6myLkNMG9aCPE89Chb+zibI70JZ+jtGUOx5UICFcW9YN8IS4ioV2lCDYn2jrd9hubEBmdgDTPQOjtfW9jrMj5BJC2q9K3VrEKvzGw/rFDV9o62pWKmtc7E+Z5aRv+vmHfxEAuEn8PKOez/uFazCsi9rjOURRm6UqZjT/Ixy6bNb9LrQeEr94K/XX5ky+q6D6dNmulaHV4xEzQo4fdpq65JcAYJ4tR56F+tKvadLao4+p09LIMfWx5e3LcFJBDZxGD/vS+OkA4Oepw2l6971M93fX0CkP+3vd+/rYpbDW5h99K5XUO7G04odmGH4Mnq66l+rzVl/8/5mjBZX/4ri5BmYnX0n8ACAdwKW71qbbWxcavlR7bxr7vSpq4LLq6UbaPr0W9tQ8UwdBRm4dwKJy46jzlhapsvxAg/yFhp7kYirzu/14EVNNmZPsJtirKcv//UuS/03++sKA29fUH/E5686SOHtP1lvG0xdq/nC4xfiaJ3X/i3QNlCVp6crLzJHi6sfnkay7fp0q0T8Fp0EGBSHstz0oHh6CrLFdBb9f94hZC6dgdiYWExOPq3tvug1AuwznVoX1Os+n6ODrqO0aC9WTJ+C6dN/5zAo1qdQxyDG33Q+/fXKX33q8HhMSsjC6bJylJ0/gpQZryN25i7cVCprLzkhHR21MR+lYjfu0m+xT2zYMP0PeFMPio37JmNWyn4UieOGxNFEx9Mxd9J4c6qTnu+42UjZ/62aXtlZHE//L0yKEWtm1PUfSuVrpK1mwtG1F78ib+Gb6kZep6+iouwMclLeQ2zsB8i6KcagneZHtES/4ugHExEzdTXyrlYY56X6yKFNDTWPZLqOUmWzDLsjmThSbFFJfokaAi/vuGvOjHJMmj6SJEY9qlH69Qa8P+G/bDbS0bAECjLhQlvx6kFstOW9pthfUAz43fwlK9DGRUGCeCGvstGWGFG7pm44pm/CM3MGpr85mdOno8YahlfQl7ctIYcIYCbjzekzMNPYEMvcyG6y35kY9oGPmTN/v3tf70HVvjmYnLATJfe64RF7kIhN9DIX4a1JQaZPy7M5zBfbfFJHixWfw28wa/OYv0secYzi+5j0fiqOGks41M2oslNmY9K7+1HldYqH0u4Hk9fvRltZSJg8y7rRllK3/Q5zhV9V06EG4WJ0XTkm801r4D+Yez1PUJW9GJOnLkPWd9fNjQ0f3EBxzkYsnfGOdGqJd1nqwPxc7y5F6uRpWJFfjR4R24vjMn88h7ysZLy/4hTa9MeVv06C4sHUtVo78uYfMGNmEvZqG7Uam5NNfl86+lMSRBktnorp06dg6rqLlrXp0l38GOUEGBSHsgD1oNjYTEpfixGDGHEcQeYp1DzVN4zxDiK9v+uC+l73PL2FL1e+px0XEoPYqYuQWfQzagqWIibmQxy9J1amBBopBtBbitTXfXc01t/q+1ccjZKP1dKRINZjE3zlhKhkv/wYM4y1vxqDmnwkxLxu9hArx6PsxLIZ+lpisYnWu1iWdQZ1yo6zqjSenrsozkoy09O21M8qvqtWtPrUqpcJipV6+jbyV8+WuCYiS9+uX4jgND8QrL7EMuPIBtWJ9gmKRZIiTzsSleNeYpTNw3zzbfecEMffdd+y4xUSCB+Bl3fc+3Hv6AJMT9mJfZ9KRxzF2B1Votd3Up1rqYelwFag8K5zRP2cdRENVzMRpzmwqn2Z6SkjF4qTKa6p6Zn36IGyekxIXvoC06ZjpyEhPd9rU6BByutzJNMkzFi2E8V1t81jqII53uFTAb45RARe1rZMvRWdrbdQU7TVPJ5MHO+TcgRl8pFMht6b9qC0V5qN6aN6ZrrafX5syTjSxtWIksx4YyNO9fifC7in+AhaGsoeLbp/Yfd+3w5jC+6uEqRMmILlRQ+8RqQtdzn/4uny4qUfW3QB9wx/5SXk9TkOSewbsxF5Xkcyee4dxezpq7Bv31rpGC1VhtQvKywbUw3mXgWAd70oylccKZeShbzSOsXPGnQZKwn3o/nqASw1fKJYxE1PwOqdBcYO2gjkP9vOGhhkXZuQj5q6M8haph//FYu4WauRXdbkM7qvKoO21G9SMoqMo0idqwnvjA4CDIqjo5xCLKU+ddfJ1OkQi8LkSYAERjWBl3XcRx6KttHWO/tQpfddjrwQfCMJOCYQPbblOEvDfKM5DdbniJ1hfhOTi1QCWgek7Qa4AWRWljzOtI68B7idP0UnAQbF0VluwyO15xFqrpWjouw7ZM6ZZLOOd3hew1RIgARIQCcQeY67B301Z5FbVIrKB+o5n+Jojp57Z5E5503MzLphcwyNnhv+JYHIIRB5thU5bBRJlP0D7I4zE7+Kqb5xkEe8/X8OMhodYdmmODKBlwmKA63zltPm52gnwKA42ktwKPIb01NiEfd+BkpsztobSvJ8lgRIgAS8CUSe4+5CR9kRpMrHuinTBKdhwQ7rkg3vvPA7CUQSgcizrfDT8Zne6zXFO/wSUoIRI2D4vNZp9/p0f6sc/qa8ey29sT7Eb1FOgEFxlBcgxScBEiCBaCJAxz2aSouyRhMB2lY0lRZlJQESiDQCDIojrUQoDwmQAAmMYgJ03Edx4TJrYSVA2worfr6cBEggygkwKI7yAqT4JEACJBBNBOi4R1NpUdZoIkDbiqbSoqwkQAKRRoBBcaSVCOUhARIggVFMgI77KC5cZi2sBGhbYcXPl5MACUQ5AQbFUV6AFJ8ESIAEookAHfdoKi3KGk0EaFvRVFqUlQRIINIIMCiOtBKhPCRAAiQwignQcR/FhcushZUAbSus+PlyEiCBKCfAoDjKC5DikwAJkEA0EaDjHk2lRVmjiQBtK5pKi7KSAAlEGgEGxZFWIpSHBEiABEYxATruo7hwmbWwEqBthRU/X04CJBDlBBgUR3kBUnwSIAESiCYCdNyjqbQoazQRoG1FU2lRVhIggUgjwKA40kqE8pAACZDAKCZAx30UFy6zFlYCtK2w4ufLSYAEopwAg+IoL0CKTwIkQALRRICOezSVFmWNJgK0rWgqLcpKAiQQaQQYFEdaiVAeEiABEhjFBOi4j+LCZdbCSoC2FVb8fDkJkECUE2BQHOUFSPFJgARIIJoI0HGPptKirNFEgLYVTaVFWUmABCKNAIPiSCsRykMCJEACo5gAHfdRXLjMWlgJ0LbCip8vJwESiHICDIqjvAApPgmQAAlEEwE67tFUWpQ1mgjQtqKptCgrCZBApBFgUBxpJUJ5SIAESGAUE6DjPooLl1kLKwHaVljx8+UkQAJRToBBcZQXIMUnARIggWgiQMc9mkqLskYTAdpWNJUWZSUBEog0AgyKI61EKA8JkAAJjGICdNxHceEya2ElQNsKK36+nARIIMoJMCiO8gKk+CRAAiQQTQTouEdTaVHWaCJA24qm0qKsJEACkUaAQXGklQjlIQESIIFRTICO+yguXGYtrARoW2HFz5eTAAlEOQEGxVFegBSfBEiABKKJAB33aCotyhpNBGhb0VRalJUESCDSCDAojrQSoTwkQAIkMIoJ0HEfxYXLrIWVAG0rrPj5chIggSgnwKA4yguQ4pMACZBANBGg4x5NpUVZo4kAbSuaSouykgAJRBoBBsWhLBFXBTLjYhATE4PYeXlo8Ni9bABdJWswIUbcNx2ZFT12N/m/pr8joQDNyl0e9N37AYV5X6P0Qb/0XA8qMqcjJmYpCppd0vVAH1/mmUDpRcpvoc2XqyITcTFxSCh4MLQM+5Stw+Re9jm/yQ8jr2GXza/QAX6wy48Hrqbz2Pj+ZMVeY0T55eWp9mvYVoAkB/2THzuNCD6DzsygHqDjPihcvJkEHBOgbTlGxRtJgARIwIcAg2IfJMN4QXdwRcAbG4+jdXKQqr+nAyUpUzRHfDhoW4+8AAAgAElEQVSCYheaC5baBNh9qMlbjYQFO1Da6dZfHuSvXfAQ5JGo+PllWDjPGIPiAKx0mwhJoBngvZaf7Mr/EUpT30HM5CRkX7yOiooK/Hi3DMf/ZwEWZJai0/L8cHzxY6fuGuSF7J3DIffQ04hsx92Ftqt7sGDqBK1OFp2VsXgj/Sp6h551pkACISUQ2bYV0qyHPfFha/cHmxPPQxSvfg9xysCKqK+GoUN+sDLwfhIYJQQYFIeyILUAYPyUKfhdzAS8m12NAa/3eR4VY+WE1zFlihihCmVQ7PViR19Ha1DsKPMObxIjjGexbsbrxij8sDWOLxtAvuxzfnM8jHow7LL5FXpwP7hvIuvNWMSMWLDuJygenNRReXdEO+79Fcj83TSsyK9GjzKzx42eB7+gpsPaoanYeFwmKpxOuonKkqLQ0UYgYm1Lqfdfwr+JogIYtnZ/0HnuR8f9Jq2+eoCChClDn6U2aBn4gE6AbYNOIjr/MigOZblpAUDc5oPY9+4ExEzbicrn8hxqF9qKVmD8+KXI2pFgCYr9VbA+1+Ugo7kACUZvoTpt2wy07QIbN57WnET63KmIVZ6bgKkLdqG0SXcA7Z/pqTuDrGXvSj2TEzBlznrkVz2Bmbt+NJXuwf/P3vv4tHHk/8P/zWol6xFCyLIsRYkQEogISyQqErQqD1FbBG31QPqpSHQK9FTSKtBHdaqLqVpyvaBvS9pYtFaudS9y+gmNfBVOu7mDXtyr2wfu4EIuiKL8IAmJiV+PZndnPfvDsDYYbPOulO56mZ15v1/vmdn3a+Y9M70BnzHjIte9glD8Jkx+ZPom4iOvIeCV9XRWGfI1kJtyrXrpv71BTM1fRairQcfDj5aBCSTvCzPrmXuYjZ3JziTJB9H+fAPqjn2MuPILltMZ2GykqrCGJeUzDLZnsa7tGMbF1F0BM4uuom35n9TyR0y4SnId2gc/z8ppvHceyuS7aFWxleENHMPZqUUz/nAjlxUvLoz9mrn/T1wcehG1slb/bDY3ZOPh/kBm9VfEQmIdkCDXHsHgxA3cz1YowFVdydf+d/RlBby96FdGeB7pyx9MRHmzNuNCn43aqQM+wBpuJT5GfwsP7a6Cre7o73mDf8V8/P1s/fS2YcCKo91sO/qkZB13hoJqm82XmJDjs6NVhgpziUDJti21f6psUpxZXcCMMm0bQHNpum1KRqR4m4AsOBv6NhQMXUm8SKS4mGYwHNU4kmPtkKQWhGaENcOZm4j27kNVfww/W0KenYkV7IRLdKLTy0hdv4ZY8DlIUi36xuNQlBtYWGWkzk5sMotf4ajPA1/HO4jEv4cSD+Nkqxdy8xko9zZ7ZwgXrkypYaaJ2Efoa6qG5H8b8XtsLjyDh9Pvo1muRqD/Y1xJKFASl3Curxmy3ILhqWWdCN7FdOhZyPJh9H9yGQlFAc9LDgQx5TrMmxvRbblWLPTfnno0NTag8/RFxJXvEb/wBgKyDP9gHPfUItaxMvkm/FI1AgOfCmmq0Dz6DzzRxbDbbh33lDNolqtQ1xPCVwxrjofvKMKzD7kC5qtoW/UvT7AYPQ6ftB8dQ59puCpTiJ07jiZRTv5ejRe+wHGci01BSXyNUOcBSHIHRpP39XLcymXFyyym8SuzgOjRWki+FzAcuQpFuYovTj4Lj9yG08qKZnMuGyeawjtDF75R64CBjdSIwfhvevZu6koh9l/D6sINKNfG0VctQWoJIqYoUGYWsGqVldXszdqMG302aqe2MtexMhVEQK5GU99HiCV+QOLKJxhka5/FuqO/5znYhEZ/F05/xdr+t7gwcBiyCUfDWrt2U7KOO0OESPGu1QsqeOsIlGzbUvunyibFW7feduRApHg7UNxKHkSKt4Le7r9LpLiYNtAdVW9QwePZcTwre1Af/AGcAmUWI+j21KJ/8pZtHbCdWGmC2p7bnOhcYZlWYnMHiaEmSJ6jiCxyOpfBk+RZNEv70Re77UCk17ESP4U6z8sIzz8WkNNnvKVGDCXuAniI5GibEU5sJHzyKy6+cwrvRVNQ316/gdFGjyVkNYMns1/inZMjiKbyXcXnslzbAAHHxoP64SncM2Yn9fXeNcNIrGWAzDwiXT5I9e9BecgT3YUSPCwMCDgMXDz+EaOHqi3vMZh+QLC+SiDdBlLc2JaNnpYQHwzAY920TR9ckbicvE6YCDAjdKy+SajqnwSzElzLxfHZaAYtgweJd7BP8qM7Mp+d/X7yD4w2V8HTF9PW5XLZOCleuYrBun04Ep7LvsPI51IUvR4JNUMJqHELrupKofYHM5oFa6dnLtqMW32Qo51a5Xg8jVCDB1Lgfcw84nUua0tPbxRL7DF/TzqE4cRvWSzvTqK/SsDRUsV24+fWHPd13E9+LkRcSJC8rTj2hzfxkl9vp4ZSGaSXFJwfPGJELmhRFZ9BWeLRMHpix9l7Hj0g1nveFvjfLFe9Xmv9NPubH8+/+iLqZAlyXR8u3PgJk8PPq1E2ct3rGBeiazL3U7g8NoQeIbpGkhvQFbqKxTS3Pa83vFy+fjDXcwMMutkDCGytbbF+5DaU8DA6jTX1LMLoKILB11DXEcYCr4aZu0hdHsNQjzlizBxppgGebQu8zopXsW3pBrLJoEUOvTk2hVtGO2Bp18Gi1s4YkV0sgiaIr1P/a2xwaloOw/I9fxLttXy/ABbhdhLnldtC9JSlHalLJNawNP15NqLOewQjfJDX6Me5Trw95qhsNt22jq+5pG0mxa7kzRezPPpl5NPf55NWkyE81KX2zWwzXEli9eFNjCV4NJ3Y17+KC9NTpm8Ji4Ibmbqd/dYafiWvC5Yr93lUgzE7eY0oSsYR0unbmJ4YQodaP2V42z7QJ6fYCy4wM3wACVLnp5gW66zE6tlrGOGRmmJa2xp0s2zSHlsmRKTY3KNs7y+94qkVPjOH8BEvpH3vIPGAfVkeYz78MuSqNzB59/HOk2J9DaVBVrjmT+cx+fGn+HpmCRmjkTt8uHh6/Wom67pu0gF0hi4haVmPZ7zKMfF1IxRLqqHHxt8KunFZrk0v3vm1Yyz1SCiZP9f15x2JqXPjH4TDCM1oJN6MBbCeHEWj5EHj6A0IgdgA7iIx1AiDzAolq7eO5VkTsd855Dw0hpS4iJ2Ter2Tcy+XJX8nEfAAM6HDkDy/Q8w0w7+GhckLGP96BssieTNh6JChVXdXdaVQ+wukUpTLKoOrNuOgC3tkzctwpiyzJ5Z0uW10G7G+/Vm8+XtWm/Pnol45RNypx1tx3DNLl3DM/wwGLiQwr0bArGN1/hoiwy/AxweFdEUyS9/ireZm9HwY0/ugDNLLScQ+PIr65mHEl0wLObS3tnOmWMXeg9reT5G8/wA3I6+jikWZDEYxe38ZyulW86kE9xWMDX+E6F9/1vvCdazOfYNgey2eHf/FvB9F5g6SY69iX8efcENf3pG5P4OxrsPoGpsxLzvYKcNSObuOwFbaFjL/RfytZ+BpOo5zl/n3eA3LyUtalJGpD1mBMvYezka/M8KFM6uzuBI8gqpnxzErfncYKmpbsPR1Tmil/4MrJzvQ2n8Ol5NLOlllMlzGub5D8PdGMK8SY7aXRxTH/LVZHyO9hGQshM5aH7yypSxVtzbU93yAGM9XTf8Beurb8Fb8vwK50QRTv+M1xzA6fgKB+pcRjExjKf0Ii/FP8IdI0pjcyKqxCSEtJr6GEJvIYKRzcZOXvFp+bjDLp1/Or793+23Q94FpbUf/2OWsf8rqw2UW9diI3shcdqBE/SZUw+tryn5L0rfxw8iL8NiWRLKqHoTXNZHUfKuaEx9g/NgzqO8KIjJ9G2m2VGxsFJGkFqPoHjPdH+VRgrwd87bha8Dx2KJe17XIx31tY0g94aNder1IzyLc1Yiu8GwWBxdVphKSECkuphV1h1QlxZwE81BG1cn36bOEnFhlO3IrseJi2p7bnF57Xtq7FmKjz4xosvHcrVfLO+qf2ejsNxjt78jOvhjrmLOjpJl7P2Ckja+BZCNmPjR1DmDkIvuw8AbIwnc/QJuxnpjN+gTQOfA+LrKOwSqOi9/uyrXqZf3NC7I856TS1BGuYibUAknuRWRRk9hso3UsRV/X1yhbRg4N3P4fXJj5CddZ2K767zpmFu4jY7MtGzC8h9nLZ9FvrE0W89yIvDOdRH3WXMjFB0PE93JZRR9d3Oxj4KATW1N8eXRAGMEXdDIcMXd1pTD7c6eNjbBm1zrbiKyrNqOtKd5cnxzt1IQPrzvZdsVrZtaW+mCM6b1sKpsOwp9263Yrjrs6SFD9e0zeNQ8v4cksYh/9BSljNp21yzZL5IeuceY3JIafQUNoWotYEYHYdlKc7dO10OxuhBe0yBy1n9isvfDBE7FecnlVYtyD+q6PcWPx70SIOS57+Fp428rg8cwIGvwnEDX2FMkCmZkP40htCDOWZpdNod/laj9q/yS0BduL7MFT3Iu/jQNHo7jNXQQxnRp1FNCX1LConWaH9s2XOIll6brVv4uEuixMzHQd9xLvot70Tdf+rn3Hq1DXO2aPLBGzMO43IqRFxteVDEYiFzeFybs5Zvn1y+77e33ywdW3gZ000Yaj0Zu2gRA2I6tGSxpLAfmSmtbsEjAdvcxCGB0OR5y669e5CXTfSm5E79j3gm/M/86u+WCm+xWeHoTnxQkelo9e142JOQBPfsJYWzMGJsUZb50st/4RSeN7KspT2fdEiotpX91R5cSTh4Sy8NU7ajh1E4YSd5hHvvMzxa4cfCsZYqHNYXT7ZMh1XTh1LoJJtl5YUXBtvA/V1jCM9G3MxD7DhydfR0cT33CrBq2jM8g2VxYWMoPY+Q9wsu8ImjhBtoT+5mWmTcu16mX9zUuzPucfXC9aT4aFNcUy/McvaWGsKr8SzyneiNjwcrj9s2RQrTM2ovMQs+Gj8ElVqOs8hXORK9oaXCWO8T52rJdLUiy/jugSJ8VOhIvLxa9WHPhz8VogKX7yC8LdbK1zAzpP/QmRSW2durHG10QGXNaVvO2/jaTYtT7c5qLzZpVjo7rDbbK3SLExm1XbgRNDQZweHUckchHRST6zpdfJpz9j7FBAX84h1lN2n8FaYhg11ll19qdcTr0lC1eOj5UIWPK25ZFeRGJsAC28D1QHzTzweqvNgzWiLJk7uHH2JXgkHzrOTtMMsYjNHrwvnBQ/QmqsHdWDcZdHj1k3/9O+XbLXixr+HRLxt7YF8W/GvR5tZAwWZ7+HWngr+61/r9TlNMx/UhcCGTmoNw/iGKwW+1VNN2Mpjjk1sJbAUI01Skyf8bNEn1hfNf/eiBQXGV9DkI1kMBK5uMlXXi1LtU/bCLN8+2U+W71Zf8+Kd5uWnzSxYT3jEwIbfBMs/TkH1dav8z84XrXveM66yd7JCzPNr7BFgPKy1brehtEkX8TpMFusLus7aCHKPIPKvxIpLqaNLaQYfO2npxODv28RQqntDrLasPgHwJDxKe5OvoEq8bmNONnz0l7nTrSZONkaD5tx+eP/wUXH8GmnNZUsdwe5DJn5DSM03+F0aw0kNWTcGl/F061haeoMWmVh7Sv/U0FXp3ItWJhmUMWZUGu6NSxeDaLVI3ys5Tp0DP0ZKWGHaqvtcofArmP1zr3cM+JW2z6YwtA+GZ7uCBZNI+n8rGuzbaW2ccyZ0ukhtwe0EX/3cllxcDKEnsYWPv0Qc7GPMXZx2iF8Osc6ZJa9vhbWNHNrK9ZNXXFjfysZ1Quy4q//zt1mbmPVaV21oz452qmlzPWZEA44ht7nCJ82DSLk0MuG484+KNxx53KycMqriEbGMXo6iGDwFE6018Ejbs6XlyPB893AARKSsFtXjo9qS8E5tzhRpjwyy5gaboVf3fSQh0+zcO+fcZltnGi1qy6PFjJ9CM93PqvOGJt2yrfITD8rH4HC29YmxNEEnb75n59tqPhXI3wabAPBy0G0FEyK8yBiavs+iMG4wwnyquMvtDtsottGpHjTSA4RmI0I6SYyiNmgAHyN9zeSwUjk4iYfebPZmfq07OPsXUH9sov+3ijBRdqN6o6Rj3Bj6beNv+R4vikGRgbsRvOb+MSZ6U/8R16Y6X6FuP6f58OuTnXdNFv8ELPj3ai2+ZhiJpV9T6S4mPbVHdxshecbUjFSJWPf0JQ+Kmt3kLXQDI85xE+N82chycLsnsWJZiESK7HfwWM789hKbHSCW3UM0ducCGbwUHkP9Tk32lpEtMdvXwNrlSvzb0S69zuQN30NrU6KMwsRdHv3mTdmMhquQIoz97Ewc13YSTuH0VyWyzsiY2bVLSm+F8egvwatY//MTWS5wyzaiG+WZA3fUjujGvO6QlE1q22XouiRrZsmZZCen0CXStQtpNgSQqOdiS1s9uZaLmvdEYXk95zg7jeHJamjjp4cG23xmVC+QRvP6xHmwz3wsJFcnQy4qisF2z8HebTij83azE09JH1zfXK2U2uZOn7mzd34RlsyfMf0CAXrexzKXM/533fhWrjjvoa5yAn0nk/Z21/mXwh3NOgbBDKl2AZ4LQ7hlWxGQQufFjc9NGDI4egYf9dvVMdnoxkRlk7FXnDOLXmbnKeVGPo8L2J8zrIBWGZFXXvM24Eoh3kNMVtjrIVSEzEWUdpb94W3Lf3bX3cKcdOeEBy/NSzfWtHbHRuQq0fb+K+W8NN13FfOIJCTFFv7RZ43v2bwJDWGtiqn0E+ehl9Z+34G/oErWDEN/Oohoib/R9fN+v1Vs9LTmzbP1MowtU9e7IbXjQhpkfE15NpIBiORi5t85M1mtzlm+fTL+fT3+aR9gNTYC6jqmtDXp2fld7yz9NtGmhzPXX0bjExckOK8vmU6l/B0Y9x2qom+Ua5tqUB2tvjnm5dwfN+LGMt7k1tDobK/IVJcTBPqDmmWFAszYBIPnWYC2Ekxns4i/IIve7xN4jI+6X8G/qaDOCASLgen96m+03Vd/wVMKQqup5aRthE/Hgrtga8zhEvqUS8foz9QDbn5fUyruytbyZBwJNDwBOJs/Wv8S4yyDTBMcvF0frT0n0WUHUGkTOHKhSF0+DzZDxk/vsbbhv6zX2r5Jb7BhaEX4JMasuEbXEfTh87JcC7LtWFh1ZPnbXmuOq4yfJ3vaccqiet/+StOpJiP/Mpy9vgrfiST6YgqIRN2y/Xms0QcL+PIo+8Rj36IvqZaNDXtt4RPV+NgSzP8gQF8wo7O4kcy+Y4jauw2zo/72UwuCw4WMY2fPHSYbZx2iZXJ6uxhyPKzCE3rYW4WnWxHHClxREePocnfiKYDws7kXPcN60qh9nfA2gl/tt5IXT6Qu8241ofFVzi1Uws+rG9Yig8LRzKxNjeB4Y79jkcy2ciTLT/DWrt2U7jjrveTav3nM1TabGr8i7fRWvWC6WOec3OSUDf8ga1ttAV1gKwBfRM/Y5U55Wzg7vr/Ihw6jta+r7Fk1B+XpFjdCb4BnaErmGMbiGXuYz7xBYJdB+FzCJ82E2LdlMIaYyLGu1a9d7XgwtsWq8NatIKvdRDjxnIEbZOrsf42+A6dRfIxq+yrSI62w985gsm5e8iwXaDZZnfBl1HvyxE+DbaO8yD8fZ9jlm+Qt/B3XAmfwbHWAUSX9MXK+gZy/rpehL76PruZ3sLfEPtkGD2BRvTqa0HZJkzHt7zRVgid/pbcG21t20xxsfHl1W67SHE+8vKy3UXQuO+X8+nv80nLule2KWG9dkTmtX8LfXgMnwz1IOA/hijfiDEH+c251MbNt8GATPOtTBzB+Fv2Jm/MDhxEoPk1fKhvYJtZ/TcSkXfQ4W8VjkTN5q+tLa5DU1Mt6k5etQw0Cen2wC2R4mIaWXdIzRVeD3U1jdY4kGK2BfviVYSM4wb8aBmYQDI1gc5NSDHYh2X89exW8yqpciI2bAv7CQy08A2xqmA+UsHhHZb3+d8hwNe9sSNDgl8jpcpVnR09ZhtCxUbQKx4v4j2E3tBl/aOoAc82WYqFXsvmp28dH4r9qnVULBl37Dclxawjd1OuVS/rb14pLM8zS4ifDBjb6GfXObGZfz9ah75WdVNHCkUbqdmt4dbUn9Bn4CHD2zIgbP/PyxSuXG9Oipl693/E+WOH1SNdWPly3csIRv+BlHrOtT7TpL73IsZnbwv1gJX3e0wIR8BoJbmRy4KDIKL1NnP/BiYG2gT5XkGIHwPAEtt0YnXwMxwzcGF18DSiqR+1IwuEEHBXdaUg+zvJleOZekTERm3GvT6O7dSGD6/TZ9BlHJPiQ6B3BLFZ5pDq/zm954g3f2H3roU77muYG+9CU/8IRt8UjllSj9KwHq3C9GOh8wpMx26wtetDE/aNc1THR1gWYVpvJqwvM2Bj7eaP6DFsIsPb1ImBkQgS8/f18+Sz+anfAKMMjShr/QRLo+WfXpxEsKNO35RPPx5k8me9bbN0LEIobjrKg7+rimXkr5cr9BuG2HRT0QgU3rZ0WNhRS9HTQl/Dj0P6Vhus4eil/4PJ4EvGZpty7RG8OfYt5lQ/wKn+ZZC+9R1Gexqzm07qm2pGEjop4Xk79eFyHdr7QwjHZ7N+gX4kU6iXHwul+y/zf0XQKwxG8XxtxwuxvTmGETYdycS/dboOpn5AiNDjeVrbnCm9BLPvx7qkIuCbrwxcdjdXV/LmiZnrfjmf/j6ftJridn+C1fUO9IcmEFcHe+x6afbM9ZwDuvG3Qf1m8++1pb5oPqXT98btt0znEp0TSM1eRrZtbOZv6ksgTZMmXJ+9dSVSvLfsXabaajsCHnLaOn7HNOKzkC0Yjt/Khm+ydVTXv0c8/AaapBr70Sk7Jh8VRAiUBwJbdtzLQ02SkhDYcQSobQFQN9oSNxPacTNQgYTALiHASbFwioYbSTK3MTnQjLaxn6CdjeDmpcpMQ6S4Mu1aWVqpDbY9G069K9pxUrwfHUMf4yu+S7KiIDH5JT5RQ77rcMw4A25XhKRCCYGSR4Ac95I3EQlYpgjsqbb1KIXYp1HEZxaM2WPjrGRjCViZGnLbxWZh1d4cUW7WWXGHGfFtl4cyLA4ChZDijdbcF0fKUs6VSHEpW4dk0xB4soDEX67jlnG+8S4B4xTWpYa/sFDHAYxeFkK+d0lEKpYQKHUE9pTjXurGIPkqCoG91LYyywmMDYrHPTJyx0Koz5iXllSUhUkZQiAHAjlCsm0h/Orr9hBwLXTbYdlBjuIq9TGR4kq1LOlFCBAChEAJIrCXHPcShJ9EqmAEqG1VsHFJNUKAECg6AkSKiw4xFUAIEAKEACHAESDHnSNBV0JgexGgtrW9eFJuhAAhsLcQIFK8t+xN2hIChAAhsKsIkOO+q/BT4RWMALWtCjYuqUYIEAJFR4BIcdEhpgIIAUKAECAEOALkuHMk6EoIbC8C1La2F0/KjRAgBPYWAkSK95a9SVtCgBAgBHYVAXLcdxV+KryCEaC2VcHGJdUIAUKg6AgQKS46xFQAIUAIEAKEAEeAHHeOBF0Jge1FgNrW9uJJuREChMDeQoBI8d6yN2lLCBAChMCuIkCO+67CT4VXMALUtirYuKQaIUAIFB0BIsVFh5gKIAQIAUKAEOAIkOPOkaArIbC9CFDb2l48KTdCgBDYWwgQKd5b9iZtCQFCgBDYVQTIcd9V+KnwCkaA2lYFG5dUIwQIgaIjQKS46BBTAYQAIUAIEAIcAXLcORJ0JQS2FwFqW9uLJ+VGCBACewsBIsV7y96kLSFACBACu4oAOe67Cj8VXsEIUNuqYOOSaoQAIVB0BIgUFx1iKoAQIAQIAUKAI0COO0eCroTA9iJAbWt78aTcCAFCYG8hQKR4b9mbtCUECAFCYFcRIMd9V+GnwisYAWpbFWxcUo0QIASKjgCR4qJDTAUQAoQAIUAIcATIcedI0JUQ2F4EqG1tL56UGyFACOwtBIgU7y17k7aEACFACOwqAuS47yr8VHgFI0Btq4KNS6oRAoRA0REgUlx0iKkAQoAQIAQIAY4AOe4cCboSAtuLALWt7cWTciMECIG9hQCR4r1lb9KWECAECIFdRYAc912FnwqvYASobVWwcUk1QoAQKDoCRIqLDjEVQAgQAoQAIcARIMedI0FXQmB7EaC2tb14Um6EACGwtxAgUry37E3aEgKEACGwqwiQ476r8FPhFYwAta0KNi6pRggQAkVHgEhx0SGmAggBQoAQIAQ4AuS4cyToSghsLwLUtrYXT8qNECAE9hYCRIr3lr1JW0KAECAEdhUBctx3FX4qvIIRoLZVwcYl1QgBQqDoCBApLjrEVAAhQAgQAoQAR4Acd44EXQmB7UWA2tb24km5EQKEwN5CgEjx3rI3aUsIEAKEwK4iQI77rsJPhVcwAtS2Kti4pBohQAgUHQEixcWEOK0g6JUgSRLkI2HMZ5wKe4q7k2+gSmLpmhBUVp0S5X7Gy+iM4JaaKoNHc9/hYvgLxBfWhPdWoQSbIEk9iNxKC883ui3knY3yq4y/pZUgvJIXnZEFXaFVzMW/RPizv2LhqaCjzTaF4lnoe4IsptttzM+mo6mgHfthtwmA9H8wOfw8vGrbkiB1jiGSdxvIQ4VHc4hfDOOz+AKy1WAbsc5DlFJOSo57KVuHZCtnBKhtlbP1SHZCgBDYbQSIFBfTApwwMKdcfgnjsyJJ5QUvY7K/ViXO20OK07gV6XEg2I+QCg+gs+sM4ivrvPBNruTQOwFkJ2ALiHR6IXmDUMTxhvUUwv/Tha5gHCtqRoXiWeh7TtKzZ9uYH6/jxqBMrjKL+3w9Fcb/dPYiGF/SC3qKe/G34Zfq0Dt2BYqiQLmexLUL+baBPOS+FUGnJMEbVJCtBoW0uzzKLMOkO++4b2N93xG885T36SwirzVnB39MA3Y7IjAVUiIIFNa2HmAmdFj3QcTBXndK2b+H7t6jVIQAIUAIlBoCRIqLaRGdMHhqa7FfqsKhsZ+FGSSt4MxvMRyrqkZtrd+ByLoQzkZKcpFiF3nZkuTpnNner8wHdicgBym2qV8onk86lkwAACAASURBVIW+ZxNAf7CN+dnqX64yd/o5d/TyiYzYooyOpHiLeVbg64U57lsBYhvr+1bEcP1uvvKuYTn1TyysssFO1hfVClEsrgulhBWAwNbaVmF1x/49rAAgSYWiIqDWGeskQlFLpMwJAXcIECl2h1NhqXTC4P1/P8LooSpIDSOYeSzGUKexFO2Dx9OD0JlOEynO9aGxPRdJie6Us3Dt7D8eku3kaK3jfurPGOqog6y+U4W6rvcRX+Qz2s7vrM5eRqj3kDAzUYXa9rcwkbyDrHZrWIx/gN6Az5BFrnsFofhNYRaNhbjeRHzkNQS8sp7OKkM+0OvyeoOYmr+C4VY20CDBKDe9iKnRo6iTGT5VqOs9j+R9PmvupCsr2/48a4M5fVZexFvKzhiLtlHVsOeFzD3MxkZMOElyHdoHP3eQ7VVcUC4Zeknew+g7+x1upbOoAxmklxScHzyCWlVPCXLtixi6+E/cN5I5yJEL5sxdpC4Oo6O2SrOP3ICu0FUs8jJtOgLudHJr+wzSi1cxItY3qwwsKyGkXbu32ERdmvBfhyUEm7UBN/rogyKmdsdnjJ2wziB9awpj/W1GG8ppI7UuX0Woq0Fvo360DEwIdSOX4Ur3+dYc90L0Wsfqwg0o13/BMq+3hWSzY+9sRd7CiM2OqUYFFRWBrbWtwupOZnUBM8o0UsvcbyiqipR5BSCgfqOJFFeAJStPBSLFxbQpJ8XBOJJj7ZCkFoRmhDXDmZuI9u5DVX8MP1tCnkUnXxTR9lwkJellpK5fQyz4HCSpFn3jcSjKDX0Gwe6cZxa/wlGfB76OdxCJfw8lHsbJVi/k5jNQ7jGyuNE7Q7hwZUoNS03EPkJfUzUk/9uI32OrKTN4OP0+muVqBPo/xpWEAiVxCef6miHLLRieWtbJ811Mh56FLB9G/yeXkVAU8LzkQBBTrsO8OUK6vJ56ND3TheHIVfwQv4jTnQcg+V7Bu6deQkPPB7iUuIb4hTcQkGX4B65gRSWLdl21XO3PszaYR3r5F1xXvkawpRpSdR/GrylQZhawyvIUbaNmZs3rCRajx+GT9qNj6DMNJ2UKsXPH0cRkG4zjnum9anh9h9F37hISyhQuhbrhk2rQOjqDRzoEmXvXcLq5GnJdL0JfMfvz/A6gO/wLnpjy22wWVZBveAJx5XvEv3gbrZ5qNJ++hnuOOgrvbKiTS9s//BtCTJ/AAD5R6xvXpxqB4e9025lJseakxTHex5YlPIdg7JreDu7aSPHmbcCNPmymbhpKLIgWSUJ13ziuKdcxs3AfGac2tPIdhgPVkJuO41xsCkriMsYHn4NXcrARq8uNDeg8fVHDn9dbo27ohi+jy9Yc9zJSdFdELYzY7IqoVOi2I7C1tkV1Z9sNQhk6IqD6UESKHbGhh7uLAJHiYuJvkGIFj2fH8azsQX3wBzzUy8wsRtDtqUX/5C3bOuAs8eKbOWkv2Z7biFeu8GkrIbuDxFATJM9RRBY1qsTI7JPkWTRL+9EXu+1AitexEj+FOs/LCM8/FpDTZ7ylRgwl7gJ4iORom31Trye/4uI7p/BeNAX17fUbGG30QDKtR83gyeyXeOfkCKKpB0IZbm65jn50R+Z14p3B45kRNLBZvPp3kVDJPuPt/0Xs2AFI1W8h/oCxO/6ulSjan9tsoIYsOqwpttnGmtcS4oMBeKybsOmDJVLNMBJromxmAozMPCLdfkhVb2DyLhuMWEVy9HnI0mEEFWYH/h8jg4eFQQurHDyd5fpgCkP7ZHi6I1hkYqj/PUBy9DlInt8hxgYtbDq61Mml7deTo2i0rZF8iNmL7+Hke18jpUde2G3ipKP1mZs24FIfho1j+LS1zFXMhFogSW0IzWhDHiqs3JaePkSX2Ipk/p4H9cNT2gCEmlDfg8CoG+rDsvrf1hz3ddxPfo7Bdh7dwiIzWnHsD2/iJT9vLxwO5uR7jUiVDTcZVCM2zqCrjkdE1KEj+BekJt/RZ/O9aO9s1+/9eP7VF9WIE7muDxdu/GRs6CbXvY5xU8SMPXJDiwT5DMqSdWYtD3mxhluJj9HfokXDsMiX2o5hXEz9SOHT3Px78Lq1tqWT4gvXoJw/iXYeHST5EOj7E6ZuifWV+xk8Isd5LbLWL7M0XnRa82URPyPfYcn4trDv8l2kLo9hqMcciWaOYGOGtZSvEqw1LE1/no188x7BiDKvD4Tqcpp8DUsehWx0qopyG0p4GJ2875BkeANHEQy+hrqOMBZU/Sxl5ZR3JRttl75tsQOLyDuJ88ptc7Qdg+3+DUwI0WGS5EfLsWEMvtSq+2TZxpBPWjAZTLqxyLMjeHNsyohQy8/G/LvG643larKPuT9U9+pI38b0xJAeuSbD2/aBPoHD9HPR13J/hfmDnZ9iWqwvqt1ewwiPZhTT2nwQs2y2/WSycNNdmSFApLiYBtMbldqYM3MIH/FC2vcOEioJe4z58MuQVULzeOdJ8fo0QgdkePpi+iZQOhBP5zH58af4embJcZYrF1xmUqLrJh1AZ+gSkrnCqjgmvm6EYsltCG3kHW43wguc6GfJSs1QAtnPOk/LSbD1N9fU/tysK0und5DWkU/eqRodvT0vXor5ak3Hf7djLMXnhNkbaSxGeiHzjzknmo2jSPKocDXjDNYSw6gxBi14flx3c+n81/pMCAeMARL+FHi6cBUfj1/CzHLagRRn05nvLGW6tH1mPowjsgxfZwix5JLNGeBl2G1iKU9NaHnmqg3wEqxXS17sz25IcU4brWMl9jt4DLx5/lab8+cb284qbSn93orjnlm6hGP+ZzBwIYF5dQ3tOlbnryEy/AJ8Gw0UqLbJhdkaFqMn4Bf6ofRyErHQy6j11kAW27Xapj2o7f0UyfsPcDPyOqqkagQGo5i9vwzldKvppIHM0rd4q7kZPR/G9H4wAzXvD4+ivnkYcXUAxME6G8qbxlJ8GAG/0G+ml5C8/BH6AvvgrfHRmmIHSPfCo620Le075kONdx8CfR/hstrf6vU11A1/IFd91cm0cRqDFWn2d5avH/U9H+j9+BqWfvgAHR5L9BxWoIy9h7PR74xw7MzqLK4Ej6Dq2XHMZrf1NwpR+/6aYxgdP4FA/csIRqaxlH6Exfgn+EMkqU5CZFauYGDfixizDbQ/wny4B9VdE5gvZGlF5r+Iv/UMPCzq5zL3YdawnLyEEItQM779hrjaUp9N5GWD9vG32gS82Od+CcnYB+ipb8Nb8f9myXNmEbFjBxEY+AyJeRadBGRW/41E5B10+A6aSXE+adP/wZWTHWjtP6fXBaYD0+0yzvUdgr83ImCWj431yC6xX83C43CnffNqTnyA8WPPoL4riMj0baTZ0ruxUUSS2uCy+75WH6Co8cIXEOym4htCp68Bx2OLOr7rWJl8E/vaxpB6Io7eMHvMItzViK7wbE6/xEEZelTiCBApLqaBRFIMThQbMRj/DVBJgU8PkeWjiHz9rzkcVBTR5vzbiJc9L+19izPt6MCLJbF7yzvqn9exOvsNRvs7jDWr2fXL2dHizL0fMNLGZzHYaKAPTZ0DGLnIPli8c1nHPeUDtBnridmsTwCdA+/jIuv0rOJs+ttJXpdkxVFXZwxsNtgKKWYzVJfPol+c+TLWpnInPoderF8W1tJiKYoefR1x1ibiSCy3T+78shDnqkfZFOqdrf6xL7IbnVzaPrMCZeSIsfZWYqO5TZ0YGPkzpoWZNhMOqmBOOlqeuWoDbvVxWc+4jXI5S5KMA6FprOdRHy0WKfmfW3Hc1ciB6t9j8q5p1Ad4MovYR39B6hHvWywwbEQy1YiIwxhO/JZ1NNnrmduYHGjI7hHAnqn1PdtPawMh2UE4tR4azh6LCmizzPTrcmV+Q2L4GTSEprWoGYu4Wr68/Vv++HgaoYZn7PKymZL5CXR5eDu3vEc/Kx6BrbQtPrjrcSKIen0VI92yYLohxfsQOP29sK8Fa1//QrjjgLsBnA3ar9b3sz1CxhyiL7iUD5AaexH7jOVS2nONLB/BaPI+T5jHVY9C859A1NiHJfu6OqBbG8KMpavaXF49XzGyzch2HfcS76Je3J9GHWhtwMAkm8gQ/3uIudiniKaEJXuu02qnNxw4GsVtc6ZaAU/+gdHmgObLqk9YHXBvY3M/KcrsdK9/t+VG9I59L/iPYtp8+lrdt/H0IDwvTjKw/HR8jckrAE9+wlhbMwYmbwv46mS59Y9I5vrmiOLRfdkgQKS4mKYykWIgsxRFr0dCVf8k7qjh1E0YStxhntbOzxS7IgQWEsHCq2fD6PbJkOu6cOpcBJNsvbCi4Np4H6qtISbp25iJfYYPT76Ojia+4ZYlBFgNeZlB7PwHONl3BE2cIMsdBXyorPLqxnXU1ZrW+ptXDPtz7aMmOp7sg1BI+PRDzIaPwsc2/eo8hXORK+q6akXh62G5U2yXgUunyeJHT3QRBil2IFw8vXbNnV82nb1OZv8m3NlIsVudWB4s3MmN7dewNHMZ5z98G30dTQZBloUPkt0mTjpanjnWC0E39TYPfRzzs5RJpBhbctz5zExtB04MBXF6dByRyEVEJ/ksjdV++m/VNrw9mdOoRNtxljmDB/G3UG2Q3FykOJuvydl7+jPGDgXMMzVG0Xr0xqExpBxmvzYixU9TYzjkKC/L/DZifY3uiIYhC91UCgJbalvq4G6jvnTKishG9dUNKXbaEd3pPeuyAG1QV/Z6USNl25kondrmcraHbEr7bDFbVvSMsK9INq27u0dIjbWjejCOfBZ6bS6vlq85sk2QaC2BoRoxgkiPHPHUof3EKQRPj2I8EkEketUhSs9tWn56gziobr23+kBubVzgTLEp0k/Ag93m1ddqvo0tSpJnqeLbhtEkX+joMFv88AcE6w9aiDLPgK7ljACR4mJaz0KKwdeKejox+PsWIZTaTkDsTj4T9CnuTr6BKpF82kiJPS9NRYtzrr9n6xjYjMsf/w8uOoZPO63BzCGXDVdGgL7D6dYaYQ2sLZEanrM0dQatsjZ4IK6MdUptfmbRkf/RDVnJOTPHz5HOfpDttimQFDuu2WVCW8vker2I8blsADgb1dRCbg8jNPMAUEeBPZBs4dMsnOoO7hgz9Dy/rE4cKvGq6cnXl/O/ZPBk7jL+OBZ1Dp92rRPPT7yuwZXt0//F1Gm2dpqtx19WM7DbxElHyzM3bSAffdzUMz1k224jbkuOt0VWA6Zcz40EJX+zNcedqcdC+K4iGhnH6OkggsFTONFeB89Gm/NtQIpVkmnsLSDCpxOBEiPFuUl8nrNvoqp0XxEIbK1tse/YAXSE/yXMiHFYdoIUr2NlKoiA/wUMR/5qhE+DbSB6mW1i6Py9Uvt+sY1ykW1XcbaYDfCfx5FqcU8V2wubPNiEvOZ4e3N5N8nXRopZQVqY+2T0C4yP/gHBYBBDJzpQ6xE3NuUCuUmbL+F3GuBg5Tk/3xwDLiu7at88dRmi+Fi8L4AUS8Z6bzEj9nmxDjpYZ4sfYna8G9WmvVYsedDPskWASHExTWclxeAbUrERNxn7hqb0EUY7kc0shNEheczhdeoaBhaSLIzQ2Ugxd66FED9VR6szrRPcqmOI3uaByhk8VN5DvW1dI/8YLSLa40d2AygdPKtcmX8j0r3fskETS3sXiaFGgxRnFiLo9u4TNsXS81M7JYEUZ+5jYea6sJO2ns52seqoJ3BDVvAEC+Fuyw7hPByR2YtjYAlZVotgszP7zWGW7LnNNhb59FlD84iwU5n8Pb95/QrfLKz+PSgPWYwT38TpkCW0kjkDL0CW+QZpPL+sTjYo2QOdEFaZQqj0TbtybbTlUid3tn+Mhchr8Jo2g2OC6Q7aVkkxXLQBl/qo+K3E0OfhRzFxRK1Y6/hZN0PjG235+hEzbbRltZE1P15O+VwLd9zXMBc5gd7zKfvSCjUUsyHHLBcPbbdiqWOWa9RfDRk9ZG7XapsW+lYL2TY7e8zWLRuGTzuHo7qR9xBOxq3hkrqjT+HT5dMYtlnSwtsWE0Qb3PUcOY9Z6/rJzBLiJw+Z/RFDdmfiY/w5BzGyEyb2Ha1H2/ivFlK+jvvKGQSEb3A27/xmHY3Z4p9/Qex4AG1jP+knMog5ur3X/aW6U4g7npSxhuVbK7a+ytxHOJWl57tR+LTxzQeezn2OV3ovYNYY9OZ5aj6NOPHhPm0GT1JjaKtyCjHm+YvXXHXA+bmKgYvZfa0E7Zu3ISlGPn2t7m97ujE+y2eDuS76ZrJieLr6p+xs8c83L+G44/p0ngddyxkBIsXFtJ6NFDNeOIn+KkayeOg0E8BOivF0FuEXfJB8bNT0qnpsyyf9z8DfdBAHNiTFwFN9p+u6/guYUhRcTy0jbZsJ5aHQHnUTo0uJH5C48jH62VExze9jWidZSrBJIITC8TTqET0KlPiXGGWbLpjk4un8aOk/iyg77kmZwpULQ+jwebLhSpkFRI/WQvK2of/sl4gr7Oimb3Bh6AX4JLZGRl/Dwckl31Aqp81yEAZXpBh4Oh/GCx5ZP6Lqmo5HLZqa9gsYOJHiNcyOv6RueNUfZscg6Wc2crmNcGaLfFx/bmN25FH0Q/Q1WcvU3pMPPoNn/M/ox1fxI5lqcTS6YDgRGf24H6PeGEcyiUcYWeTIiScPHWYbpn2tHgN15ZMBBORqNIf+pu2ibtXRrU483Sa250cmeVv6cTbKsFWQuPIZhjr2Q/K/iUndGVE/smK7sNV3pqRVbxdtgMu5qY1YIMcvGH+2BlLdAMJTin4u7n37MVBs8yXxSCblqrZRlNORTDZH0KpDTuOV7B8Kd9z1flK1BZ9JYrMeP2tHhVW94LCRjg6DhbyawUljKTaQx0ZbbkkxWzKTY6OtDTcu2oQUs8FVdaMt9m24pm04xjfhaQ6g6YCfwqfNBt4zvwpvWwwiRmD8ONAUQLOxIVZ2Izt/zkgMZ+KTBT3X363P2ekJ7fB3jmBy7h4ybGcFtole8GXU+zYJn3Y1U8wk0maLVX8lJ5nNSr7pXWYZU8Ot8LUOYtxYwqFtRsXOofcdOoukfkICz2tzUszGfXNttBVCp7/FvNGW2rftRwfzyVRfj7mUy0ipR2weMBP/fNJm7iA59ir86vGO32c3Nlz4G2KfDKMn0Ije6E3d97Dakmub4/m9OAb9Deib+Fk7vpJNfFz/X4RDx9Ha9zWW+OvqVfvmbUyK8+lr9e/IgYMINL+GD/VNXo3NyfytwrGhgiDq2uI6NDXVou7kVeM4SCEF3VYAAkSKi2lEJ1LMQ2NNI1EOpJiFwyxeRairAbK68ZIfLQMTSKYm0Ck6/1ZSwvRhndn46+qRIeqGSyopc3Km2fEmExgQjvUwH33g8A7L+/zvEDDW/jagK/g1Uqpc1dlRXvWIkxH0BvhaYraJ1iH0hi5jVt01VgM+s/orYqHXsvnp2+KHYr9qnSVLxnUsMilmYZmL8fezx7J42zAwMY2UeoZ0dpbJTsDYkQg/Yry3UbeVPpPP5c5Fipmp7v+I88cOZ9fJ1r2MYPQfepk8XJrZ4TDaxn/G3eR59PKjH1T5bpg3L2H15tZ3ONuXzVMddBCOULCTww0aAbP3xO/RIto7dBWLfFTapqNbnVhItwvbM8do9jJCveIRHT4EekcQm2WOk/af3SYOdddGitm7m7UB9/poeQn2UQntHRspZumYTmeMts2O8HgNpjrvKCuT10kvHYQyuRTuuK9hbrwLTf0jGH3ziLDRn9NRJbxPta6D478FYstws/ZX7LiY0FXMTwXh1R1urY7x9/WIAH3AjQ1yBpVVfeM7lob3F9oxIeGhrmx/LDegc2jCsilQnvLajmTibeJG9hgq10ShTCoOibkpAoW2rWzdZt+uH5GKns5+B9nxPv0fIyEeyWTU+2x7EDd35AQmm6+eLkdbMo60Sf8Hk8GXjLatHf/zLeZU/0LPw+TPOJUvRNI5IaZOTJgHk52SuX7GjpEy4cWPLfoWc4avw/vtPOS1HYfE9h4ZRthyJFNmbhxtTScwOvp74RgtTYbB84ppY6p80qr6W/tF5ovKdWjvDyEcn1V9tLxtrGa8hltTf0QP92WMDTQjxg7aWb/PCTPev4pWyrOv7ZxAyuRbyPC2DGAssWib3ddK0Zcv+o4jahxjKpZP95WAAJHiSrBixeugnZ98yGlb/IrXnRQkBCoLgUId951HQd9oy2GN/s7LQiUSApsjUD5ta3NdipMiGwZrO2KnOAVSriWHgD4AaUxWuBRQPY2g2Tzz7vJVSlY+CBApLh9b7V1J1c6oPRtOvXeRIM0JgbJHoPQc9wwepb7Bp9E4Zha0cz7V2fy5bxBsP5BdKlD2yJMClY5A6bWtEkNc3T/A6TgzJicL9fVCnPHOfb/JbHSJqU3iiAgUQoo3Wuct5k335Y4AkeJyt+BekP/JAhJ/uY5bPGR3L+hMOhICFYpA6TnuaSwnPsageCScGibYgK4z5uUeFWoSUqtCECi9trX7wNrCe9XlaNYNEXdfTpJgBxDgy730OsAHPXi4v1mCXCHvlqU35pfoV5kjQKS4zA1I4hMChAAhUE4IkONeTtYiWcsJAWpb5WQtkpUQIARKDQEixaVmEZKHECAECIEKRoAc9wo2Lqm2qwhQ29pV+KlwQoAQKHMEiBSXuQFJfEKAECAEygkBctzLyVokazkhQG2rnKxFshIChECpIUCkuNQsQvIQAoQAIVDBCJDjXsHGJdV2FQFqW7sKPxVOCBACZY4AkeIyNyCJTwgQAoRAOSFAjns5WYtkLScEqG2Vk7VIVkKAECg1BIgUl5pFSB5CgBAgBCoYAXLcK9i4pNquIkBta1fhp8IJAUKgzBEgUlzmBiTxCQFCgBAoJwTIcS8na5Gs5YQAta1yshbJSggQAqWGAJHiUrMIyUMIEAKEQAUjQI57BRuXVNtVBKht7Sr8VDghQAiUOQJEisvcgCQ+IUAIEALlhAA57uVkLZK1nBCgtlVO1iJZCQFCoNQQIFJcahYheQgBQoAQqGAEyHGvYOOSaruKALWtXYWfCicECIEyR4BIcZkbkMQnBAgBQqCcECDHvZysRbKWEwLUtsrJWiQrIUAIlBoCRIpLzSIkDyFACBACFYwAOe4VbFxSbVcRoLa1q/BT4YQAIVDmCBApLnMDkviEACFACJQTAuS4l5O1SNZyQoDaVjlZi2QlBAiBUkOASHGpWYTkIQQIAUKgghEgx72CjUuq7SoC1LZ2FX4qnBAgBMocASLFZW5AEp8QIAQIgXJCgBz3crIWyVpOCFDbKidrkayEACFQaggQKS41i5A8hAAhQAhUMALkuFewcUm1XUWA2tauwk+FEwKEQJkjQKS4zA1I4hMChAAhUE4IkONeTtYiWcsJAWpb5WQtkpUQIARKDQEixaVmEZKHECAECIEKRoAc9wo2Lqm2qwhQ29pV+KlwQoAQKHMEiBSXuQFJfEKAECAEygkBctzLyVokazkhQG2rnKxFshIChECpIUCkuNQsQvIQAoQAIVDBCJDjXsHGJdV2FQFqW7sKPxVOCBACZY4AkeIyNyCJTwgQAoRAOSFAjns5WYtkLScEqG2Vk7VIVkKAECg1BIgUl5pFSB5CgBAgBCoYAXLcK9i4pNquIkBta1fhp8IJAUKgzBEgUlzmBiTxCQFCgBAoJwTIcS8na5Gs5YQAta1yshbJSggQAqWGAJHiYlokrSDolSBJ9n9y7YsYuvhP3M8UU4BSyHsVSrAJktSDyK30Dgq0irn4lwh/9lcsPN3BYjcoKq0E4ZW86IwsbJAKAK83nRHcUlNm8GjuO1wMf4H4wtrG75b7X226l7tCJL8VgcIdd96XSJDbxpB6Yu08FxDp9EIy2o21ZPpNCFQ2AoW3rcrGhbQjBAgBQsANAkSK3aBUaBru4Df1YywSQYT/C3+EU50NkKUD6A7/gieF5l8W7z1CKjyAzq4ziK+s76DEuoPsDULZSS6+gYauSfF6CuH/6UJXMI4VNb80bkV6IElNCCqrG5RQAX/ibYaITQUY01mFwh33LCmWpFocjS7ATIuJFDsjTk/3CgKFt629ghDpSQgQAoRAbgSIFOfGZut/2cjBf/ITxtpqIDWMYOax2bXLv+A1LF45hYAs0SyJAV4Zk2JDB35DpJgjQdfyR6Bwx10nxdXPofOIH1L9u0jcEwfaiBSXf+0gDbaCQOFtayul0ruEACFACFQGAkSKi2nHjUgx+KyHGFa8hiXlMwy210FWQ66rUNsxjIupu6YZkczqr4ideQV1jARLEuSm5/B8bQDHxiehpJaRBidRPYikphE+1gzZCNt1VwbSNxEfeQ0Br6yHf1ehrut9xBfF8N01LMY/QG/AZ4SIy3WvIBS/iezkrJOeGaRvTWGsvw1ePbTcHk6uv+cNYmr+KkJdbGad6etHy8AEkvdFZ1g0ItfdErIuzhinF5EYG0AL102uQ8fQn5HKmWc2fxX7kIiLBLn2CAYnbgih8Nw5n0AqGcaxpmo1fDwcGdLCpy/8FZPDz+u6+xDo+xOmbgm4ivXmVgSdtvB7PmPsXE7k1hpWZy8j1HvIwFeSqlDb/hYmkneydUnNm4VzzyAZPoEmvT5Jnj5El7IWBB5jPvwyZMcBnAwez4ygQarCobGfYYpUf/ozxg5VY39QwRrW3ckk6s5gt/7mpnB87qZuZ5BevIoRERu5AV2hq1hMb3VwigtH140QKNxx533Cu7iqvI9muQZtYz8JkTa8PfBlB0yKNdxKfIz+Fr/Rj9n6VL0ueYN/xXz8fXTVVWlpvW0YMLVrVh9vQzl/Eu21epo8+o6NMKG/EQLbgUDhbWs7Sqc8CAFCgBAobwSIFBfTfo6Ou15gZh6Rbj+k6rcQf8Cc8XXcU86gWa5CXU8IX8W/h5K4hHN9zZB9RxGefai9mLmNyYEGSPJhDFz4ForyLS4MHIYsPYfR5AM9c04MG9HeXg+5rgunzn2B+Nxdd2XgLqZDz0KWD6P/k8tIKAoSsY/QCDcbOwAAIABJREFU11QNORDElBoGncHDaeaYViPQ/zGuJJSsvHILhqeWdfJlJ8WZle8wHKiG3HQc52JTUBKXMT74HLymcHL9PU89mhob0Hn6IuLK94hfeAMBWYZ/MI57jrbLIL38C64rXyPYUg2pug/j1xQoMwtYZTBnljE13AJZbkbfuUtIKFO4Mj6IVq8Hvu4wZm3rFIVCMguIHq2F5HsBQxe+UXExbCQ1YjD+m55Yd84PPof2uhrUdZ7CuYm/IhV/F15JRo13HwJ9HyGW+AGJSyF0+mTIrX9E8pFOysR6k15G6vo1xILPgYWM9o3HoSg3sLDKBgWcy5md/TOO+jzwdQzhwpUpKIL9JP/biN/TqatKiqtwsP1Z1MkN6Dz1R3w89H/j/5L2oTd6M0uen/6C8Wd9aAhN47EAh3H7eBqhBg+kQ2NICaz4aWoMh6QmDCXuILP4lTuZRN1ZAdbfvFDbc5ft5+HfEGpm9XgAn6jYTCF27jiaWD0e/g4rxIs5wkW7Fu64c1LMlkTo/aDvOKKLfAGKlRSvY2UqiIBcjSbe3q58gsFWPySxT9XrkudgExr9XTj9FWtjvF8V2nVmBcrpNshyI3pCrD/i/WLN5n1H0dCkjAmBLAKFt61sHnRHCBAChMBeRYBIcTEtb3PctcIyq7OYDHXDJ1WjOfQ3qHT38Y8YPVQNqf49KA8Fz/zhDwjWVxkkMLMYQZfsQX3wB+09lqUlDYyZYglS3ansWl6XZWD9BkYbPZZQ7AyezH6Jd06OIJpi5PshkqNt9g20nvyKi++cwnvRlE6grKR4FTOhFkhSG0IzAq3lgwTGLCV/z4P64SncMyBZxmR/LaSaYSTWjIcOVtQdZHGGGNlZzUDo73hkvPUEi5Gj8FjJoPF3/WblKgbr9uFIeC5LGBnPXoqi1yOhZigBbb5XL1vyoO7kVYNoaWuKJTMBBi+7Fv2Ty1pBtnrDBzn4DDEXzKmcdazET6HO8zLC8yKFTWMp2geP1IihxF0tA2MWOoCT8SVNJ53genqjWNLh1chtC0IzudYz6zaVxTLXMDf+IqR97yDxIO1eJqvu1t9cdetzl3V7PTmKRiNqgmf2ELMX38PJ975GastLGXiedM2FQOGOu0iKM0jPT6DLI/YPFlLMB2sC72OGDzix9roYQbdHglHHeV2SDmE48Vu2bd+dRH8Vb9cZPE6exSFr34sMHirvod40KJZLc3pOCBQXgYLallH/JVQ9/zJeZpESciN6L/wds5PvopVFVLHf4z8K0VBA5v4NTAweQS2PMGJRXMeGMfhSa/Ybw9VlERbhYXTyKAwW4VZ7BG+OTeEWRehwlOhKCBACu4wAkeJiGkD42Nh3oPajdehrzKozfoDmrHvQOHoD5sDgu0gMNRok0HmzJt0ZPBDCjPoyJ1FeE4FzWwYycwgf8ULydSMUS2LZ8aOlh9RKB9AZuoTkshD+a8KUk1s9TJwT7sZRJE2KrmMl9jt4pP3oi90GjPDydoylsvQ1+1wMOzcVqP/QMTGRYk7k2zCa1Gfe+asrMfQxR7kvpm9uxf/g4srtbGwOpZdtIols0pPtPm0PM9YGOiR4g4oWdm7Lj9szBym2lJNLYlvd0UmxfCSMeWN8QSe4xuDEI6TG2jdZ+84HG4T6ptYhH/YNTYHHLzjJZZPJqrv1N8/E8txt3c7Mh3FEluHrDCGWXBLC/HnGdC02AgU57qpQIilmD3hEywsYUwfqzKQ4d524jVjffkie3yHGol54XbJEOhjP1Xa9Qd+xlsBQDSfPxUaP8icEciOw5bZV+zrOJ+/gyc2L6K2SIAfeQnT2jhphFhC/M5lFxI4dRGDgMyTm76sDSZnVfyMReQcdvoNmUpz+D66c7EBr/zlcNvrcNSwnL+Nc3yH4eyOYd/QxcutJfyEECAFCoBgIECkuBqo8T+5smXafHsNgSw3M6zbXsRR9XV8za1kLa6wn1Uggnyk2hbLqMyJyVwSLKrlxIlHuy9BCuT9AG19zy2TwBtA58D4uTt82iETm3g8YaeNr9ZjcPjR1DmDk4jSWjI+chRQvRdGTY0MwjSDJOBCaZitQcxzllOs5B51fnUjxIqI9TF4HQs1tZQws8HzMV7am+PLoQHZNoWEfcZMzp7I5KXY4komXzUm19bcx85+DFJuIP5OXrd/9BqP9HcIoPq9XQvk6KTbIuKqqheCq64JrcodOc3geTGFonwxeB7XZcy10WkviUiar7tbfvDzT8zzqNguBHTkirLWW4W3qxMDInzG9lGtghxdK1+1AYMuOu1DfMytXMOD3wHf0KyxmRFLM64RQ3w3heR9yGKGZB1lSzNsfT2eqY7zv4O3I4Wp9n+dDV0JghxDYatvKfgtYWzqAjvC/tMgJtS0I3x91cLsBA5N6hJGh30PMxT5FNMWjip7iXvxtHDgaxW1j4NVIDDz5B0abA8LSI+FvdEsIEAKEwA4jQKS4mICbnCpeEA9jFWbVsJEDx9/Tr3xNsedZnPziqrD2rR7HY4t66N9GpNjJSbSUof7MIL00g9j5D3Cy7wiaOEGWOzCavJ99IX0bM7HP8OHJ19HRxDfcqkHr6IwenswdUJ2IljMpfvILwt0HIKnrb/+EyKS2Xle5No6+6q2TYrkniiWGrK3eONmTJXQi3yzMPYxutk5ZXUsewSRb760ouDbeh2oxdNiRFAPggyxHLuD/u3EWzdJGodO8KtxBYqhJH+x5pIVqV72BybtskXEeMll1t/7mxZme59F+1PfXsDRzGec/fBt9HU0GQTat6+bl0HXbEdiq4y4JpBh4hPlwDzxq6PPfhXOKN6oTvE8qhBQ7DKhtO0KUISFQGAJbbVtmUlyLzsiCJoja3wqkGGksxYcR8NSh/cQpBE+PYpwdORm9aokae4CZ0GFjI057xBwbXHLrkxSGCb1FCBAChIBbBIgUu0WqkHQmx13I4F4cg34Z8rPjmNU3Jsod6reO1Tv3jNlZtiv01eHn4BFmKO07NzuTKNdlCKJmb9ewNHUGrbKEqv5J6KtSs39W7xiR/g6nW2sgGYSIO6C6M7k+jdABGZLr8GmrE2rJzyJB9qcTYeQf6ELCpzN4kHgH+yQ/uiPz2XWHrEB97aFkzBQ5lc1niqvRNv6r+X01dJvPkG+VFHNyehQRYwMiJuRT3J18A1WiA5KLFIOvEW5Fz6sHITWfRXKjDchU0Dk+LPz9R3Xdd7ae5CGTtc1Yf3MDWzDfUt1O/xdTp5+HLAnrunk5dN12BLbquJtJMdveQN88re0YTjxXY+yFsD4TwgHJaUlKjvBpo/3qKpvq3gbh05kHuHNHXL+/7ZBRhoSAKwS22rbck2ImDtvUMonJ6BcYH/0DgsEghk50oNYjbrSpLb+pHoxvuIzGlXKUiBAgBAiBIiNApLiYAJucKrEgnXSIM3B8Uxjr2Zv6ecbauk8tFMkvHcFYyrImVsw+V7itqzKAzEIE3d59dvKnr51TyU7m34h074enm4dscwH0NdC5SDHuQgmykePDCCoCteYbbfn6EVOPA8pFfnM95+Xzq+74mmaV+KY4lo3KjM2u6nDMmG3n+fArn3kSNqpS/8RnqtzOFEvwdE0Ia6jW8VvsBKpEPGz1hq+3FkfqWeFO5FsP87RuRJaeRbiLhY4Lo/I5STEPoWaj+PY10BwR21UPoa56oRMvVIkEMw+ZrLpn/oVwh/U8bwfMXdXtx1iIvAavxzpgkMFaYhg1RIptJi3Gg6067jZSjHWsTL4JPx8o5ORW3YDQY9u8UNtoS4bv2CVtMzlrneNKm57zNiFu7MUSZvAkNYY2WYz84RnQlRDYWQS22rbckuKnc5/jld4LmDWWSXE9n2Ah3C3szaG3j6oehOfFvUF4eroSAoQAIVA6CBApLqYtTE6VuaCns+N4VpaFjYj48SEyfB3vICIeyWQcccTJ0QH9iCItLDZ7RA8vw3mmmK011Y4o2agM5ufpRw9529B/9kv16BEl8Q0uDL0An8TWEd1mriAWo8fhYztO9p9FlMnLjje6MIQOnwf+gSv6rst2EptZ+hZviUcyKVcRGWZ5H0B3+Bf93FH7e5p2uZ5z3fl1DbPjL0GWmtAfZkesTCPFNgPL/Bfxt54RjmT6HnF1c5DNj2TKHiuk20eJIzp6DE3+RjQdEHfrdiKr+kyx3ICWZ+r0Y6z4kUx8TaQuu0O90eqLB3X9FzClKLiunkftVA63y350DE9otot/iVG2oUnTQRxwRYqzIdSSZN3ojOPrdNVnhBk5MQZFWLo8ZLLpvob58CvqBmyaPlO48skAAjbM3dVtbkNvSz/ORlm9UJC48hmGOvZD8r+JSfW4MSfd6Nl2IbBVx91Oill0BR/0EQen9BBP40gmBUp8AsPM1g5HMmUjPXRNrXWRH+cmZduW/ai67UKJ8iEE8kdgq23LLSmGOqCqtwP1W8Ta4DJS8TBOth4wnx+euYPk2Kvw1/Ui9NX3mFc3F13H6sLfEPtkGD2BRvMRgPmrTW8QAoQAIbAtCBAp3hYYc2RidarEZJmbiPbug1R1ArHf+DbMa7g19Sf0BfjaXBnelgGMJRaN8OnMylWcrPM4r9HxPo+hr3/BaiYXKWYCbF4GS8U2lIqFXkOAryWWZHgDryEU+1U771dNdA+zsRH0GvKyDbkOoTd02dhV23m3aLbp0mWc6WrQNxdzyHvLG22xIyN+xHhvo15GdoZU1e3MK6jjR0nYZBYNJd6v437yMxwz9K1CXddpRFM/amsZ28Yxp24m4kRWdVLcNo7Zu6JcfrQMTCB5n9cBp/BpZpA7SI6/npVZnQ1zLkdNe/53WdvJDegKfo1UagKdkhC+nXOmmOm8gvhgve3sYREN+z0PoXbYxZvJ70YmpzaTvol4iNuLtYnfYyI5I6wf5ZK4qdta3Qv1HjLWErMN4gK9I4jN3jOHtfNs6bqtCGzVcXckxexoJPXcdJEUs3bD+qgz6DKOgnGwtVOdYxo7PU8vYurssWzbUgcFP0biFm3Stq2VhDIrCIGC2hav5zzSQo2u0r8tkn4qgpFG+45m5sbR1nQCo6O/N206yY5ZGjyvCBtt6mqo7dDiK8h1aO8PIRyfzfoUBWlNLxEChAAhsD0IECneHhx3Jhc+gxt4F3Fjp1y2rucXXFeuIjxwCJL8EsZnyUHbGYNUcClq6GkNDo39DH3ZewUrS6rtJAIFOe47KSCVRQiUKQLUtsrUcCQ2IUAIlAQCRIpLwgwuheCk2PcChj750thVmIUtT371sRYCaqzJdZknJSMEDATSWE5dV8PgLwWPwGNbe2skpBtCoGAEyHEvGDp6kRDYEAFqWxvCQ38kBAgBQmBDBIgUbwhP6f3RHtasn5ephiKdxWUKAS09o5WNRHy9NguDfx7Dk/8xwvbLRgUStOQRIMe95E1EApYpAtS2ytRwJDYhQAiUBAJEikvCDCQEIUAIEAJ7AwFy3PeGnUnLnUeA2tbOY04lEgKEQOUgQKS4cmxJmhAChAAhUPIIkONe8iYiAcsUAWpbZWo4EpsQIARKAgEixSVhBhKCECAECIG9gQA57nvDzqTlziNAbWvnMacSCQFCoHIQIFJcObYkTQgBQoAQKHkEyHEveRORgGWKALWtMjUciU0IEAIlgQCR4pIwAwlBCBAChMDeQIAc971hZ9Jy5xGgtrXzmFOJhAAhUDkIECmuHFuSJoQAIUAIlDwC5LiXvIlIwDJFgNpWmRqOxCYECIGSQIBIcUmYgYQgBAgBQmBvIECO+96wM2m58whQ29p5zKlEQoAQqBwEiBRXji1JE0KAECAESh4BctxL3kQkYJkiQG2rTA1HYhMChEBJIECkuCTMQEIQAoQAIbA3ECDHfW/YmbTceQSobe085lQiIUAIVA4CRIorx5akCSFACBACJY8AOe4lbyISsEwRoLZVpoYjsQkBQqAkECBSXBJmICEIAUKAENgbCJDjvjfsTFruPALUtnYecyqRECAEKgcBIsWVY0vShBAgBAiBkkeAHPeSNxEJWKYIUNsqU8OR2IQAIVASCBApLgkzkBCEACFACOwNBMhx3xt2Ji13HgFqWzuPOZVICBAClYMAkeLKsSVpQggQAoRAySNAjnvJm4gELFMEqG2VqeFIbEKAECgJBIgUl4QZSAhCgBAgBPYGAuS47w07k5Y7jwC1rZ3HnEokBAiBykGASHHl2JI0IQQIAUKg5BEgx73kTUQClikC1LbK1HAkNiFACJQEAkSKS8IMJAQhQAgQAnsDAXLc94adScudR4Da1s5jTiUSAoRA5SBApLhybEmaEAKEACFQ8giQ417yJiIByxQBaltlajgSmxAgBEoCASLFJWEGEoIQIAQIgb2BADnue8POpOXOI0Bta+cxpxIJAUKgchAgUlw5tiRNCAFCgBAoeQTIcS95E5GAZYoAta0yNRyJTQgQAiWBAJHikjADCUEIEAKEwN5AgBz3vWFn0nLnEaC2tfOYU4mEACFQOQgQKa4cW5ImhAAhQAiUPALkuJe8iUjAMkWA2laZGo7EJgQIgZJAgEhxSZiBhCAECAFCYG8gQI773rAzabnzCFDb2nnMqURCgBCoHASIFBfTlmkFQa8ESbL/k2tfxNDFf+J+ppgClELeq1CCTZCkHkRupXdQoFXMxb9E+LO/YuHpDhbrqqjdwsSFcLzOdkZwy0XyzZOUsh02l36jFJn7NzAxeAS1st6+5QZ0Bb9G6v76Rq/t4N8KqWdpLMWHEZC96IwsFEVWctyLAitlSgiA2hZVAkKAECAECkeASHHh2G3+JicYTf0Yi0QQ4f/CH+FUZwNk6QC6w7/gyeY5lXGKR0iFB9DZdQbxlZ0kCwuIdHoheYNQdpKLu7JUIWTFVcZbT8Tr7LaR4lK2wxbgevQTxrsOQPJ14fRXcSjKFK6MD6LV64Gv6zxSj0phtCvPepa5h9noWwioJL+SSHGeOGyhWmzPq3nK+3QWkdea4TUGX4tnu+3Rj3IpFgJEil0guz6N0AFZn6zId7A+z7bpQhxKQggQAqWDAJHiYtpiI4Lx5CeMtdVAahjBzOOtOtBrWLxySnNmt43MFBOYnci7lMlYCX9YN6qzBZmtlO1QkEIAHiA19gJk6RCGE78h23rTWIoNwC/VoG3spxIY7HJbz9axOvctzvU1Q5afwcCbXaiWikesdt5xd4tDofVhu9/LV941LKf+iYVVNujI2ltt0Wb5t1tTym97Edj5trW98u9obrci6Mw7gi3ftrmjGlFhJYpAWgnCW5ITNCUK2C6KRaS4mOBvSDCcOtc1LCmfYbC9DrI66l+F2o5hXEzdFRxvILP6K2JnXkGdHrYpNz2H52sDODY+CSW1jDTSuBXp0UKWU9MIH2uGbDi57spA+ibiI68h4OUjqlWo63of8cU1AbE1LMY/QG/AZ4SIy3WvIBS/iezkrJOeGaRvTWGsv82Y3bCHk+vveYOYmr+KUBebWWdhqn60DEwgmTNEletuCVkXO6T0IhJjA2jhusl16Bj688Zhr4+nEWrwQDo0hpQpHPsRUmPtkPafhrKW0WwTEnGTINceweDEDSFU3oqJ9TeH2Ol5BuklBeeFsF07doA7+/FyhKtRZ89DmXwXrSpGMryBYzg7tSjYlb2zUV3awA7zEXTJVTg09jMMKB/EMVhteZaZR6TLj/1BBWqtS9+Gcv4k2murtPqWy24u0qkfKakJwal/Ih7ibUmGt+X3mEjeMbU3AR3tdk1BcL8MqW0cc1lGrP2N15PNBrvYrGxsxNR2JLkO7YOfC3U7nzawjvvJCQy0+HVsGtAV+hKRUwddLF3QBy583RiZWsQj9gE3+gub9lt+sPOO+zpWF25Auf4LltNWg21ZnSJksBV5iRQXwSBlk+XOt60dgsbNN1sluWwwbwbJ8Ak0Mf9oo0mCgkjxVtrmDmFFxZQcAkSKS84kOQUiUpwTmm34g0EwHNZnMoe/2w+p+i3EHzBHbR33lDNolqtQ1xPCV/HvoSQuabM3vqMIzz7UBMrcxuRAAyT5MAYufAtF+RYXBg5Dlp7DaPKBLjQnJI1ob6+HXNeFU+e+QHzurrsycBfToWchy4fR/8llJBQFidhH6GuqhhwIYkoNg87g4fT7aJarEej/GFcSSlZeuQXDU8s6sbATu8zKdxgOVENuOo5zsSkoicsYH3wOXlM4uf6epx5NjQ3oPH0RceV7xC+8gYAswz8Yxz1HE2WQXv4F15WvEWyphlTdh/FrCpSZBawymDPLmBpugSw3o+/cJSTEsNfuMGaf5HKaVzETaoEktWMs9Shb8tOfMXaoGvuGpvAgs4Do0VpIvhcwdOEbFTfDhlIjBuO/6e9ZMbH+5tnbn2fuXcPp5mrIdb0I6WG7sXPH0SSLofhu7MfLsFx5na3xwhfg9vkaoc4DkOQOjCbv6y9sVl8f5LbD018x3lZtIpXryVE0skEPkWiuxNDnqUX/5DKQWYFyug2y3IieEKsLvE7WwCfazWU6jRTX4GBTPfyd72ntLf4pBgLVkPxvI37PoOsWgABNVhkHQtOwLwi4i8RQo72emHJ5gsXocfik/egY+kxrO8oUNDuKdVu3v4s2kFn8Ckd9Hvg63kGE9R3xiwj1NOoDSZuFCC4jcf4LKEvagJeGTSXNFJvAr/AfRIor3MAbqleRpNjtN1sluVU42P4s6uQGdJ76CBPxOQhfazN2BZFicxb0ixBwgwCRYjcolUYaIsXFtAMnGJbRyszqLCZD3fBJ1WgO/Q0q3X38I0YPVUOqfw/KQ4GYPfwBwfoqgwRmFtksmwf1wR+095j8ljQwZoolSHWnsmt5XZaB9RsYbfRYRlkzeDL7Jd45OYJoipHvh0iOttlnoZ78iovvnMJ70RQeq9haiR0nl20IzQi0lg8SePoQXWLzzPw9D+qHp3DPgGQZk/21kGqGkVgzHjpYUZ/9EmeIkcHjmRE0SFUIhP4ufCyfYDFyFB5pH3qjN3PMEvJ3vTgSnjPSZObG0SY1YShxB1i5isG6faa/M8EyS1H0eiTUDCW0GU9DN05WuK78N1fH+nwVydHnIUuHEVTu8kQA7kIJHs6SOVf2E14Xb3mdNRFggNW7bo+Eqv5JqCW7rUtqOKd1bbdedwxbr2Fu/EV9hrMXkUVm/wwexN9CtZ7mcfIsDlnrPTJ4qLyHemPAIQN36QCN+EmQ6t9F4h6ntk9xd/INVEmNGEqI+IoA8TS5SOMTLIS7IUk6mRdfNe6XEB8MwHMkjHmxCmduItq7T6jb3P6btYE7SAw1QfIcRWRR2KFA7Rc89jZqyOF8U9qkmM2Ify5E00iQvK049oc38ZLf2ifofYCx1tbavgT91Zn7M+iqE6IQgn9BavIdPZrFi/bOdv3ej+dffVGN1JHr+nDhxk+YHH5e/Ztc9zrGTZEG9sgOLSLgM2MQIitFHvJiDbcSH6OfRwZIPKroRwqfzgK65+4KIsW8z5ckVD3/Ml5mbUBuRO+Fv2OWRwux3+M/CtFOgG2jQRbFdWwYgy+12vtPFr0THkYnb1+SFkH15tgUbm0YvcG/uy6+2SrJZRFiAZyMLxnf6JyVQE3/Ki5MT5kiryTvYfSd/c4il5u2yftrJoM9XxZFNzJ12yRX5n4Kl8eG0CNE20lsw8bQVSyacDGX7w0qSKdvY3piCB1q5JQMb9sHUFauCZu7Wr9R5jwK229F68/CQ11GpKIk+RDoHULw9cPoCP9L189cVk55jW9vPv1kPt+AfNI66VaF2vY3MZbgUXL52lhMb4leZN8lEzcoAmZC25Y6P8X09OcY6uCRqCwC8DWM8MhOMa0tUswsW2F1J2dLLKk/ECkupjlMlczaIPxoHfoas+o6MD775EHj6A3L7JM+86STQGeHVa+wB0KYUf17PlNsJnDaDNfmZSAzh/ARLyRfN0KxZI6Qw8eYD7+sbhbWGbqE5LIYVi2CyjsF3SHlhK1xFEnORdTk61iJ/Q4eaT/6YrcFUmyZmbURSrEs8V7HxESKOZFvw2hSn3nnr6izkhI8fTGs8GfWqx4aKxtkRsdg3ztIqLP91hf037weGB2gBZOcOlnS5cQug7XEMGo4mXNlv01ktYaJq6HMPmPjMtd1yZEUZ7CmnMZ+Thx5mPSrr+KIzMnkPSjBZn3meAO7rSUwVMMHHNym46TYEq7Nos43DR3Oti3n3Zk3+3sO3NXHFnsb9WKTNqBvHGOvu3zWegMy6CDO5hg4vJTHo4Icdz3/zNIlHPM/g4ELCcyrfec6VuevITL8AnwbDZRtOCu0hsXoCfiF/i69nEQs9DJqvTWQxT5Ebcse1PZ+iuT9B7gZeR1VUjUCg1HM3l+GcroV2f6BDYh9i7eam9HzYUzvI1kkSxKxD4+ivnkYcXUA0AG8DeXVdwj3C/1zegnJy/9/e+f/Gsdx9/H/5ji4H4QwQgiMjRDY2NyBFSKQXGpkkgo5KUgpRgoPlhoqp8Qu9PzQyCWRm1o88bmJcHOE9tIguVbNNVh2LsFO6gcrRW7k1n4sEuP4S2Is+94PMzuzOzu7e7qTJd1Kegcc7e7NzpfXZ2Z2PjOf+cw7GMhsRdOWZu4pDkG6GR4tv22pvqf1IE5fvYvH//kQ/Q0JJDOvozB3V1qYZZIvYWLemepG+SYmB3cjM/weZubvS0Wo/OBrzOR/he7m3X6lePHfOHe4G51DJzF1dUFtwXmEb65O4eRAO1r685j3KYCmpCr06fY3WynFZvszYwpcy/CNaGp+DgMnp1T7FPn6GKM9O5F5/W9YMCctdQQV2yYAN9601+4Xb+PT4y8iZW+ruV/C+NF3UPj7NTXOEv4dziK7rxV7c19524t02uqbsOXQW8gNPo8dvVnkL9/GotjuNj6G/FWx0PAEd6Z/ga1d45i1Ld8W5zDRuwu9E3PWVig3gYoXsj/LtCA98I4nS9H3TI6ipzms33HqVeX81tZP1vINqD5sGYs3z+Jw5z4Mjeu6IAYEql9N70J//rps5sMlAAAUAElEQVTHrBYZ63GF+R2pSHmlmakxibb+m1JjelduO/Hq5E01mbF6dadikWP0I5Xi1RSGVoZ83qfHMdKxBQl3lUxk4AkWCgeVqaOtPOt7Z2CrV4p3jl5WK7EAtLLWm8dN2YnrgXka2dIDVcLq03BMud9Cl95zK2a0mjLoGf4tPhQdsIqxfO9THO9Sexjlakwz0j3DOP7hZSy4HzlroL9QQF/EXh9nMK7NUq33XDlFPXcDqIswpfgmCn0ivyFKgpaVO7Fgxyfu1YpcUq1mypW9bY7ptAou9ntPjQ17+17dVSpzVtAug32v07aea3ZmnL5rPTMsTJuXlp9OxfdXc3AVeP2rmZdHVddXx/GPvVIsfFWJPcRJh9130xhqaMXQ2fMYb29A40gRD+UEwBa171jLTbeFkL8yv9WGi1Z+l1YIl1op1m1PK/ean/VXrExOncCQ6z/ALJOunyZz3epEPNZzVS/kbLwvGSuc77fom6UZRL9bzS/LH7irycPG1zD9nW9GDXg8h8l3/hLt9bvSQPbhBRzZ+pzlNE0YK6itKuZgRrYPo1+V8R7AxA1nhV6yc8MLq5guy9JFESp/i5mjz8PXj5vwKuVX9vfPB/OLMhbnz6A3pfsBM0JebwYCy29bTl/h9SHi+7ndW/mz673sn3dieNpekf0e1yf/gMKsHnc8xb3iL7H9lQJuhymYj7/E2J6MsbXIlpLu03WfaPyuv1X6my3bTAJeGYywYZcyfEuogli+dwFHd3RYFlkqkkptUwSRv3fiWOmOf1X4xgS6w8Yegbypb0jgGywCqj5drNyPXzLGWVYk0pHrHgxPmyvTSuHp/B2uLut0BNGfdaJlsGCtYou0xQLBy2gNbCmqJr+19ZNyQr7Kb0D1Yb9FcaQLr4RaCpbx+OoJ7DG3VdUoY/93wZJV4Halman6lOrDxLy9meAJ7s38GjvMhZ1VqTuBQsb2AZXi1RSN7rR9ndsiFgoDSCXMVVytsFYxmNEDtdReHP7gvLGneIcx26MH5sbgzVW8q0hDMhGmJFcwefotHB7Yj7RWkC2zWizexpXJ9/D24YPoTmuHW1vQOXZFmSerBq4/Blqx8zFxhOAMxuOsFJfxcOZX2KrNrKVZtKH8PP4KEwfE3luxn+n3yE9fQKlUQuliDgONK6gUh7ALVuMq5We/GFpnRSDdUR9EYUErxdXUpbDJCRHfbUwObENi19v4/OIxbJMTDd85JvnbjuHSFyfRntiDbEnMfFcYGPnyX224Z1GKgaez42hPRA2+HuLK6HNL7Cn+HnMTr6A50YC2njdwMn/O2X9eKiI30GpM2lhtxy2r9Vx+oMPyY4Vz36984bTDamRbOZ6oX5c/cBeK6v+h+PrzSLV249CRLI6N5ZDPf4jCdJRFi8pFhYGsHDiFrjIrE35XyZVT/sg2Gf2qFa9v8CP9DWT8q2YuFGXdYVtk6N+tePVj8VfWv9D8il9Fu9rFlWIT2Ca6Xn7bcvoKT6EU/bbhxdxWiqGsFVJt2HfoDWSPjSEnjpwsnLesxnR/aE762deV+poKfbr+Vj2LUpz6L0yGHhUprGwyfmeQuh5VaJsySNTvYc9tB2JykjuFpqZGy7RWJ+7IyduKpZ/bf0NW/OR2mt2Womy/V+Fe9me7MVKMtKULebmK/NbaT9byDag2rO+YLrt+6ntjYiZMlqL0Ec9934UQSv5HK83M0QeClmQqVWltZ1pPrkLd8Rcw1ndUildTPLrTtpWYe0WMtCSR3JvDnPLnE22O+gQP7t5zV2eFV+HzR3+ElLFCGPQ+HKYUVzLRttIIZfIICxfeRGfS2FcaCCcUsU9wrHMLEg0/x/R3onBOA3dXZ3XnU7X5tNERyfSs+AJ50A/ClDH9gTY7ABXeNsXS0dh/5apSEqmBv+BfYv+pW06tMLfgQH7eN0MMuRK6HKVY7Z/WEwpydj6FRICd8Eh+F3fd1Xk70+K+GvnpQb/l8EpGp5RYNQCpur6Gmk+LCBdxM98v90f39WkzaW1WncHBgR8j6bKtYEJXfoi7d5VJn7vPPUS+vnDPphRry4ygJ3KhtCknYraZnCkSXYcOaMsO/aMlb7vt6GD2c9XPBD96d1Ac2WEo2W4EFS9irRTLnAsTx/Mo5HMYO5ZFNvsGDu1rQ8p1AhhSvIjBiggplUzX4aH5rlJcY6YURyvxov79CxPd26kUm2LcRNdrpxQLqM5WgOnCB8iN/QbZbBZHDnWjNWU62nROZ5DWP8uSQw3fbNnGwyYHIxKW4T0rD3+oNVCKpQOxTrRI54jafFowvYap7I8qKsXe5IU/174734rf95jLHUBj4Jvje6PyTUXlNepVZ7xWMb8V442aPKzlG1BF2FoV/qjvScTz5SjFK8dM6QPdE7gRZq0hlWJri9ZK152o6hHD51SKV1MoUUoxhLmI8GTcgdErysxIH+Xic/wDQFbOLWqfmmOK1JLYj/FZa0+srxzhSrE7mK+YBlC+kceBpq1B5U7t35TOlspfI39gG1KBTlbtY3QVGluJVU6hbGdR2tFW8xAmfY62lqsUKyXOHNC6jpksR2XQjrbaMOjurfABNW6UCXXDXvS8sNVzPOWuxNtOmn7A/ESfM4nhTo7YTLRzJqM+uKaQYpZSM9D1xj4fV52bq/Z8VSU/o0S+S11nLVOb8reTGGwwuFVVX0XMYXJwUnSclInyGfvc9QRCwtzfrZ2t2A6nyng8O46upLa6qDbcMyrF7jnFtkMXZYrkswLx0XVulLWEf7Zfm7765V3Kpg3567js+iNMv3Yh0TCIwm3PzLp85xyGW8SRarr+6Pcr/42vUvwI1/OH0H961psk1EWRyuBO5Y9APzT+RgxWZIioFRRp4tzu7qOXYWX7qHKlWDrA66hoPu1zmGhkN2rFwctve4gzIeEM8TT203zaJLmprtdKKX56/Y94uf99zAUmYp1vmTdBp/rohjDTzWpEo50pGt8e+VrIN1u28VqV4mbsz80GzpQv3zmPw23CGag2AzfyWqkvEcGifrefy4n4F5G7bvljkScodD67UmzsLb72n4/x6tYXMS6dpBplqelSjN060Hb4PO6EKVeLd3Ar4FumCqW4pn6ylm9ALWGdMVRD75kK+9sNWLYs9U8Rz+U3NdK6R7+s/640M6UPpA4gp0+x0UmJOlJ8A22BSXxvtXhl6o6bYOwvqBSvpoi0guEqQ15iT+dy2JtUeyrl4ye4cyErjxtyj1XRRzK5RxxpZ1Tb1RFFJcc8t/QP3FAOu5wUIpRi0QCWTENMAKujhZq6MHTiT/L4m9LMWbx/5AU0J8Q+IrFPRR8r04KOoRMoiGNgxPFG7x9Bd3MKLcPnVMdpD+CVUwXzSKbSecdRTtiRTIEBfTA+j6p59QhzuZ8gmUhjaKKIUukyZkWHrcxpvCOZLqEonYOk/Ef7mFH5rvWKsFBeDNNpgc0+FqdURGFsEOmWXUhvN715B8vwdH4CL6SS6kidi5g59y6GMq1Ip7f5lBp9nJU49uloXpjP66N8GpE5+onDvCr5+Qrl3cg624jdHXvQkhnGqXPiyCx1JFPzqyi43o2rrEuIkINIUa98J3YYJllKiU40oiv3T2/FXR/LIY4xOnrGOJLJPCZMCEEdubVEuCjFL+q5B0hdaVN59/itSyj++b/RI45FMo+ICrxotC9XhpdQLLyNgbQt72A9caKzn5fxw7X/QbeoPz2j+HjmU8ycO4WRzm2OGV6gDVmZKt/HjSufqb6khIu5ATQmGtGR/ch95h5pZr26nNvlD9xVvya5/d1pz3K16hqKH/wSnQ0vRA/6IgYrTv4XsTA5XIOjrWqV4goOZEYPoCXzrI62RB9w0XE4Jp2mvIW+PRmkt7dwpXg5FXMDvLP8tuX0Kd7q1BLm07I9qb549htnkmrxG8wWJ3C4czu6xv/XUzTLd3F1/KdokccIXvIc5N34HJOnjqIvs6vCqQ+iv3S2TCz5zZZ5qlUp3oZ0psNziFW+j/mZP+Jo9w7ve2rXi4p9SQ1KsTzBYSd6Rs/huhi/ybQ/QLZ3N5qXMJ/25GRnzrqXiyptSKdbo5VZ65VKt874oxWdI6cwrZ2mSWdUJzHU0Yr2sS88XzcyIrtehcce6ZAw0E/W8g2oJazAfwXjvTucI1Evfq2O8LyPG59N4tSRPmRaBtXJKDXIWBdXWofuxMCZa0a8f8XE6KvoHPgICzrcajLbvhuZPT/D28p5rusYr6XTOELVyMgK1x0j5lhfUileTfFUUIqhj19pOITJb7XTmEe4deH3GHDd8yfR1DFsuIMXx7WKGUxxzIpQyqx/TT/GkY++woNylFIsCrt0GiKUcBg1OfozZPRe4oTjvn108p9Oo5aB7mFu8jj63fwKh1zt6B+dcr1qB8ynJe8neDA3hTd7dyrnYiFx2yai8j3xP1shcH8IXJTvf4Fcvz6r1du3JMv25svekQKBPAei8j9Q5q+JwH4k4f7/PQy6PBrQ1nsMhVlxTEqTcQZvWBke4Wbxt96RME1dGD5zGbP5Pp9SLE3Wbn2CEwPPqeNhBPMuDFlHW1QlP3+pnDtZZ19Ebu42ruYOKkaiHr6GM76jZkTwKutShBwA5WHax1GbVVvmPCK5xZu4cGLQqJNiQuZdzNyyZtqrCBel/EY9D0MVqEfiKI3sR5i9r9tz2FvOM1E3Tw96Mky2vYRs4Uslb716EFZPxPthzy1ZyGM9/orS+z+16k9InnQ/Zfcn5r3P4iIkjhoeLX/gLo7u6kV66DjGfrEfrcJhn8yjODbjME6XPCeAvmPpzHK414ZiK/Iuj2Qy+jJ1LMr8hSyaVNmduqHTVINvNRBPJJz4vDB6dT7kmA/hc+DIGetIJt1ne/H7+3crv4EjmcSxKMcxOfcPp68R5VxBmdUgXgatI4FltS27/ct6o7Yfad8JbhjnOyqtfNKHMDb2ms+pZLJ1P0ZOl4IOoOz2Jepnsg37hkYxUZzzxhQR7AJ9bdg3u2qlWPefoq31IT/7JQrZl4zxgP09rbZtmvE67dhRXqOeC4/H08i6R+So43+mr6nvgIhDjVtc/mH9g+5rwuApx5C+Ce2wcNU/K9+/5ucljoMTxxZNG3KsOb/V9pO1fANqCeuUPzhuEkeHdWNo9AyK1++h7H57PTlUlrHmKr7Pv0OfeyRZEk3pHgwfz7ve27FqzFT97TmD2bkpjPa3q7FjUL/QuXX+rnzd8ccfzzsqxfGUS3iu9Apg5tcoLmhFQOxB+Qqflc5jYrgdieRPkJvTv4VHw6ckQAIkUC8Cyxq41yWzytFWyB7+umSHiZLAEgTWT9taoiD8eWUISMese/wr9ysTM2NZNwS0UpzHrVryvEnrDpXiWipJvcNqpViYbJ76E6ZntPn0BUz/+V0c6d6GhLsnt96ZZfokQAIkECQQv4F7GT/MnsUfCkVcueGcuSqOpXPOC92OPaOfo5IHh2AJ+YQE6kMgfm2rPhyYqiCg9mPbPmQ0HNfKxVv19FunmM8rrUbrCPk3ngSWoxQvUXfiWdAVyRWV4hXBuHaRhJl3yI5MmiKdwNScMPHgfyRAAiQQTwLxG7gv4puZdzFiHj0nzTt3ovdNcytIPHkyVySgCcSvbemc8e/aEAiaajuKrr39Ym1yw1TqTCDCJDt8TzrrjpAWleI611kmTwIkQAKbiQAH7ptJ2izrWhJg21pL2kyLBEhgoxGgUrzRJMrykAAJkECMCXDgHmPhMGvrmgDb1roWHzNPAiRQZwJUiussACZPAiRAApuJAAfum0naLOtaEmDbWkvaTIsESGCjEaBSvNEkyvKQAAmQQIwJcOAeY+Ewa+uaANvWuhYfM08CJFBnAlSK6ywAJk8CJEACm4kAB+6bSdos61oSYNtaS9pMiwRIYKMRoFK80STK8pAACZBAjAlw4B5j4TBr65oA29a6Fh8zTwIkUGcCVIrrLAAmTwIkQAKbiQAH7ptJ2izrWhJg21pL2kyLBEhgoxGgUrzRJMrykAAJkECMCXDgHmPhMGvrmgDb1roWHzNPAiRQZwJUiussACZPAiRAApuJAAfum0naLOtaEmDbWkvaTIsESGCjEaBSvNEkyvKQAAmQQIwJcOAeY+Ewa+uaANvWuhYfM08CJFBnAlSK6ywAJk8CJEACm4kAB+6bSdos61oSYNtaS9pMiwRIYKMRoFK80STK8pAACZBAjAlw4B5j4TBr65oA29a6Fh8zTwIkUGcCVIqXEID4yPAfGbAOsA6wDrAOsA6wDrAOsA6wDrAOsA48ex1YQv2qy89UiuuCnYmSAAmQAAmQAAmQAAmQAAmQAAnEgQCV4jhIgXkgARIgARIgARIgARIgARIgARKoCwEqxXXBzkRJgARIgARIgARIgARIgARIgATiQIBKcRykwDyQAAmQAAmQAAmQAAmQAAmQAAnUhQCV4rpgZ6IkQAIkQAIkQAIkQAIkQAIkQAJxIEClOA5SYB5IgARIgARIgARIgARIgARIgATqQoBKcV2wM1ESIAESIAESIAESIAESIAESIIE4EKBSHAcpMA8kQAIkQAIkQAIkQAIkQAIkQAJ1IUCluC7YmSgJkAAJkAAJkAAJkAAJkAAJkEAcCFApjoMUmAcSIAESIAESIAESIAESIAESIIG6EKBSXBfsTJQESIAESIAESIAESIAESIAESCAOBKgUx0EKzAMJkAAJkAAJkAAJkAAJkAAJkEBdCFAprgt2JkoCJEACJEACJEACJEACJEACJBAHAlSK4yAF5oEESIAESIAESIAESIAESIAESKAuBKgU1wU7EyUBEiABEiABEiABEiABEiABEogDASrFcZAC80ACJEACJEACJEACJEACJEACJFAXAv8PK1cONEvDBWMAAAAASUVORK5CYII=)\n"
   ]
  },
  {
   "cell_type": "code",
   "execution_count": 13,
   "metadata": {
    "colab": {
     "base_uri": "https://localhost:8080/"
    },
    "id": "87vkdXlhT2op",
    "outputId": "eefb2615-a67a-4d69-dfde-170df598180c"
   },
   "outputs": [
    {
     "name": "stdout",
     "output_type": "stream",
     "text": [
      "Build model...\n"
     ]
    }
   ],
   "source": [
    "# => 3-layer NN\n",
    "print('Build model...')\n",
    "\n",
    "######## Initialising the model\n",
    "model = Sequential()\n",
    "######## Create layers of the neural network\n",
    "# First hidden layer\n",
    "model.add(Dense(units=10, activation='relu', input_dim=20))\n",
    "model.add(Dropout(0.1)) # Adding dropout to prevent overfitting\n",
    "# Second hidden layer\n",
    "model.add(Dense(units=10, activation='relu', input_dim=20))\n",
    "model.add(Dropout(0.1))  # Adding dropout to prevent overfitting\n",
    "# Output layer: Since we have a binary classification scheme, we select a single neuron with sigmoid activation.\n",
    "model.add(Dense(units=1, activation='sigmoid', input_dim=20)) # output layer"
   ]
  },
  {
   "cell_type": "code",
   "execution_count": 14,
   "metadata": {
    "colab": {
     "base_uri": "https://localhost:8080/"
    },
    "id": "eMWIW1LwZxa_",
    "outputId": "6cec441e-0ad3-4258-bc94-c839772114fa"
   },
   "outputs": [
    {
     "name": "stdout",
     "output_type": "stream",
     "text": [
      "Model: \"sequential\"\n",
      "_________________________________________________________________\n",
      " Layer (type)                Output Shape              Param #   \n",
      "=================================================================\n",
      " dense (Dense)               (None, 10)                210       \n",
      "                                                                 \n",
      " dropout (Dropout)           (None, 10)                0         \n",
      "                                                                 \n",
      " dense_1 (Dense)             (None, 10)                110       \n",
      "                                                                 \n",
      " dropout_1 (Dropout)         (None, 10)                0         \n",
      "                                                                 \n",
      " dense_2 (Dense)             (None, 1)                 11        \n",
      "                                                                 \n",
      "=================================================================\n",
      "Total params: 331\n",
      "Trainable params: 331\n",
      "Non-trainable params: 0\n",
      "_________________________________________________________________\n"
     ]
    }
   ],
   "source": [
    "# Summary of layers\n",
    "model.summary()"
   ]
  },
  {
   "cell_type": "code",
   "execution_count": 15,
   "metadata": {
    "colab": {
     "base_uri": "https://localhost:8080/",
     "height": 644
    },
    "id": "-p5ttIDkZzb8",
    "outputId": "6100353a-671a-4e1c-8169-757471e89b73"
   },
   "outputs": [
    {
     "data": {
      "image/png": "[encoded data removed]",
      "text/plain": [
       "<IPython.core.display.Image object>"
      ]
     },
     "execution_count": 15,
     "metadata": {},
     "output_type": "execute_result"
    }
   ],
   "source": [
    "plot_model(model, to_file='model_plot2.png', show_shapes=True, show_layer_names=True)"
   ]
  },
  {
   "cell_type": "markdown",
   "metadata": {
    "id": "V3919nMaaOpK"
   },
   "source": [
    "### Build network and train it untill validation loss reduces (EarlyStopping)\n"
   ]
  },
  {
   "cell_type": "code",
   "execution_count": 16,
   "metadata": {
    "id": "Nhy5KMRLZjo7"
   },
   "outputs": [],
   "source": [
    "######## Compiling our model\n",
    "model.compile(loss='binary_crossentropy', optimizer='adam', metrics=['accuracy'])"
   ]
  },
  {
   "cell_type": "code",
   "execution_count": 17,
   "metadata": {
    "colab": {
     "base_uri": "https://localhost:8080/"
    },
    "id": "qig2-Q9bZs58",
    "outputId": "2b688915-a4aa-43c2-ea98-1a946ee2390b"
   },
   "outputs": [
    {
     "name": "stdout",
     "output_type": "stream",
     "text": [
      "Epoch 1/10\n",
      "16/16 [==============================] - 2s 16ms/step - loss: 0.6764 - accuracy: 0.6087 - val_loss: 0.5702 - val_accuracy: 0.7326\n",
      "Epoch 2/10\n",
      "16/16 [==============================] - 0s 4ms/step - loss: 0.5794 - accuracy: 0.7060 - val_loss: 0.4954 - val_accuracy: 0.8140\n",
      "Epoch 3/10\n",
      "16/16 [==============================] - 0s 5ms/step - loss: 0.5105 - accuracy: 0.7867 - val_loss: 0.4384 - val_accuracy: 0.8721\n",
      "Epoch 4/10\n",
      "16/16 [==============================] - 0s 5ms/step - loss: 0.4543 - accuracy: 0.8551 - val_loss: 0.3909 - val_accuracy: 0.9186\n",
      "Epoch 5/10\n",
      "16/16 [==============================] - 0s 5ms/step - loss: 0.4125 - accuracy: 0.8758 - val_loss: 0.3543 - val_accuracy: 0.9186\n",
      "Epoch 6/10\n",
      "16/16 [==============================] - 0s 3ms/step - loss: 0.3754 - accuracy: 0.8613 - val_loss: 0.3250 - val_accuracy: 0.9186\n",
      "Epoch 7/10\n",
      "16/16 [==============================] - 0s 4ms/step - loss: 0.3491 - accuracy: 0.8737 - val_loss: 0.3009 - val_accuracy: 0.9186\n",
      "Epoch 8/10\n",
      "16/16 [==============================] - 0s 5ms/step - loss: 0.3267 - accuracy: 0.9006 - val_loss: 0.2794 - val_accuracy: 0.9186\n",
      "Epoch 9/10\n",
      "16/16 [==============================] - 0s 4ms/step - loss: 0.3100 - accuracy: 0.8965 - val_loss: 0.2612 - val_accuracy: 0.9419\n",
      "Epoch 10/10\n",
      "16/16 [==============================] - 0s 5ms/step - loss: 0.2835 - accuracy: 0.9130 - val_loss: 0.2446 - val_accuracy: 0.9419\n"
     ]
    },
    {
     "data": {
      "text/plain": [
       "<keras.callbacks.History at 0x7f816ac0e890>"
      ]
     },
     "execution_count": 17,
     "metadata": {},
     "output_type": "execute_result"
    }
   ],
   "source": [
    "######## Fitting our model to the training set\n",
    "scaler = StandardScaler()\n",
    "\n",
    "# Setting model hyperparameters\n",
    "num_epochs = 10  # we iterate up to 10 times over the entire training set \n",
    "batch_size = 32\n",
    "\n",
    "model.fit(scaler.fit_transform(x_train), y_train, epochs=num_epochs, batch_size=batch_size, \n",
    "          shuffle=True, validation_data=(scaler.fit_transform(x_test), y_test))"
   ]
  },
  {
   "cell_type": "markdown",
   "metadata": {
    "id": "hjsw8wEPJdNh"
   },
   "source": [
    "### Batch size & Epochs\n",
    "* Batch size defines number of samples that going to be propagated through the network.\n",
    "\n",
    "* An Epoch is a complete pass through all the training data."
   ]
  },
  {
   "cell_type": "markdown",
   "metadata": {
    "id": "8weZaKvkHjUm"
   },
   "source": [
    "<center><ins>Explanation of parameters usefulness in the procedure:</ins></center>\n",
    "\n",
    "* Epoch - A single pass over the entire training dataset.\n",
    "* Mini-batch - Number of samples to pass thru the model before performing a single update of its weights.\n",
    "* Iterations - Number of required mini-batches to complete a full epoch.\n",
    "\n",
    "<ins>Comment1:</ins> Iterations per epoch are set automatically according to how many training examples there are present. \n",
    "\n",
    "<ins>Comment2:</ins> If we want to change the number of passes over the data, we use the epoch number.\n",
    "\n",
    "\n",
    "&rarr; In general: \n",
    "> Larger batch sizes result in faster progress in training, but don't always converge as fast. Smaller batch sizes train slower, but can converge faster. It's definitely problem dependent. The models improve with more epochs of training, to a point. They'll start to plateau in accuracy as they converge.\n",
    "\n",
    "&rarr; In our case: \n",
    "> We have a relative training small dataset, so we would probably be safe using a batch size of 32, which is pretty standard."
   ]
  },
  {
   "cell_type": "code",
   "execution_count": 18,
   "metadata": {
    "id": "9uH02tCLbA7L"
   },
   "outputs": [],
   "source": [
    "# Predicting the test set results\n",
    "y_pred = model.predict(scaler.transform(x_test))"
   ]
  },
  {
   "cell_type": "markdown",
   "metadata": {
    "id": "qIPfQyy6HjUm"
   },
   "source": [
    "The predictions above contained the different values , so we decided to use a threshold value in order to convert the predicting values into values like True, False."
   ]
  },
  {
   "cell_type": "code",
   "execution_count": 19,
   "metadata": {
    "colab": {
     "base_uri": "https://localhost:8080/"
    },
    "id": "kGwL0hWPJdNi",
    "outputId": "c3143180-1f6b-471b-a928-72ff762f2893"
   },
   "outputs": [
    {
     "name": "stdout",
     "output_type": "stream",
     "text": [
      "[[False]\n",
      " [ True]\n",
      " [ True]\n",
      " [ True]\n",
      " [False]]\n"
     ]
    }
   ],
   "source": [
    "# Converting values\n",
    "y_pred = (y_pred > 0.5)\n",
    "print(y_pred[:5])"
   ]
  },
  {
   "cell_type": "code",
   "execution_count": 20,
   "metadata": {
    "colab": {
     "base_uri": "https://localhost:8080/"
    },
    "id": "XVRM2_2BgE3L",
    "outputId": "7d45226e-bf27-4be0-97e5-aec782a868de"
   },
   "outputs": [
    {
     "name": "stdout",
     "output_type": "stream",
     "text": [
      "3/3 [==============================] - 0s 4ms/step - loss: 0.2446 - accuracy: 0.9419\n",
      "\n",
      "Test categorical_crossentropy: 0.2446\n",
      "\n",
      "Test accuracy: 94.19 %\n"
     ]
    }
   ],
   "source": [
    "# Evaluate the trained model on the test set and store on score variable\n",
    "score = model.evaluate(\n",
    "    scaler.transform(x_test), # features\n",
    "    y_test,                   # labels\n",
    "    batch_size=batch_size,    # batch size\n",
    "    verbose=1                 # the most extended verbose\n",
    ")\n",
    "\n",
    "print('\\nTest categorical_crossentropy: {:.4f}'.format(score[0]))\n",
    "print('\\nTest accuracy: {:.2f} %'.format(score[1]*100))"
   ]
  },
  {
   "cell_type": "code",
   "execution_count": 21,
   "metadata": {
    "colab": {
     "base_uri": "https://localhost:8080/"
    },
    "id": "1-_gyLo5JdNi",
    "outputId": "1d576af5-6359-4619-a292-6cf43544e30d"
   },
   "outputs": [
    {
     "name": "stdout",
     "output_type": "stream",
     "text": [
      "[[29  3]\n",
      " [ 2 52]]\n"
     ]
    }
   ],
   "source": [
    "# Confusion Matrix of the predicted values\n",
    "cm = confusion_matrix(y_test, y_pred)\n",
    "print(cm)"
   ]
  },
  {
   "cell_type": "code",
   "execution_count": 22,
   "metadata": {
    "colab": {
     "base_uri": "https://localhost:8080/"
    },
    "id": "HaAGHSuhhOy4",
    "outputId": "a8161631-c79f-484c-e646-8b49e55f99a2"
   },
   "outputs": [
    {
     "name": "stdout",
     "output_type": "stream",
     "text": [
      "Accuracy of ANN classifier on test set: 0.94\n",
      "\n",
      "Classification report for classifier <keras.engine.sequential.Sequential object at 0x7f816ea6d190>:\n",
      "              precision    recall  f1-score   support\n",
      "\n",
      "           0       0.94      0.91      0.92        32\n",
      "           1       0.95      0.96      0.95        54\n",
      "\n",
      "    accuracy                           0.94        86\n",
      "   macro avg       0.94      0.93      0.94        86\n",
      "weighted avg       0.94      0.94      0.94        86\n",
      "\n",
      "\n"
     ]
    }
   ],
   "source": [
    "print('Accuracy of ANN classifier on test set: {:.2f}'.format(accuracy_score(y_test, y_pred)))\n",
    "\n",
    "print(\"\\nClassification report for classifier %s:\\n%s\\n\"\n",
    "      % (model, metrics.classification_report(y_test, y_pred)))\n",
    "\n",
    "### print(classification_report(y_test, predictions))"
   ]
  },
  {
   "cell_type": "code",
   "execution_count": 23,
   "metadata": {
    "colab": {
     "base_uri": "https://localhost:8080/"
    },
    "id": "pWvTv_33I2XG",
    "outputId": "5f2b6fdb-df85-4bfc-b2a1-ca043057cc21"
   },
   "outputs": [
    {
     "name": "stdout",
     "output_type": "stream",
     "text": [
      "Area Under Curve (AUC) is equal to: 0.935\n"
     ]
    }
   ],
   "source": [
    "auc = metrics.roc_auc_score(y_test, y_pred)\n",
    "print('Area Under Curve (AUC) is equal to: {:.3f}'.format(auc))"
   ]
  },
  {
   "cell_type": "markdown",
   "metadata": {
    "id": "ZS7Q1ZI-gm1i"
   },
   "source": [
    "# <center>Conclusions (Neural Networks)</center>\n",
    "\n",
    "For identifying the best hyper-parameters for which our neural network model presented the best results, we could for example:\n",
    "\n",
    "* Add extra layers with different dimensionality of the output space or check different values of the layers' dimensionality\n",
    "\n",
    "* Check different kernel size\n",
    "\n",
    "* Check different batch sizes and number of epochs\n",
    "\n",
    "* Check the effect from using different values in the dropout layer"
   ]
  }
 ],
 "metadata": {
  "colab": {
   "collapsed_sections": [],
   "name": "Neural_Networks (1).ipynb",
   "provenance": []
  },
  "kernelspec": {
   "display_name": "venv1kernel",
   "language": "python",
   "name": "venv1kernel"
  },
  "language_info": {
   "codemirror_mode": {
    "name": "ipython",
    "version": 3
   },
   "file_extension": ".py",
   "mimetype": "text/x-python",
   "name": "python",
   "nbconvert_exporter": "python",
   "pygments_lexer": "ipython3",
   "version": "3.7.3"
  }
 },
 "nbformat": 4,
 "nbformat_minor": 1
}
